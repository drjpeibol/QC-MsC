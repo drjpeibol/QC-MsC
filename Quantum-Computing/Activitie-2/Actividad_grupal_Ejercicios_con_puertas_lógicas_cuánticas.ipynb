{
  "nbformat": 4,
  "nbformat_minor": 0,
  "metadata": {
    "colab": {
      "provenance": []
    },
    "kernelspec": {
      "name": "python3",
      "display_name": "Python 3"
    },
    "language_info": {
      "name": "python"
    }
  },
  "cells": [
    {
      "cell_type": "markdown",
      "source": [
        "# Índice\n",
        ">[Actividad grupal: Ejercicios con puertas lógicas cuánticas](#scrollTo=IniU1uy5jDBm)\n",
        "\n",
        ">>[Objetivos](#scrollTo=IniU1uy5jDBm)\n",
        "\n",
        ">>[Pautas de elaboración](#scrollTo=IniU1uy5jDBm)\n",
        "\n",
        ">>>[Ejercicio 1](#scrollTo=IniU1uy5jDBm)\n",
        "\n",
        ">>>[Ejercicio 2](#scrollTo=IniU1uy5jDBm)\n",
        "\n",
        ">>>[Ejercicio 3](#scrollTo=IniU1uy5jDBm)\n",
        "\n",
        ">>[Desarrollo](#scrollTo=IniU1uy5jDBm)\n",
        "\n",
        ">>>[Configuración del entorno](#scrollTo=w17mjP_AKnQU)\n",
        "\n",
        ">>>[Importación de librerías](#scrollTo=HyET-FJGIDga)\n",
        "\n",
        ">>>[Ejercicio 1](#scrollTo=oxDuLrqBkSuH)\n",
        "\n",
        ">>>>[Estados de Bell](#scrollTo=0Jg4bOOBLmwy)\n",
        "\n",
        ">>>>[Desarrollo matricial y en notación de Dirac](#scrollTo=GTqH0uCLUPsY)\n",
        "\n",
        ">>>>>[1. Estado de Bell 1](#scrollTo=GTqH0uCLUPsY)\n",
        "\n",
        ">>>>>[2. Estado de Bell 2](#scrollTo=GTqH0uCLUPsY)\n",
        "\n",
        ">>>>>[3. Estado de Bell 3](#scrollTo=GTqH0uCLUPsY)\n",
        "\n",
        ">>>>>[4. Estado de Bell 4](#scrollTo=GTqH0uCLUPsY)\n",
        "\n",
        ">>>[Ejercicio 2](#scrollTo=M_8Bx7oLkbJL)\n",
        "\n",
        ">>>[Ejercicio 3](#scrollTo=_ykHSYY_kceV)\n",
        "\n",
        ">>>>[Funcones Auxiliares](#scrollTo=7QDLDuQOCPsx)\n",
        "\n",
        ">>>>[Algoritmo de Teleportación Cuántica](#scrollTo=evpX0KEqA3sY)\n",
        "\n"
      ],
      "metadata": {
        "colab_type": "toc",
        "id": "AXBLa3o4e3Nw"
      }
    },
    {
      "cell_type": "markdown",
      "source": [
        "# Actividad grupal: Ejercicios con puertas lógicas cuánticas\n",
        "\n",
        "**Grupo:**\n",
        "\n",
        "- Sabrina Álvarez Vásquez\n",
        "- Héctor Casas Tarifa\n",
        "- Eduardo Muñoz Orive\n",
        "- Pablo Serrano Molinero\n",
        "\n",
        "\n",
        "## Objetivos\n",
        "\n",
        "A través de esta actividad, podrás adquirir las competencias necesarias para utilizar las puertas cuánticas básicas, así como comprender la evolución del estado cuántico, los estados de Bell y la implementación de un incrementador.\n",
        "\n",
        "## Pautas de elaboración\n",
        "\n",
        "### Ejercicio 1\n",
        "Implementa cuatro circuitos cuánticos de manera que cada uno de ellos haga evolucionar el estado del sistema a cada uno de los cuatro estados de Bell. Describe la evolución del sistema paso a paso utilizando notación de Dirac y en forma matricial. Finalmente, implementa los circuitos utilizando QISKIt Quantum Lab y verifica que los resultados son los esperados.\n",
        "\n",
        "### Ejercicio 2\n",
        "Implementa circuitos con cuatro cúbits que sumen al registro cuántico los valores $1, 2, 3, 4, 5, 6, 7$ y $8$. Verifica que los circuitos funcionen correctamente utilizando QISKit Quantum Lab.\n",
        "\n",
        "### Ejercicio 3\n",
        "Implementa en Python el algoritmo de teleportación cuántica para transferir el estado |$\\psi$⟩ del cúbit de Alice al cúbit de Bob. El estado |$\\psi$⟩ viene determinado por los ángulos $\\theta=37.5$ grados y $\\phi=13.4$ grados en la esfera de Bloch.\n",
        "\n",
        "## Desarrollo\n",
        "\n",
        "\n"
      ],
      "metadata": {
        "id": "IniU1uy5jDBm"
      }
    },
    {
      "cell_type": "markdown",
      "source": [
        "### Configuración del entorno\n",
        "Instalación de librerías necesarias si no estuvieran instaladas"
      ],
      "metadata": {
        "id": "w17mjP_AKnQU"
      }
    },
    {
      "cell_type": "code",
      "source": [
        "try:\n",
        "    import qiskit\n",
        "    import pylatexenc\n",
        "    print(\"qiskit y pylatexenc ya están instalados.\")\n",
        "except ImportError:\n",
        "    print(\"qiskit y pylatexenc no están instalados. Instalando...\")\n",
        "    !pip install qiskit qiskit-aer pylatexenc\n"
      ],
      "metadata": {
        "colab": {
          "base_uri": "https://localhost:8080/"
        },
        "id": "ISZ8z2vekKgV",
        "outputId": "8e55479a-74fa-494c-f516-6e04a03d08bc"
      },
      "execution_count": null,
      "outputs": [
        {
          "output_type": "stream",
          "name": "stdout",
          "text": [
            "qiskit y pylatexenc no están instalados. Instalando...\n",
            "Collecting qiskit\n",
            "  Downloading qiskit-0.45.1-py3-none-any.whl (9.6 kB)\n",
            "Collecting qiskit-aer\n",
            "  Downloading qiskit_aer-0.13.1-cp310-cp310-manylinux_2_17_x86_64.manylinux2014_x86_64.whl (12.3 MB)\n",
            "\u001b[2K     \u001b[90m━━━━━━━━━━━━━━━━━━━━━━━━━━━━━━━━━━━━━━━━\u001b[0m \u001b[32m12.3/12.3 MB\u001b[0m \u001b[31m48.6 MB/s\u001b[0m eta \u001b[36m0:00:00\u001b[0m\n",
            "\u001b[?25hCollecting pylatexenc\n",
            "  Downloading pylatexenc-2.10.tar.gz (162 kB)\n",
            "\u001b[2K     \u001b[90m━━━━━━━━━━━━━━━━━━━━━━━━━━━━━━━━━━━━━━━━\u001b[0m \u001b[32m162.6/162.6 kB\u001b[0m \u001b[31m10.8 MB/s\u001b[0m eta \u001b[36m0:00:00\u001b[0m\n",
            "\u001b[?25h  Preparing metadata (setup.py) ... \u001b[?25l\u001b[?25hdone\n",
            "Collecting qiskit-terra==0.45.1 (from qiskit)\n",
            "  Downloading qiskit_terra-0.45.1-cp38-abi3-manylinux_2_17_x86_64.manylinux2014_x86_64.whl (6.3 MB)\n",
            "\u001b[2K     \u001b[90m━━━━━━━━━━━━━━━━━━━━━━━━━━━━━━━━━━━━━━━━\u001b[0m \u001b[32m6.3/6.3 MB\u001b[0m \u001b[31m57.4 MB/s\u001b[0m eta \u001b[36m0:00:00\u001b[0m\n",
            "\u001b[?25hCollecting rustworkx>=0.13.0 (from qiskit-terra==0.45.1->qiskit)\n",
            "  Downloading rustworkx-0.13.2-cp310-cp310-manylinux_2_17_x86_64.manylinux2014_x86_64.whl (2.0 MB)\n",
            "\u001b[2K     \u001b[90m━━━━━━━━━━━━━━━━━━━━━━━━━━━━━━━━━━━━━━━━\u001b[0m \u001b[32m2.0/2.0 MB\u001b[0m \u001b[31m37.5 MB/s\u001b[0m eta \u001b[36m0:00:00\u001b[0m\n",
            "\u001b[?25hRequirement already satisfied: numpy<2,>=1.17 in /usr/local/lib/python3.10/dist-packages (from qiskit-terra==0.45.1->qiskit) (1.23.5)\n",
            "Collecting ply>=3.10 (from qiskit-terra==0.45.1->qiskit)\n",
            "  Downloading ply-3.11-py2.py3-none-any.whl (49 kB)\n",
            "\u001b[2K     \u001b[90m━━━━━━━━━━━━━━━━━━━━━━━━━━━━━━━━━━━━━━━━\u001b[0m \u001b[32m49.6/49.6 kB\u001b[0m \u001b[31m3.1 MB/s\u001b[0m eta \u001b[36m0:00:00\u001b[0m\n",
            "\u001b[?25hRequirement already satisfied: psutil>=5 in /usr/local/lib/python3.10/dist-packages (from qiskit-terra==0.45.1->qiskit) (5.9.5)\n",
            "Requirement already satisfied: scipy>=1.5 in /usr/local/lib/python3.10/dist-packages (from qiskit-terra==0.45.1->qiskit) (1.11.4)\n",
            "Requirement already satisfied: sympy>=1.3 in /usr/local/lib/python3.10/dist-packages (from qiskit-terra==0.45.1->qiskit) (1.12)\n",
            "Collecting dill>=0.3 (from qiskit-terra==0.45.1->qiskit)\n",
            "  Downloading dill-0.3.7-py3-none-any.whl (115 kB)\n",
            "\u001b[2K     \u001b[90m━━━━━━━━━━━━━━━━━━━━━━━━━━━━━━━━━━━━━━━━\u001b[0m \u001b[32m115.3/115.3 kB\u001b[0m \u001b[31m7.7 MB/s\u001b[0m eta \u001b[36m0:00:00\u001b[0m\n",
            "\u001b[?25hRequirement already satisfied: python-dateutil>=2.8.0 in /usr/local/lib/python3.10/dist-packages (from qiskit-terra==0.45.1->qiskit) (2.8.2)\n",
            "Collecting stevedore>=3.0.0 (from qiskit-terra==0.45.1->qiskit)\n",
            "  Downloading stevedore-5.1.0-py3-none-any.whl (49 kB)\n",
            "\u001b[2K     \u001b[90m━━━━━━━━━━━━━━━━━━━━━━━━━━━━━━━━━━━━━━━━\u001b[0m \u001b[32m49.6/49.6 kB\u001b[0m \u001b[31m4.3 MB/s\u001b[0m eta \u001b[36m0:00:00\u001b[0m\n",
            "\u001b[?25hCollecting symengine!=0.10.0,>=0.9 (from qiskit-terra==0.45.1->qiskit)\n",
            "  Downloading symengine-0.11.0-cp310-cp310-manylinux_2_12_x86_64.manylinux2010_x86_64.whl (39.4 MB)\n",
            "\u001b[2K     \u001b[90m━━━━━━━━━━━━━━━━━━━━━━━━━━━━━━━━━━━━━━━━\u001b[0m \u001b[32m39.4/39.4 MB\u001b[0m \u001b[31m14.3 MB/s\u001b[0m eta \u001b[36m0:00:00\u001b[0m\n",
            "\u001b[?25hRequirement already satisfied: typing-extensions in /usr/local/lib/python3.10/dist-packages (from qiskit-terra==0.45.1->qiskit) (4.5.0)\n",
            "Requirement already satisfied: six>=1.5 in /usr/local/lib/python3.10/dist-packages (from python-dateutil>=2.8.0->qiskit-terra==0.45.1->qiskit) (1.16.0)\n",
            "Collecting pbr!=2.1.0,>=2.0.0 (from stevedore>=3.0.0->qiskit-terra==0.45.1->qiskit)\n",
            "  Downloading pbr-6.0.0-py2.py3-none-any.whl (107 kB)\n",
            "\u001b[2K     \u001b[90m━━━━━━━━━━━━━━━━━━━━━━━━━━━━━━━━━━━━━━━━\u001b[0m \u001b[32m107.5/107.5 kB\u001b[0m \u001b[31m5.3 MB/s\u001b[0m eta \u001b[36m0:00:00\u001b[0m\n",
            "\u001b[?25hRequirement already satisfied: mpmath>=0.19 in /usr/local/lib/python3.10/dist-packages (from sympy>=1.3->qiskit-terra==0.45.1->qiskit) (1.3.0)\n",
            "Building wheels for collected packages: pylatexenc\n",
            "  Building wheel for pylatexenc (setup.py) ... \u001b[?25l\u001b[?25hdone\n",
            "  Created wheel for pylatexenc: filename=pylatexenc-2.10-py3-none-any.whl size=136816 sha256=63ff45867349a39a2f471eebad238160be45741eaea833ed48395317b09b4a68\n",
            "  Stored in directory: /root/.cache/pip/wheels/d3/31/8b/e09b0386afd80cfc556c00408c9aeea5c35c4d484a9c762fd5\n",
            "Successfully built pylatexenc\n",
            "Installing collected packages: pylatexenc, ply, symengine, rustworkx, pbr, dill, stevedore, qiskit-terra, qiskit, qiskit-aer\n",
            "Successfully installed dill-0.3.7 pbr-6.0.0 ply-3.11 pylatexenc-2.10 qiskit-0.45.1 qiskit-aer-0.13.1 qiskit-terra-0.45.1 rustworkx-0.13.2 stevedore-5.1.0 symengine-0.11.0\n"
          ]
        }
      ]
    },
    {
      "cell_type": "markdown",
      "source": [
        "### Importación de librerías\n",
        "Para el desarrollo de esta práctica importaremos las siguientes librerías."
      ],
      "metadata": {
        "id": "HyET-FJGIDga"
      }
    },
    {
      "cell_type": "code",
      "execution_count": null,
      "metadata": {
        "id": "RkZdXOZ1ikXe"
      },
      "outputs": [],
      "source": [
        "# Herramientas matemáticas\n",
        "import numpy as np\n",
        "from math import pi\n",
        "\n",
        "# Implmentaciones cuánticas\n",
        "from qiskit import QuantumCircuit, QuantumRegister, ClassicalRegister, execute, Aer\n",
        "from qiskit.visualization import plot_histogram, circuit_drawer\n",
        "from qiskit import QuantumRegister, ClassicalRegister, QuantumCircuit\n",
        "from qiskit.circuit.library import C3XGate\n",
        "from qiskit.providers.aer import AerSimulator\n",
        "\n",
        "# Visualización\n",
        "import matplotlib.pyplot as plt"
      ]
    },
    {
      "cell_type": "markdown",
      "source": [
        "### Ejercicio 1\n",
        "Implementa cuatro circuitos cuánticos de manera que cada uno de ellos haga evolucionar el estado del sistema a cada uno de los cuatro estados de Bell. Describe la evolución del sistema paso a paso utilizando notación de Dirac y en forma matricial. Finalmente, implementa los circuitos utilizando QISKIt Quantum Lab y verifica que los resultados son los esperados."
      ],
      "metadata": {
        "id": "oxDuLrqBkSuH"
      }
    },
    {
      "cell_type": "markdown",
      "source": [
        "#### Estados de Bell\n",
        "\n",
        "Los estados de Bell son cuatro estados cuánticos que forman una base ortonormal del espacio de Hilbert de dos qubits. Estos estados son importantes porque son estados maximamente entrelazados. Los estados de Bell son:\n",
        "\n",
        "* $|\\Phi^+\\rangle = \\frac{1}{\\sqrt{2}}(|00\\rangle + |11\\rangle)$ -> B1\n",
        "* $|\\Phi^-\\rangle = \\frac{1}{\\sqrt{2}}(|00\\rangle - |11\\rangle)$ -> B2\n",
        "* $|\\Psi^+\\rangle = \\frac{1}{\\sqrt{2}}(|01\\rangle + |10\\rangle)$ -> B3\n",
        "* $|\\Psi^-\\rangle = \\frac{1}{\\sqrt{2}}(|01\\rangle - |10\\rangle)$ -> B4\n",
        "\n",
        "Implementaremos una función que nos permita obtener estos estados. Esta funcíon creará un circuito haciendo uso de las ya conocidadas puertas $X$ y $H$, pero también hará uso de la puerta $CNOT$ y la puerta $Z$.\n",
        "\n",
        "$CNOT = \\begin{bmatrix} 1 & 0 & 0 & 0 \\\\\n",
        "                        0 & 1 & 0 & 0 \\\\\n",
        "                       0 & 0 & 0 & 1 \\\\\n",
        "                      0 & 0 & 1 & 0 \\end{bmatrix}$\n",
        "\n",
        "Esta puerta es una puerta $X$ controlada, es decir, que si el qubit de control está en estado $|1\\rangle$ se aplica la puerta $X$ al qubit objetivo, si el qubit de control está en estado $|0\\rangle$ no se aplica la puerta $X$ al qubit objetivo.\n",
        "\n",
        "$Z = \\begin{bmatrix} 1 & 0 \\\\ 0 & -1 \\end{bmatrix}$\n",
        "\n",
        "Esta puerta nos permite realizar una rotación de $180º$ alrededor del eje $Z$ en el plano de la esfera de Bloch. Esta puerta también se conoce como phase flip ya que cambia la fase del estado $|1\\rangle$.\n",
        "\n",
        "La función que desarrollaremos hará lo siguiente:\n",
        "\n",
        "* Para el primer estado de Bell el circuito estaría formado por una puerta $H$ en el primer qubit y una puerta $CNOT$ con el primer qubit como control y el segundo qubit como objetivo. Esto genera un estado en superposición $|+\\rangle$ y luego aplica la puerta $X$ al segundo qubit si el primer qubit está en estado $|1\\rangle$, generando así el estado $|\\Phi^+\\rangle$.\n",
        "\n",
        "* Para el segundo estado de Bell el circuito estaría formado por una puerta $X$ y una $H$ en el primer qubit y una puerta $CNOT$ con el primer qubit como control y el segundo qubit como objetivo. Esto genera un estado en superposición $|-\\rangle$ primero y luego aplica la puerta $X$ al segundo qubit si el primer qubit está en estado $|1\\rangle$, generando así el estado $|\\Phi^-\\rangle$.\n",
        "\n",
        "* Para el tercer estado de Bell el circuito estaría formado por una puerta $H$ en el primer qubit, una puerta $X$ en el segundo qubit y una puerta $CNOT$ con el primer qubit como control y el segundo qubit como objetivo. Esto genera un estado en superposición $|+\\rangle$ primero, luego aplica la puerta $X$ al segundo qubit y por último la $CNOT$ aplica $X$ si el primer qubit está en estado $|1\\rangle$, generando así el estado $|\\Psi^+\\rangle$.\n",
        "\n",
        "* Para el cuarto estado de Bell el circuito estaría formado por una puerta $H$ y una $X$ en el primer qubit, una puerta $X$ y una $Z$ en el segundo qubit y una puerta $CNOT$ con el primer qubit como control y el segundo qubit como objetivo. Esto genera un estado en superposición $|-\\rangle$ primero, luego aplica la puerta $X$ y la $Z$ al segundo qubit y por último la $CNOT$ aplica $X$ si el primer qubit está en estado $|1\\rangle$, generando así el estado $|\\Psi^-\\rangle$."
      ],
      "metadata": {
        "id": "0Jg4bOOBLmwy"
      }
    },
    {
      "cell_type": "code",
      "source": [
        "# Crearemos una función que nos devuelva el circuito correspondiente al estado de bell elegido\n",
        "\n",
        "def bell(estado):\n",
        "    \"\"\"\n",
        "    Devuelve el estado de Bell elegido\n",
        "\n",
        "    Args:\n",
        "        estado (char): estado de Bell elegido\n",
        "\n",
        "    Returns:\n",
        "        statevector: estado de Bell elegido\n",
        "    \"\"\"\n",
        "    # Creamos un circuito cuántico con 2 qubits\n",
        "    circuito = QuantumCircuit(2)\n",
        "\n",
        "    if estado == \"B1\":\n",
        "        circuito.h(0)\n",
        "        circuito.cx(0,1)\n",
        "\n",
        "    elif estado == \"B2\":\n",
        "        circuito.x(0)\n",
        "        circuito.h(0)\n",
        "        circuito.cx(0,1)\n",
        "\n",
        "    elif estado == \"B3\":\n",
        "        circuito.x(1)\n",
        "        circuito.h(0)\n",
        "        circuito.cx(0,1)\n",
        "\n",
        "    elif estado == \"B4\":\n",
        "        circuito.x(1)\n",
        "        circuito.x(0)\n",
        "        circuito.h(0)\n",
        "        circuito.z(1)\n",
        "        circuito.cx(0,1)\n",
        "\n",
        "    else:\n",
        "        print(\"No existe ese estado de Bell\")\n",
        "        return None\n",
        "\n",
        "    # Devolvemos el estado de Bell elegido\n",
        "    return circuito"
      ],
      "metadata": {
        "id": "gO_TD_vTkH0U"
      },
      "execution_count": null,
      "outputs": []
    },
    {
      "cell_type": "markdown",
      "source": [
        "Una vez definida la función que nos creará los circuitos generadores de los estados de Bell, vamos a obtenerlos."
      ],
      "metadata": {
        "id": "JGseFHJiMvtP"
      }
    },
    {
      "cell_type": "code",
      "source": [
        "# Dibuja los circuitos en una cuadrícula\n",
        "fig, axs = plt.subplots(2, 2, figsize=(10, 10))\n",
        "\n",
        "# Dibuja el primer circuito\n",
        "circuit_drawer(bell(\"B1\"), output='mpl', ax=axs[0, 0])\n",
        "axs[0, 0].set_title('Circuito Estado de Bell 1')\n",
        "\n",
        "# Dibuja el segundo circuito\n",
        "circuit_drawer(bell(\"B2\"), output='mpl', ax=axs[0, 1])\n",
        "axs[0, 1].set_title('Circuito Estado de Bell 2')\n",
        "\n",
        "# Dibuja el tercer circuito\n",
        "circuit_drawer(bell(\"B3\"), output='mpl', ax=axs[1, 0])\n",
        "axs[1, 0].set_title('Circuito Estado de Bell 3')\n",
        "\n",
        "# Dibuja el cuarto circuito\n",
        "circuit_drawer(bell(\"B4\"), output='mpl', ax=axs[1, 1])\n",
        "axs[1, 1].set_title('Circuito Estado de Bell 4')\n",
        "\n",
        "plt.show()"
      ],
      "metadata": {
        "id": "LZgQY-yaMwLW",
        "colab": {
          "base_uri": "https://localhost:8080/",
          "height": 780
        },
        "outputId": "ee793b2c-99e4-4ba2-c3f8-b863b7b76d30"
      },
      "execution_count": null,
      "outputs": [
        {
          "output_type": "stream",
          "name": "stderr",
          "text": [
            "/usr/local/lib/python3.10/dist-packages/qiskit/visualization/circuit/matplotlib.py:266: FutureWarning: The default matplotlib drawer scheme will be changed to \"iqp\" in a following release. To silence this warning, specify the current default explicitly as style=\"clifford\", or the new default as style=\"iqp\".\n",
            "  self._style, def_font_ratio = load_style(self._style)\n"
          ]
        },
        {
          "output_type": "display_data",
          "data": {
            "text/plain": [
              "<Figure size 1000x1000 with 4 Axes>"
            ],
            "image/png": "[encoded data removed]"
          },
          "metadata": {}
        }
      ]
    },
    {
      "cell_type": "markdown",
      "source": [
        "Representamos ahora los diferentes estados de Bell"
      ],
      "metadata": {
        "id": "Q15NjNi2M1Ql"
      }
    },
    {
      "cell_type": "code",
      "source": [
        "# Evaluamos el circuito\n",
        "ket_b1 = execute(bell(\"B1\"), backend=Aer.get_backend(\"statevector_simulator\")).result().get_statevector()\n",
        "ket_b2 = execute(bell(\"B2\"), backend=Aer.get_backend(\"statevector_simulator\")).result().get_statevector()\n",
        "ket_b3 = execute(bell(\"B3\"), backend=Aer.get_backend(\"statevector_simulator\")).result().get_statevector()\n",
        "ket_b4 = execute(bell(\"B4\"), backend=Aer.get_backend(\"statevector_simulator\")).result().get_statevector()\n",
        "\n",
        "# Representamos el estado\n",
        "# EStado\n",
        "print(\"Estado: \")\n",
        "ket_b1.draw('latex')\n"
      ],
      "metadata": {
        "id": "C1FtSgjnM1ld",
        "colab": {
          "base_uri": "https://localhost:8080/",
          "height": 58
        },
        "outputId": "c22bb032-f667-4ad6-bfb2-1cc4ae007577"
      },
      "execution_count": null,
      "outputs": [
        {
          "output_type": "stream",
          "name": "stdout",
          "text": [
            "Estado: \n"
          ]
        },
        {
          "output_type": "execute_result",
          "data": {
            "text/plain": [
              "<IPython.core.display.Latex object>"
            ],
            "text/latex": "$$\\frac{\\sqrt{2}}{2} |00\\rangle+\\frac{\\sqrt{2}}{2} |11\\rangle$$"
          },
          "metadata": {},
          "execution_count": 5
        }
      ]
    },
    {
      "cell_type": "code",
      "source": [
        "# Representamos el estado\n",
        "# EStado\n",
        "print(\"Estado: \")\n",
        "ket_b2.draw('latex')"
      ],
      "metadata": {
        "id": "0BdTq0vxM2a8",
        "colab": {
          "base_uri": "https://localhost:8080/",
          "height": 58
        },
        "outputId": "b052f421-0817-435c-fb4a-e37c585354c9"
      },
      "execution_count": null,
      "outputs": [
        {
          "output_type": "stream",
          "name": "stdout",
          "text": [
            "Estado: \n"
          ]
        },
        {
          "output_type": "execute_result",
          "data": {
            "text/plain": [
              "<IPython.core.display.Latex object>"
            ],
            "text/latex": "$$\\frac{\\sqrt{2}}{2} |00\\rangle- \\frac{\\sqrt{2}}{2} |11\\rangle$$"
          },
          "metadata": {},
          "execution_count": 6
        }
      ]
    },
    {
      "cell_type": "code",
      "source": [
        "# Representamos el estado\n",
        "# EStado\n",
        "print(\"Estado: \")\n",
        "ket_b3.draw('latex')"
      ],
      "metadata": {
        "id": "JS9ymaWBM46A",
        "colab": {
          "base_uri": "https://localhost:8080/",
          "height": 58
        },
        "outputId": "ce7967e4-05ea-4133-aa13-ac791b1af99a"
      },
      "execution_count": null,
      "outputs": [
        {
          "output_type": "stream",
          "name": "stdout",
          "text": [
            "Estado: \n"
          ]
        },
        {
          "output_type": "execute_result",
          "data": {
            "text/plain": [
              "<IPython.core.display.Latex object>"
            ],
            "text/latex": "$$\\frac{\\sqrt{2}}{2} |01\\rangle+\\frac{\\sqrt{2}}{2} |10\\rangle$$"
          },
          "metadata": {},
          "execution_count": 7
        }
      ]
    },
    {
      "cell_type": "code",
      "source": [
        "# Representamos el estado\n",
        "# EStado\n",
        "print(\"Estado: \")\n",
        "ket_b4.draw('latex')"
      ],
      "metadata": {
        "id": "kvcqFNUJM63S",
        "colab": {
          "base_uri": "https://localhost:8080/",
          "height": 58
        },
        "outputId": "5280f179-a8df-49be-e3b7-d504c34669bb"
      },
      "execution_count": null,
      "outputs": [
        {
          "output_type": "stream",
          "name": "stdout",
          "text": [
            "Estado: \n"
          ]
        },
        {
          "output_type": "execute_result",
          "data": {
            "text/plain": [
              "<IPython.core.display.Latex object>"
            ],
            "text/latex": "$$\\frac{\\sqrt{2}}{2} |01\\rangle- \\frac{\\sqrt{2}}{2} |10\\rangle$$"
          },
          "metadata": {},
          "execution_count": 8
        }
      ]
    },
    {
      "cell_type": "markdown",
      "source": [
        "#### **Desarrollo matricial y en notación de Dirac**\n",
        "A continuación, describiremos la evolución de los circuitos utilizados para obtener los distintos estados de Bell utilizando tanto la notación de Dirac como la notación matricial.\n",
        "##### **1. Estado de Bell 1**\n",
        "Comenzamos describiendo el proceso en notación de Dirac. En este caso, el circuito consta de una puerta Hadamard actuando sobre el qubit 0 y una puerta CNOT cuyo qubit objetivo es el qubit 1 y cuyo qubit de control es el 0.\n",
        "\n",
        "Recordemos que para calcular la matriz unitaria total de un circuito cuántico debemos realizar el producto matricial cuando tengamos puertas cuánticas en serie y el producto tensorial cuando tengamos puertas cuánticas en paralelo.\n",
        "En nuestro caso, debemos realizar el producto tensorial de una matriz unitaria (ya que sobre el qubit 1 no está actuando ninguna puerta en paralelo con la puerta hadamard) y una puerta hadamard. El resultado será una puerta actuando en serie con la puerta CNOT por lo que deberemos realizar el producto matricial para calcular la matriz total:\n",
        "\n",
        "$U=CX \\cdot (I \\otimes H)$\n",
        "\n",
        "Así pues, el estado resultante será el siguiente:\n",
        "\n",
        "$ | \\psi \\rangle =U |0 \\rangle=| \\Phi^+ \\rangle $\n",
        "\n",
        "Veamos el desarrollo matricial:\n",
        "\n",
        "$U=CX \\cdot (I \\otimes H)=\\begin{pmatrix} 1 & 0 & 0 & 0\\\\ 0 & 0 & 0 & 1\\\\ 0 & 0 & 1 & 0\\\\ 0 & 1 & 0 & 0 \\end{pmatrix} \\cdot \\left( \\begin{pmatrix} 1 & 0 \\\\ 0 & 1 \\end{pmatrix} \\otimes \\begin{pmatrix} \\frac{\\sqrt{2}}{2} & \\frac{\\sqrt{2}}{2} \\\\ \\frac{\\sqrt{2}}{2} & -\\frac{\\sqrt{2}}{2} \\end{pmatrix} \\right) = $\n",
        "\n",
        "$= \\begin{pmatrix} 1 & 0 & 0 & 0\\\\ 0 & 0 & 0 & 1\\\\ 0 & 0 & 1 & 0\\\\ 0 & 1 & 0 & 0 \\end{pmatrix} \\cdot \\begin{pmatrix} \\frac{\\sqrt{2}}{2} & \\frac{\\sqrt{2}}{2} & 0 & 0\\\\ \\frac{\\sqrt{2}}{2} & -\\frac{\\sqrt{2}}{2} & 0 & 0\\\\ 0 & 0 & \\frac{\\sqrt{2}}{2} & \\frac{\\sqrt{2}}{2}\\\\ 0 & 0 & \\frac{\\sqrt{2}}{2} & -\\frac{\\sqrt{2}}{2} \\end{pmatrix} = \\begin{pmatrix} \\frac{\\sqrt{2}}{2} & \\frac{\\sqrt{2}}{2} & 0 & 0\\\\ 0 & 0 & \\frac{\\sqrt{2}}{2} & -\\frac{\\sqrt{2}}{2}\\\\ 0 & 0 & \\frac{\\sqrt{2}}{2} & \\frac{\\sqrt{2}}{2}\\\\ \\frac{\\sqrt{2}}{2} & -\\frac{\\sqrt{2}}{2} & 0 & 0 \\end{pmatrix}$\n",
        "\n",
        "De este modo, el estado resultante será:\n",
        "\n",
        "$ \\begin{pmatrix} \\frac{\\sqrt{2}}{2} & \\frac{\\sqrt{2}}{2} & 0 & 0\\\\ 0 & 0 & \\frac{\\sqrt{2}}{2} & -\\frac{\\sqrt{2}}{2}\\\\ 0 & 0 & \\frac{\\sqrt{2}}{2} & \\frac{\\sqrt{2}}{2}\\\\ \\frac{\\sqrt{2}}{2} & -\\frac{\\sqrt{2}}{2} & 0 & 0 \\end{pmatrix} \\cdot \\begin{pmatrix} 1 \\\\ 0 \\\\0 \\\\ 0 \\end{pmatrix} = \\begin{pmatrix} \\frac{\\sqrt{2}}{2} \\\\ 0 \\\\0 \\\\ \\frac{\\sqrt{2}}{2} \\end{pmatrix}$\n",
        "\n",
        "##### **2. Estado de Bell 2**\n",
        "En notación de Dirac:\n",
        "\n",
        "$U=CX \\cdot (I \\otimes H) \\cdot (I \\otimes X) \\Rightarrow | \\psi \\rangle = U |0 \\rangle = | \\Phi^- \\rangle $\n",
        "\n",
        "En notación matricial\n",
        "\n",
        "$U=CX \\cdot (I \\otimes H) \\cdot (I \\otimes X) = \\begin{pmatrix} 1 & 0 & 0 & 0\\\\ 0 & 0 & 0 & 1\\\\ 0 & 0 & 1 & 0\\\\ 0 & 1 & 0 & 0 \\end{pmatrix} \\cdot \\left( \\begin{pmatrix} 1 & 0 \\\\ 0 & 1 \\end{pmatrix} \\otimes \\begin{pmatrix} \\frac{\\sqrt{2}}{2} & \\frac{\\sqrt{2}}{2} \\\\ \\frac{\\sqrt{2}}{2} & -\\frac{\\sqrt{2}}{2} \\end{pmatrix} \\right) \\cdot \\left( \\begin{pmatrix} 1 & 0 \\\\ 0 & 1 \\end{pmatrix} \\otimes \\begin{pmatrix} 0 & 1 \\\\ 1 & 0 \\end{pmatrix} \\right) = $\n",
        "\n",
        "$= \\begin{pmatrix} 1 & 0 & 0 & 0\\\\ 0 & 0 & 0 & 1\\\\ 0 & 0 & 1 & 0\\\\ 0 & 1 & 0 & 0 \\end{pmatrix} \\cdot \\begin{pmatrix} \\frac{\\sqrt{2}}{2} & \\frac{\\sqrt{2}}{2} & 0 & 0\\\\ \\frac{\\sqrt{2}}{2} & -\\frac{\\sqrt{2}}{2} & 0 & 0\\\\ 0 & 0 & \\frac{\\sqrt{2}}{2} & \\frac{\\sqrt{2}}{2}\\\\ 0 & 0 & \\frac{\\sqrt{2}}{2} & -\\frac{\\sqrt{2}}{2} \\end{pmatrix} \\cdot \\begin{pmatrix} 0 & 1 & 0 & 0 \\\\ 1 & 0 & 0 & 0 \\\\ 0 & 0 & 0 & 1 \\\\ 0 & 0 & 1 & 0 \\end{pmatrix} = \\begin{pmatrix} \\frac{\\sqrt{2}}{2} & \\frac{\\sqrt{2}}{2} & 0 & 0\\\\ 0 & 0 & -\\frac{\\sqrt{2}}{2} & \\frac{\\sqrt{2}}{2}\\\\ 0 & 0 & \\frac{\\sqrt{2}}{2} & \\frac{\\sqrt{2}}{2}\\\\ -\\frac{\\sqrt{2}}{2} & \\frac{\\sqrt{2}}{2} & 0 & 0 \\end{pmatrix} \\Rightarrow $\n",
        "\n",
        "$ ⇒ \\begin{pmatrix} \\frac{\\sqrt{2}}{2} & \\frac{\\sqrt{2}}{2} & 0 & 0\\\\ 0 & 0 & -\\frac{\\sqrt{2}}{2} & \\frac{\\sqrt{2}}{2}\\\\ 0 & 0 & \\frac{\\sqrt{2}}{2} & \\frac{\\sqrt{2}}{2}\\\\ -\\frac{\\sqrt{2}}{2} & \\frac{\\sqrt{2}}{2} & 0 & 0 \\end{pmatrix} \\cdot \\begin{pmatrix} 1 \\\\ 0 \\\\ 0 \\\\ 0 \\end{pmatrix} = \\begin{pmatrix} \\frac{\\sqrt{2}}{2} \\\\ 0 \\\\0 \\\\ -\\frac{\\sqrt{2}}{2} \\end{pmatrix}$\n",
        "\n",
        "##### **3. Estado de Bell 3**\n",
        "\n",
        "En notación de Dirac:\n",
        "\n",
        "$U= CX \\cdot ( X \\otimes  H) \\Rightarrow | \\psi \\rangle = U |0 \\rangle = | \\Psi^+ \\rangle $\n",
        "\n",
        "En notación matricial:\n",
        "\n",
        "$U= CX \\cdot ( X \\otimes  H) = \\begin{pmatrix} 1 & 0 & 0 & 0\\\\ 0 & 0 & 0 & 1\\\\ 0 & 0 & 1 & 0\\\\ 0 & 1 & 0 & 0 \\end{pmatrix} \\cdot \\left( \\begin{pmatrix} 0 & 1 \\\\ 1 & 0 \\end{pmatrix} \\otimes \\begin{pmatrix} \\frac{\\sqrt{2}}{2} & \\frac{\\sqrt{2}}{2} \\\\ \\frac{\\sqrt{2}}{2} & -\\frac{\\sqrt{2}}{2} \\end{pmatrix} \\right) = $\n",
        "\n",
        "$ = \\begin{pmatrix} 1 & 0 & 0 & 0\\\\ 0 & 0 & 0 & 1\\\\ 0 & 0 & 1 & 0\\\\ 0 & 1 & 0 & 0 \\end{pmatrix} \\cdot \\begin{pmatrix} 0 & 0 & \\frac{\\sqrt{2}}{2} & \\frac{\\sqrt{2}}{2} \\\\ 0 & 0 & \\frac{\\sqrt{2}}{2} & -\\frac{\\sqrt{2}}{2} \\\\ \\frac{\\sqrt{2}}{2} & \\frac{\\sqrt{2}}{2} & 0 & 0 \\\\ \\frac{\\sqrt{2}}{2} & -\\frac{\\sqrt{2}}{2} & 0 & 0 \\end{pmatrix} = \\begin{pmatrix} 0 & 0 & \\frac{\\sqrt{2}}{2} & \\frac{\\sqrt{2}}{2} \\\\ \\frac{\\sqrt{2}}{2} & -\\frac{\\sqrt{2}}{2} & 0 & 0 \\\\ \\frac{\\sqrt{2}}{2} & \\frac{\\sqrt{2}}{2} & 0 & 0 \\\\ 0 & 0 & \\frac{\\sqrt{2}}{2} & -\\frac{\\sqrt{2}}{2} \\end{pmatrix} \\Rightarrow$\n",
        "\n",
        "$\\Rightarrow \\begin{pmatrix} 0 & 0 & \\frac{\\sqrt{2}}{2} & \\frac{\\sqrt{2}}{2} \\\\ \\frac{\\sqrt{2}}{2} & -\\frac{\\sqrt{2}}{2} & 0 & 0 \\\\ \\frac{\\sqrt{2}}{2} & \\frac{\\sqrt{2}}{2} & 0 & 0 \\\\ 0 & 0 & \\frac{\\sqrt{2}}{2} & -\\frac{\\sqrt{2}}{2} \\end{pmatrix} \\cdot \\begin{pmatrix} 1 \\\\ 0 \\\\ 0 \\\\ 0 \\end{pmatrix} = \\begin{pmatrix} 0 \\\\ \\frac{\\sqrt{2}}{2} \\\\ \\frac{\\sqrt{2}}{2} \\\\ 0 \\end{pmatrix}$\n",
        "\n",
        "#####**4. Estado de Bell 4**\n",
        "\n",
        "En notación de Dirac:\n",
        "\n",
        "$ U= CX \\cdot (Z \\otimes H) \\cdot ( X \\otimes X) \\Rightarrow | \\psi \\rangle = U | 0 \\rangle = | \\Psi^- \\rangle$\n",
        "\n",
        "En notación matricial:\n",
        "\n",
        "$ U= CX \\cdot (Z \\otimes H) \\cdot ( X \\otimes X) = \\begin{pmatrix} 1 & 0 & 0 & 0\\\\ 0 & 0 & 0 & 1\\\\ 0 & 0 & 1 & 0\\\\ 0 & 1 & 0 & 0 \\end{pmatrix} \\cdot \\left( \\begin{pmatrix} 1 & 0 \\\\ 0 & -1 \\end{pmatrix} \\otimes \\begin{pmatrix} \\frac{\\sqrt{2}}{2} & \\frac{\\sqrt{2}}{2} \\\\ \\frac{\\sqrt{2}}{2} & -\\frac{\\sqrt{2}}{2} \\end{pmatrix} \\right) \\left( \\begin{pmatrix} 0 & 1 \\\\ 1 & 0 \\end{pmatrix} \\otimes \\begin{pmatrix} 0 & 1 \\\\ 1 & 0 \\end{pmatrix} \\right) =$\n",
        "\n",
        "$= \\begin{pmatrix} 1 & 0 & 0 & 0\\\\ 0 & 0 & 0 & 1\\\\ 0 & 0 & 1 & 0\\\\ 0 & 1 & 0 & 0 \\end{pmatrix} \\cdot \\begin{pmatrix} \\frac{\\sqrt{2}}{2} & \\frac{\\sqrt{2}}{2} & 0 & 0\\\\ \\frac{\\sqrt{2}}{2} & -\\frac{\\sqrt{2}}{2} & 0 & 0\\\\ 0 & 0 & -\\frac{\\sqrt{2}}{2} & -\\frac{\\sqrt{2}}{2}\\\\ 0 & 0 & -\\frac{\\sqrt{2}}{2} & \\frac{\\sqrt{2}}{2} \\end{pmatrix} \\cdot \\begin{pmatrix} 0 & 0 & 0 & 1 \\\\ 0 & 0 & 1 & 0 \\\\ 0 & 1 & 0 & 0 \\\\ 1 & 0 & 0 & 0 \\end{pmatrix} = \\begin{pmatrix} 0 & 0 & \\frac{\\sqrt{2}}{2} & \\frac{\\sqrt{2}}{2} \\\\ \\frac{\\sqrt{2}}{2} & -\\frac{\\sqrt{2}}{2} & 0 & 0 \\\\ -\\frac{\\sqrt{2}}{2} & -\\frac{\\sqrt{2}}{2} & 0 & 0 \\\\ 0 & 0 & -\\frac{\\sqrt{2}}{2} & \\frac{\\sqrt{2}}{2} \\end{pmatrix} \\Rightarrow $\n",
        "\n",
        "$\\Rightarrow \\begin{pmatrix} 0 & 0 & \\frac{\\sqrt{2}}{2} & \\frac{\\sqrt{2}}{2} \\\\ \\frac{\\sqrt{2}}{2} & -\\frac{\\sqrt{2}}{2} & 0 & 0 \\\\ -\\frac{\\sqrt{2}}{2} & -\\frac{\\sqrt{2}}{2} & 0 & 0 \\\\ 0 & 0 & -\\frac{\\sqrt{2}}{2} & \\frac{\\sqrt{2}}{2} \\end{pmatrix} \\cdot \\begin{pmatrix} 1 \\\\ 0 \\\\ 0 \\\\ 0 \\end{pmatrix} = \\begin{pmatrix} 0 \\\\ \\frac{\\sqrt{2}}{2} \\\\ -\\frac{\\sqrt{2}}{2} \\\\ 0 \\end{pmatrix}$"
      ],
      "metadata": {
        "id": "GTqH0uCLUPsY"
      }
    },
    {
      "cell_type": "markdown",
      "source": [
        "### Ejercicio 2\n",
        "Implementa circuitos con cuatro cúbits que sumen al registro cuántico los valores $1, 2, 3, 4, 5, 6, 7$ y $8$. Verifica que los circuitos funcionen correctamente utilizando QISKit Quantum Lab."
      ],
      "metadata": {
        "id": "M_8Bx7oLkbJL"
      }
    },
    {
      "cell_type": "markdown",
      "source": [
        "Comencemos con el caso más sencillo. Para ello definamos una función que sume 1 en binario."
      ],
      "metadata": {
        "id": "lRzfNhEAZf-x"
      }
    },
    {
      "cell_type": "code",
      "source": [
        "# Creamos una función que nos devuelva un circuito para sumar 1 en binario\n",
        "def suma_1():\n",
        "\n",
        "    # Creamos el circuito cuántico de 4 qubits\n",
        "    qreg_q = QuantumRegister(4, 'q')\n",
        "\n",
        "    qc = QuantumCircuit(qreg_q)\n",
        "\n",
        "    # Agregamos las puertas necesarias para que sume en binario 0001\n",
        "    qc.append(C3XGate(), [0,1,2,3])\n",
        "    qc.ccx(0, 1, 2)\n",
        "    qc.cx(0, 1)\n",
        "    qc.x(0)\n",
        "\n",
        "    qc.barrier()\n",
        "\n",
        "    return qc"
      ],
      "metadata": {
        "id": "wSQHRjeJwoPc"
      },
      "execution_count": null,
      "outputs": []
    },
    {
      "cell_type": "markdown",
      "source": [
        "Para realizar las pruebas, definiremos una función que nos devuelva un circuito con el estado iniciado en un número del 0 al 8."
      ],
      "metadata": {
        "id": "vsThofH-ZtqE"
      }
    },
    {
      "cell_type": "code",
      "source": [
        "# Definimos la función para el estado inicial\n",
        "def estado_inicial(numero):\n",
        "\n",
        "    # Transformamos el número de entrada en binario\n",
        "    binario = format(numero, '04b')\n",
        "\n",
        "    # Creamos el circuito de 4 qubits\n",
        "    circuit = QuantumCircuit(4)\n",
        "\n",
        "    # Por cada '1' de la cadena de 0 y 1 del número en base binaria, agregamos una pueta X (notemos que el orden es el inverso)\n",
        "    for index, bit in enumerate(reversed(binario)):\n",
        "        if bit == '1':\n",
        "            circuit.x(index)\n",
        "\n",
        "    circuit.barrier()\n",
        "\n",
        "    return circuit"
      ],
      "metadata": {
        "id": "Y_-Mg090Z6HJ"
      },
      "execution_count": null,
      "outputs": []
    },
    {
      "cell_type": "markdown",
      "source": [
        "Veamos como son estos dos circuitos."
      ],
      "metadata": {
        "id": "D-BE7PJ6ag5M"
      }
    },
    {
      "cell_type": "code",
      "source": [
        "estado_inicial(3).compose(suma_1()).draw()"
      ],
      "metadata": {
        "id": "jxMGd_WTanqz",
        "colab": {
          "base_uri": "https://localhost:8080/",
          "height": 156
        },
        "outputId": "d9b700e9-6f7d-4191-cb4e-d6074c08eedd"
      },
      "execution_count": null,
      "outputs": [
        {
          "output_type": "execute_result",
          "data": {
            "text/plain": [
              "     ┌───┐ ░                ┌───┐ ░ \n",
              "q_0: ┤ X ├─░───■────■────■──┤ X ├─░─\n",
              "     ├───┤ ░   │    │  ┌─┴─┐└───┘ ░ \n",
              "q_1: ┤ X ├─░───■────■──┤ X ├──────░─\n",
              "     └───┘ ░   │  ┌─┴─┐└───┘      ░ \n",
              "q_2: ──────░───■──┤ X ├───────────░─\n",
              "           ░ ┌─┴─┐└───┘           ░ \n",
              "q_3: ──────░─┤ X ├────────────────░─\n",
              "           ░ └───┘                ░ "
            ],
            "text/html": [
              "<pre style=\"word-wrap: normal;white-space: pre;background: #fff0;line-height: 1.1;font-family: &quot;Courier New&quot;,Courier,monospace\">     ┌───┐ ░                ┌───┐ ░ \n",
              "q_0: ┤ X ├─░───■────■────■──┤ X ├─░─\n",
              "     ├───┤ ░   │    │  ┌─┴─┐└───┘ ░ \n",
              "q_1: ┤ X ├─░───■────■──┤ X ├──────░─\n",
              "     └───┘ ░   │  ┌─┴─┐└───┘      ░ \n",
              "q_2: ──────░───■──┤ X ├───────────░─\n",
              "           ░ ┌─┴─┐└───┘           ░ \n",
              "q_3: ──────░─┤ X ├────────────────░─\n",
              "           ░ └───┘                ░ </pre>"
            ]
          },
          "metadata": {},
          "execution_count": 11
        }
      ]
    },
    {
      "cell_type": "markdown",
      "source": [
        "Podemos generalizar la suma, concatenando este circutio."
      ],
      "metadata": {
        "id": "r287ZkHha_r5"
      }
    },
    {
      "cell_type": "code",
      "source": [
        "# Definimos una nueva función que admita el número de entrada que queremos sumar\n",
        "def suma_n(numero):\n",
        "\n",
        "    # Generamos el circuito\n",
        "    circuit = QuantumCircuit(4)\n",
        "\n",
        "    # Sumamos n veces 1\n",
        "    for _ in range(numero):\n",
        "        circuit = circuit.compose(suma_1())\n",
        "\n",
        "    return circuit"
      ],
      "metadata": {
        "id": "V2wyZ5D-bGkR"
      },
      "execution_count": null,
      "outputs": []
    },
    {
      "cell_type": "markdown",
      "source": [
        "Por último, definimos otra función más para realizar la simulación. Esta función nos devolverá el valor con mayor probabilidad."
      ],
      "metadata": {
        "id": "_dQw9ez5bX53"
      }
    },
    {
      "cell_type": "code",
      "source": [
        "# Definimos la función suma.\n",
        "def suma_q(num_1, num_2):\n",
        "\n",
        "    # Usamos el primer número para el estado inicial, y el segundo para el número de veces que sumamos 1\n",
        "    qc = estado_inicial(num_1).compose(suma_n(num_2))\n",
        "\n",
        "    # Medimos\n",
        "    qc.measure_all()\n",
        "\n",
        "    sim = AerSimulator()\n",
        "\n",
        "    # Ejecutamos el circuito que hemos creado\n",
        "    job = execute(qc, sim, shots = 1024)\n",
        "    result = job.result()\n",
        "    counts = result.get_counts()\n",
        "\n",
        "    # Obtenemos el valor que más veces ha salido\n",
        "    max_state = max(counts, key=counts.get)\n",
        "\n",
        "    # Lo transformamos a base decimal\n",
        "    decimal_value = int(max_state, 2)\n",
        "\n",
        "    return decimal_value"
      ],
      "metadata": {
        "id": "Ii6VPUL1bkeS"
      },
      "execution_count": null,
      "outputs": []
    },
    {
      "cell_type": "markdown",
      "source": [
        "Probemosla. Para ello, sumaremos al número 3 todos los números del 1 al 8."
      ],
      "metadata": {
        "id": "8I_0fPVxbqEF"
      }
    },
    {
      "cell_type": "code",
      "source": [
        "suma_q(2,3)"
      ],
      "metadata": {
        "id": "oYzlNCm2cGxL",
        "colab": {
          "base_uri": "https://localhost:8080/"
        },
        "outputId": "af34ffa7-061d-44c4-ab4b-ba00be66bd0e"
      },
      "execution_count": null,
      "outputs": [
        {
          "output_type": "execute_result",
          "data": {
            "text/plain": [
              "5"
            ]
          },
          "metadata": {},
          "execution_count": 14
        }
      ]
    },
    {
      "cell_type": "code",
      "source": [
        "print(suma_q(3,1))\n",
        "print(suma_q(3,2))\n",
        "print(suma_q(3,3))\n",
        "print(suma_q(3,4))\n",
        "print(suma_q(3,5))\n",
        "print(suma_q(3,6))\n",
        "print(suma_q(3,7))\n",
        "print(suma_q(3,8))"
      ],
      "metadata": {
        "colab": {
          "base_uri": "https://localhost:8080/"
        },
        "id": "cOXVzwFN96VK",
        "outputId": "1a4c54d6-02c4-44d4-846d-f3bf02486263"
      },
      "execution_count": null,
      "outputs": [
        {
          "output_type": "stream",
          "name": "stdout",
          "text": [
            "4\n",
            "5\n",
            "6\n",
            "7\n",
            "8\n",
            "9\n",
            "10\n",
            "11\n"
          ]
        }
      ]
    },
    {
      "cell_type": "markdown",
      "source": [
        "Los resultados obtenidos son correctos. Por último, probaremos algunos casos más cambiando el primer número."
      ],
      "metadata": {
        "id": "VFGMZ22w-mN7"
      }
    },
    {
      "cell_type": "code",
      "source": [
        "print(suma_q(2,5))\n",
        "print(suma_q(4,2))\n",
        "print(suma_q(6,1))\n",
        "print(suma_q(8,7))"
      ],
      "metadata": {
        "colab": {
          "base_uri": "https://localhost:8080/"
        },
        "id": "MDqNg1NP-8GK",
        "outputId": "8f08398a-2614-475f-9320-57bdfe9b481a"
      },
      "execution_count": null,
      "outputs": [
        {
          "output_type": "stream",
          "name": "stdout",
          "text": [
            "7\n",
            "6\n",
            "7\n",
            "15\n"
          ]
        }
      ]
    },
    {
      "cell_type": "markdown",
      "source": [
        "Para reducir el número de puertas usadas, podemos realizar un circuito distinto por cada número que queremos sumar."
      ],
      "metadata": {
        "id": "Cs68djTSBUHH"
      }
    },
    {
      "cell_type": "code",
      "source": [
        "def suma_2():\n",
        "\n",
        "    # Creamos el circuito cuántico de 4 qubits\n",
        "    qreg_q = QuantumRegister(4, 'q')\n",
        "\n",
        "    qc = QuantumCircuit(qreg_q)\n",
        "\n",
        "    # Agregamos las puertas necesarias para que sume en binario 0010\n",
        "    qc.ccx(1, 2, 3)\n",
        "    qc.cx(1, 2)\n",
        "    qc.x(1)\n",
        "\n",
        "    qc.barrier()\n",
        "\n",
        "    return qc\n",
        "\n",
        "def suma_3():\n",
        "\n",
        "    # Creamos el circuito cuántico de 4 qubits\n",
        "    qreg_q = QuantumRegister(4, 'q')\n",
        "\n",
        "    qc = QuantumCircuit(qreg_q)\n",
        "\n",
        "    # Agregamos las puertas necesarias para que sume en binario 0011\n",
        "    qc.x(0)\n",
        "    qc.x(1)\n",
        "    qc.cx(2, 3)\n",
        "\n",
        "    qc.append(C3XGate(), [0,1,2,3])\n",
        "    qc.ccx(0, 1, 2)\n",
        "    qc.x(1)\n",
        "    qc.cx(0, 1)\n",
        "    qc.x(2)\n",
        "\n",
        "    qc.barrier()\n",
        "\n",
        "    return qc\n",
        "\n",
        "def suma_4():\n",
        "\n",
        "    # Creamos el circuito cuántico de 4 qubits\n",
        "    qreg_q = QuantumRegister(4, 'q')\n",
        "\n",
        "    qc = QuantumCircuit(qreg_q)\n",
        "\n",
        "    # Agregamos las puertas necesarias para que sume en binario 0100\n",
        "    qc.cx(2, 3)\n",
        "    qc.x(2)\n",
        "\n",
        "    qc.barrier()\n",
        "\n",
        "    return qc\n",
        "\n",
        "def suma_5():\n",
        "\n",
        "    # Creamos el circuito cuántico de 4 qubits\n",
        "    qreg_q = QuantumRegister(4, 'q')\n",
        "\n",
        "    qc = QuantumCircuit(qreg_q)\n",
        "\n",
        "    # Agregamos las puertas necesarias para que sume en binario 0101\n",
        "    qc.append(C3XGate(), [0,1,2,3])\n",
        "    qc.ccx(0, 1, 3)\n",
        "    qc.cx(2, 3)\n",
        "\n",
        "    qc.cx(0, 1)\n",
        "    qc.ccx(0, 1, 2)\n",
        "\n",
        "    qc.x(0)\n",
        "    qc.x(1)\n",
        "\n",
        "    qc.ccx(0, 1, 2)\n",
        "\n",
        "    qc.x(1)\n",
        "\n",
        "    qc.ccx(0, 1, 2)\n",
        "\n",
        "    qc.barrier()\n",
        "\n",
        "    return qc\n",
        "\n",
        "def suma_6():\n",
        "\n",
        "    # Creamos el circuito cuántico de 4 qubits\n",
        "    qreg_q = QuantumRegister(4, 'q')\n",
        "\n",
        "    qc = QuantumCircuit(qreg_q)\n",
        "\n",
        "    # Agregamos las puertas necesarias para que sume en binario 0110\n",
        "    qc.x(1)\n",
        "\n",
        "    qc.cx(1, 2)\n",
        "\n",
        "    qc.ccx(1, 2, 3)\n",
        "\n",
        "    qc.x(3)\n",
        "\n",
        "    qc.barrier()\n",
        "\n",
        "    return qc\n",
        "\n",
        "def suma_7():\n",
        "\n",
        "    # Creamos el circuito cuántico de 4 qubits\n",
        "    qreg_q = QuantumRegister(4, 'q')\n",
        "\n",
        "    qc = QuantumCircuit(qreg_q)\n",
        "\n",
        "    # Agregamos las puertas necesarias para que sume en binario 0111\n",
        "    qc.x(0)\n",
        "    qc.x(1)\n",
        "    qc.x(2)\n",
        "    qc.x(3)\n",
        "\n",
        "    qc.append(C3XGate(), [0,1,2,3])\n",
        "    qc.x(2)\n",
        "\n",
        "    qc.ccx(0, 1, 2)\n",
        "    qc.x(1)\n",
        "\n",
        "    qc.cx(0, 1)\n",
        "\n",
        "    qc.barrier()\n",
        "\n",
        "    return qc\n",
        "\n",
        "def suma_8():\n",
        "\n",
        "    # Creamos el circuito cuántico de 4 qubits\n",
        "    qreg_q = QuantumRegister(4, 'q')\n",
        "\n",
        "    qc = QuantumCircuit(qreg_q)\n",
        "\n",
        "    # Agregamos las puertas necesarias para que sume en binario 1000\n",
        "    qc.x(3)\n",
        "\n",
        "    qc.barrier()\n",
        "\n",
        "    return qc"
      ],
      "metadata": {
        "id": "E6yRYyjFBZus"
      },
      "execution_count": null,
      "outputs": []
    },
    {
      "cell_type": "markdown",
      "source": [
        "Generamos de nuevo otra función para probar de forma más fácil."
      ],
      "metadata": {
        "id": "ewXam5RaBxTl"
      }
    },
    {
      "cell_type": "code",
      "source": [
        "def suma_q_2(num_1, num_2):\n",
        "\n",
        "    # Juntamos todos nuestros circuitos únicos\n",
        "    sumas = [suma_1(), suma_2(), suma_3(), suma_4(), suma_5(), suma_6(), suma_7(), suma_8()]\n",
        "\n",
        "    qc = estado_inicial(num_1).compose(sumas[num_2-1])\n",
        "\n",
        "    qc.measure_all()\n",
        "\n",
        "    sim = AerSimulator()\n",
        "\n",
        "    # Ejecutamos el circuito que hemos creado\n",
        "    job = execute(qc, sim, shots = 1024)\n",
        "    result = job.result()\n",
        "    counts = result.get_counts()\n",
        "\n",
        "    max_state = max(counts, key=counts.get)\n",
        "\n",
        "    decimal_value = int(max_state, 2)\n",
        "\n",
        "    return decimal_value"
      ],
      "metadata": {
        "id": "8vP1HiOhB3Jg"
      },
      "execution_count": null,
      "outputs": []
    },
    {
      "cell_type": "code",
      "source": [
        "suma_q_2(2,6)"
      ],
      "metadata": {
        "id": "1v4LJuiUB5iU",
        "colab": {
          "base_uri": "https://localhost:8080/"
        },
        "outputId": "869756cf-378b-4261-a336-81f447bf1abd"
      },
      "execution_count": null,
      "outputs": [
        {
          "output_type": "execute_result",
          "data": {
            "text/plain": [
              "8"
            ]
          },
          "metadata": {},
          "execution_count": 19
        }
      ]
    },
    {
      "cell_type": "markdown",
      "source": [
        "Notemos de este ejercicio que, podemos realizarlo de forma más sencilla haciendo uso de un mayor número de puertas. Sería interesante, encontrar un teorema que nos límite el número máximo de puertas necesarias para cada operación, pero es algo que escapa del alcance de esta actividad."
      ],
      "metadata": {
        "id": "61X7LYK-CTRK"
      }
    },
    {
      "cell_type": "markdown",
      "source": [
        "### Ejercicio 3\n",
        "Implementa en Python el algoritmo de teleportación cuántica para transferir el estado |$\\psi$⟩ del cúbit de Alice al cúbit de Bob. El estado |$\\psi$⟩ viene determinado por los ángulos $\\theta=37.5$ grados y $\\phi=13.4$ grados en la esfera de Bloch."
      ],
      "metadata": {
        "id": "_ykHSYY_kceV"
      }
    },
    {
      "cell_type": "markdown",
      "source": [
        "\n",
        "#### Funcones Auxiliares\n",
        "El primer paso en este ejercicio será crear una función que genere el estado requerido en base a sus ángulos de Euler $\\theta$ y $\\phi$.\n",
        "\n",
        "Esta función tomará como argumentos dichos ángulos y devolverá el estado cuántico correspondiente."
      ],
      "metadata": {
        "id": "7QDLDuQOCPsx"
      }
    },
    {
      "cell_type": "code",
      "source": [
        "def estado_euler(theta, phi, decimals=None):\n",
        "    \"\"\"\n",
        "    Esta función genera un estado cuántico en base a dos ángulos de Euler.\n",
        "\n",
        "    Parameters\n",
        "    ----------\n",
        "    theta : float\n",
        "        Ángulo theta en grados.\n",
        "    phi : float\n",
        "        Ángulo phi en grados.\n",
        "    decimals : int, optional\n",
        "        Número de decimales a mostrar en la representación del estado cuántico.\n",
        "\n",
        "    Returns\n",
        "    -------\n",
        "    estado : numpy.ndarray\n",
        "        Vector de estado cuántico resultante.\n",
        "\n",
        "    Notes\n",
        "    -----\n",
        "    La función toma dos ángulos de Euler, theta y phi, y genera un estado cuántico\n",
        "     aplicando rotaciones RY y RZ en un circuito cuántico.\n",
        "\n",
        "    El circuito cuántico consta de un registro cuántico con un qubit, donde se aplica\n",
        "    una rotación RY con ángulo theta_rad seguida de una rotación RZ con ángulo phi_rad.\n",
        "\n",
        "    El estado cuántico resultante se obtiene ejecutando el circuito en un simulador\n",
        "    statevector_simulator de Qiskit con 1024 shots.\n",
        "\n",
        "    \"\"\"\n",
        "    # Convertimos los ángulos a radianes\n",
        "    theta = theta * pi / 180\n",
        "    phi = phi * pi / 180\n",
        "\n",
        "    # Creamos el estado en base a un circuito cuántico\n",
        "    q = QuantumRegister(1)\n",
        "    circuito = QuantumCircuit(q)\n",
        "    circuito.ry(theta, q[0])\n",
        "    circuito.rz(phi, q[0])\n",
        "\n",
        "    # Ejecutamos el circuito\n",
        "    simulador = Aer.get_backend('statevector_simulator')\n",
        "\n",
        "    # Recuperamos el estado\n",
        "    estado = execute(circuito, backend=simulador, shots=1024).result().get_statevector(decimals=decimals)\n",
        "\n",
        "    return estado\n"
      ],
      "metadata": {
        "id": "CSdm2ZP1kgRU"
      },
      "execution_count": null,
      "outputs": []
    },
    {
      "cell_type": "markdown",
      "source": [
        "Una vez implementada esta función la utilizaremos en nuestro algoritmo de teleportación cuántica."
      ],
      "metadata": {
        "id": "zZLY5N2f2fxD"
      }
    },
    {
      "cell_type": "markdown",
      "source": [
        "\n",
        "#### Algoritmo de Teleportación Cuántica\n",
        "Desarrollaremos una función que tomará como entrada un estado cuántico y el número de evaluaciones que queremos realizar del algoritmo y ejecutará el algoritmo de teleportación cuántica $N$ veces.\n",
        "\n",
        "El algoritmo de teleportación cuántica se compone de los siguientes pasos:\n",
        "\n",
        "1. Preparación del par de Bell $\\frac{1}{\\sqrt{2}}(|00\\rangle + |11\\rangle)$ que comparten Alice y Bob.\n",
        "2. Alice prepara el estado a teleportar |$\\psi$⟩.\n",
        "3. Alice aplica una compuerta CNOT sobre los qubits que tiene en su poder donde el qubit de control es el que contiene el estado a teleportar.\n",
        "4. Alice aplica una compuerta Hadamard sobre el qubit que contiene el estado a teleportar.\n",
        "5. Alice mide el estado de sus dos qubits, el que comparte entrelazamiento con el de Bob y el que quiere enviar.\n",
        "6. En función de las medidas de Alice Bob aplicará condicionalmente las puertas $X$ y $Z$ sobre su estado. El estado resultante será el estado |$\\psi$⟩ que envió Alice."
      ],
      "metadata": {
        "id": "evpX0KEqA3sY"
      }
    },
    {
      "cell_type": "code",
      "source": [
        "# Esta implementación será una función que recibe como parámetro el estado a teleportar\n",
        "def teleportacion_cuantica(estado, shots=1024):\n",
        "    \"\"\"\n",
        "    Esta función implementa el algoritmo de teleportación cuántica.\n",
        "\n",
        "    Parameters\n",
        "    ----------\n",
        "    estado : numpy.ndarray\n",
        "        Estado cuántico a teleportar.\n",
        "    shots : int, optional\n",
        "        Número de evaluaciones del circuito.\n",
        "\n",
        "    Returns\n",
        "    -------\n",
        "    circuito : QuantumCircuit\n",
        "        Circuito cuántico implementado.\n",
        "    conteos : dict\n",
        "        Conteos tras la ejecución del circuito.\n",
        "    Bob : dict\n",
        "        Conteos del estado recibido por Bob.\n",
        "\n",
        "    Notes\n",
        "    -----\n",
        "    La función implementa el algoritmo de teleportación cuántica utilizando tres\n",
        "    registros cuánticos y tres registros clásicos.\n",
        "\n",
        "    El circuito consta de las siguientes etapas:\n",
        "    1. Creación de un par EPR (Entangled Pair of Qubits) entre Alice y Bob.\n",
        "    2. Preparación del estado cuántico a teleportar en Alice.\n",
        "    3. Aplicación de puertas cuánticas (CNOT, Hadamard) y medidas en Alice.\n",
        "    4. Aplicación de puertas X y Z en Bob condicionalmente según las medidas de Alice.\n",
        "    5. Medida del qubit de Bob.\n",
        "\n",
        "    Los resultados se normalizan y se proporcionan tanto los conteos globales como\n",
        "    los conteos específicos del estado recibido por Bob.\n",
        "\n",
        "    \"\"\"\n",
        "    # Creamos los registros cuánticos y clásicos necesarios\n",
        "    alice = QuantumRegister(2, name='alice')\n",
        "    bob = QuantumRegister(1, name='bob')\n",
        "\n",
        "    c0 = ClassicalRegister(1, name='c0')\n",
        "    c1 = ClassicalRegister(1, name='c1')\n",
        "    c2 = ClassicalRegister(1, name='c2')\n",
        "\n",
        "\n",
        "    # Creamos el circuito cuántico\n",
        "    circuito = QuantumCircuit(alice, bob, c0, c1, c2)\n",
        "\n",
        "    # Creamos el par EPR\n",
        "    circuito.h(alice[1])\n",
        "    circuito.cx(alice[1], bob[0])\n",
        "    circuito.barrier()\n",
        "\n",
        "    # Preparamos el estado a teleportar\n",
        "    circuito.initialize(estado, alice[0])\n",
        "    circuito.barrier()\n",
        "\n",
        "    # Aplicamos la puerta CNOT\n",
        "    circuito.cx(0, 1)\n",
        "\n",
        "    # Aplicamos la puerta Hadamard\n",
        "    circuito.h(0)\n",
        "    circuito.barrier()\n",
        "\n",
        "    # Medimos los qubit de Alice\n",
        "    circuito.measure(alice[0], c2)\n",
        "    circuito.measure(alice[1], c0)\n",
        "\n",
        "    # Aplicamos las puertas X y Z si es necesario\n",
        "    circuito.x(bob[0]).c_if(c0, 1)\n",
        "\n",
        "    circuito.z(bob[0]).c_if(c2, 1)\n",
        "\n",
        "\n",
        "    # Medimos el qubit de Bob\n",
        "    circuito.measure(bob[0], 0)\n",
        "\n",
        "    # Ejecutamos el circuito\n",
        "    simulador = Aer.get_backend('statevector_simulator')\n",
        "\n",
        "    conteos = execute(circuito, backend=simulador, shots=shots).result().get_counts()\n",
        "\n",
        "        # Normalizamos los resultados\n",
        "    for k in conteos:\n",
        "        conteos[k] = conteos[k]/shots\n",
        "\n",
        "    # Agregamos los conteos para obtener únicamente la salida de Bob\n",
        "        Bob = {}\n",
        "    for key, value in conteos.items():\n",
        "      ultimo_numero = key.split()[-1]  # Obtener el último número de la clave\n",
        "      if ultimo_numero in Bob:\n",
        "        Bob[ultimo_numero] += value\n",
        "      else:\n",
        "        Bob[ultimo_numero] = value\n",
        "\n",
        "    return circuito, conteos, Bob"
      ],
      "metadata": {
        "id": "IadFlLmOA4R3"
      },
      "execution_count": null,
      "outputs": []
    },
    {
      "cell_type": "markdown",
      "source": [
        "Representamos el estado que vamos a teleportar"
      ],
      "metadata": {
        "id": "10WEFcO1A41j"
      }
    },
    {
      "cell_type": "code",
      "source": [
        "# Creamos el estado cuántico a teleportar\n",
        "theta = 37.5\n",
        "phi = 13.4\n",
        "\n",
        "estado = estado_euler(theta, phi)\n",
        "prob_0 = np.round(np.abs(estado[0])**2,3)\n",
        "prob_1 = np.round(np.abs(estado[1])**2,3)\n",
        "\n",
        "# Representamos el estado cuántico\n",
        "estado.draw(output='latex')\n"
      ],
      "metadata": {
        "colab": {
          "base_uri": "https://localhost:8080/",
          "height": 39
        },
        "id": "43lqtJntA5Te",
        "outputId": "e3f635ee-a37b-4ec9-e35c-e357fd4e2a00"
      },
      "execution_count": null,
      "outputs": [
        {
          "output_type": "execute_result",
          "data": {
            "text/plain": [
              "<IPython.core.display.Latex object>"
            ],
            "text/latex": "$$(0.9404632118 - 0.1104790362 i) |0\\rangle+(0.3192442425 + 0.0375025793 i) |1\\rangle$$"
          },
          "metadata": {},
          "execution_count": 22
        }
      ]
    },
    {
      "cell_type": "markdown",
      "source": [
        "Representamos también las probabilidades teóricas del estado que enviaremos. Estas probabilidades las compararemos con los resultados que obtiene Bob al evaluar su estado tras el algoritmo de teleportación."
      ],
      "metadata": {
        "id": "2YwG_nIdGq49"
      }
    },
    {
      "cell_type": "code",
      "source": [
        "print(\"Probabilidad 0: \", prob_0)\n",
        "print(\"Probabilidad 1: \", prob_1)"
      ],
      "metadata": {
        "colab": {
          "base_uri": "https://localhost:8080/"
        },
        "id": "-6rbMrs3GkxX",
        "outputId": "d78a464a-5f9c-4b85-c47b-819cfa405400"
      },
      "execution_count": null,
      "outputs": [
        {
          "output_type": "stream",
          "name": "stdout",
          "text": [
            "Probabilidad 0:  0.897\n",
            "Probabilidad 1:  0.103\n"
          ]
        }
      ]
    },
    {
      "cell_type": "markdown",
      "source": [
        "Ejecutamos el algoritmo de teleportación cuántica y representamos los resultados obtenidos."
      ],
      "metadata": {
        "id": "ia-_VOFWBAcA"
      }
    },
    {
      "cell_type": "code",
      "source": [
        "# Ejecutamos el algoritmo de teleportación cuántica\n",
        "circuito, conteos, Bob = teleportacion_cuantica(estado, shots=4096)\n",
        "\n",
        "# Creamos una figura para mostrar el circuito y los conteos\n",
        "fig = plt.figure(figsize=(10, 10))\n",
        "ax1 = fig.add_subplot(2, 1, 1)\n",
        "ax1.set_title('Implementación del Algoritmo de Teleportación Cuántica')\n",
        "\n",
        "ax2 = fig.add_subplot(2, 1, 2)\n",
        "ax2.set_title('Conteos para el estado recibido por Bob')\n",
        "\n",
        "circuito.draw(output='mpl',ax=ax1)\n",
        "plot_histogram(Bob, ax=ax2)"
      ],
      "metadata": {
        "colab": {
          "base_uri": "https://localhost:8080/",
          "height": 883
        },
        "id": "D30aPFNqBBLJ",
        "outputId": "a4813942-3e78-41fe-9d1f-4ac4fff8f1b5"
      },
      "execution_count": null,
      "outputs": [
        {
          "output_type": "stream",
          "name": "stderr",
          "text": [
            "/usr/local/lib/python3.10/dist-packages/qiskit/visualization/circuit/matplotlib.py:266: FutureWarning: The default matplotlib drawer scheme will be changed to \"iqp\" in a following release. To silence this warning, specify the current default explicitly as style=\"clifford\", or the new default as style=\"iqp\".\n",
            "  self._style, def_font_ratio = load_style(self._style)\n"
          ]
        },
        {
          "output_type": "display_data",
          "data": {
            "text/plain": [
              "<Figure size 1000x1000 with 2 Axes>"
            ],
            "image/png": "[encoded data removed]"
          },
          "metadata": {}
        }
      ]
    },
    {
      "cell_type": "markdown",
      "source": [
        "Podemo observar que las medidas de Bob sobre su estado tras la implementación del algoritmo de teleportación cuántica es el mismo que el que queríamos enviar."
      ],
      "metadata": {
        "id": "Eg7NiDRCHFSM"
      }
    }
  ]
}