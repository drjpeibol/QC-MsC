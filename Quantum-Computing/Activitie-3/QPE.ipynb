{
 "cells": [
  {
   "cell_type": "markdown",
   "metadata": {},
   "source": [
    "# Quantum Phase Estimation Lab\n",
    "\n",
    "## Objectives\n",
    "\n",
    "Apply acquired knowledge to implement the Quantum Phase Estimation (QPE) algorithm and determine the phase of a unitary operator $U$. This will be done using the QISKit development environment, Quantum Lab.\n",
    "\n",
    "## Exercise:\n",
    "\n",
    "QPE (Quantum Phase Estimation), also known as PEA (Phase Estimation Algorithm), is an algorithm that allows determining the eigenvalues of a unitary operator. It finds applications in various quantum computing problems and stands as one of the key subroutines in quantum computation.\n",
    "\n",
    "![Algorithm Overview](Resources/QPE.png)\n",
    "\n",
    "The unitary condition of linear transformations applied to quantum states is a requirement of quantum mechanics. As the operator $U$ is unitary $(U^† U=I)$, its eigenvalues have a modulus of 1 and can be expressed in the form $e^{iθ}$, where $θ$ is the phase associated with the eigenvalue.\n",
    "\n",
    "Since $θ∈[0,2π)$, we can represent θ as a fraction of 2π, i.e., $θ=θ' (2π)$, where $θ^∈[0,1)$. As $θ'$ is a decimal between 0 and 1, it can be represented as a binary fraction: $θ'=0.θ_1 θ_2 θ_3...θ_n$, where n is the desired precision.\n",
    "\n",
    "The algorithm's general scheme involves using Phase Kickback to modify the phase of control qubits, storing the phase in the Fourier basis, and then applying the inverse Quantum Fourier Transform (QFT) to convert to the computational basis for measurement.\n",
    "\n",
    "Some binary fractions examples:\n",
    "\n",
    "- $1/4 = 0.25 ⇒ 0.010$\n",
    "- $1/8 = 0.125 ⇒ 0.001$\n",
    "- $1/6 = 0.1666... ⇒ 0.0010101...$\n",
    "- $1/3 = 0.3333... ⇒ 0.01010101...$\n",
    "\n",
    "The goal of this exercise is to accurately estimate the phase of the unitary operator $U$, which applies a rotation of $π⁄9$ around the Z-axis to the state $|1⟩:\n",
    "U|1⟩=e^{(iπ/9)} |1⟩$\n",
    "\n",
    "## Development\n",
    "\n",
    "### 1. Import the necessary libraries\n",
    "\n",
    "We will start by importing the necessary libraries for this exercise. We will use the QISKit library to create the quantum circuits and execute them on the simulator and the IBMQ Experience devices.\n"
   ]
  },
  {
   "cell_type": "code",
   "execution_count": 24,
   "metadata": {},
   "outputs": [],
   "source": [
    "# Import necessary liobraries\n",
    "\n",
    "import numpy as np \n",
    "\n",
    "import qiskit as qk\n",
    "\n",
    "from qiskit import Aer, execute\n",
    "\n",
    "from qiskit import QuantumCircuit, ClassicalRegister, QuantumRegister\n",
    "\n",
    "from qiskit.tools.visualization import plot_histogram\n",
    "\n",
    "from qiskit.circuit.library import QFT"
   ]
  },
  {
   "cell_type": "markdown",
   "metadata": {},
   "source": [
    "### 2. Implement the Quantum Phase Estimation algorithm\n",
    "\n",
    "At this point, we will implement the QPE algorithm. The algorithm consists of the following steps:\n",
    "\n",
    "- Apply a Hadamard gate to the first 3 qubits. These qubits will be used to store the phase.\n",
    "- Initialize the fourth qubit to the $|\\psi⟩$ state. This state will be an eigenstate of the unitary operator $U$ we are evaluating. In this case we will use the state $|1⟩$.\n",
    "- Apply the controlled unitary operator $U^{1}, U^{2}, U^{4}$ to the fourth qubit, controlled by the first, second, and third qubits, respectively. This will use phase kickback to store the phase of the eigenstate in the first three qubits.\n",
    "- Apply the inverse Quantum Fourier Transform to the first three qubits.\n",
    "- Measure the first three qubits.\n",
    "\n",
    "For the implementation of the $U$ operator we will use the $CRZGate$ class, which implements a single-qubit rotation around the Z axis controlled by a qubit. The $RCZGate$ class has a parameter called $theta$, which represents the rotation angle. We will use this parameter to implement the $U$ operator.\n",
    "\n",
    "Once we have the algorithm implemented, we will execute it on the simulator and the IBMQ Experience devices.\n",
    "\n",
    "Based on the results obtained, we will determine the phase of the unitary operator $U$.\n"
   ]
  },
  {
   "cell_type": "code",
   "execution_count": 123,
   "metadata": {},
   "outputs": [],
   "source": [
    "# Define the function to create the quantum phase estimation circuit\n",
    "def qpe(theta, qubits,backend=Aer.get_backend('qasm_simulator'), shots=1024):\n",
    "    \"\"\"\n",
    "    Creates a Quantum Phase Estimation (QPE) circuit and estimates the phase of a unitary operator U.\n",
    "\n",
    "    Parameters:\n",
    "    - theta (float): The angle of the rotation gate.\n",
    "    - qubits (int): The number of qubits used in the quantum phase estimation circuit.\n",
    "\n",
    "    Returns:\n",
    "    tuple: (QuantumCircuit, dict, float, str)\n",
    "        - QuantumCircuit: The quantum phase estimation circuit.\n",
    "        - dict: Measurement results from executing the circuit.\n",
    "        - float: The estimated phase of the unitary operator U.\n",
    "        - str: The binary representation of the measured phase.\n",
    "\n",
    "    The QPE circuit estimates the phase of a unitary operator U that applies a rotation\n",
    "    with respect to the Z-axis by the specified angle (theta).\n",
    "\n",
    "    Circuit Structure:\n",
    "    1. Applies Hadamard gates to the first qubits.\n",
    "    2. Initializes the last qubit to |1>.\n",
    "    3. Applies controlled Rz gates based on the specified angle.\n",
    "    4. Applies the inverse Quantum Fourier Transform (QFT).\n",
    "    5. Performs measurements on the qubits.\n",
    "\n",
    "    Example:\n",
    "    ```python\n",
    "    theta_value = 0.523\n",
    "    qubits_used = 3\n",
    "    my_qpe_circuit, measurement_results, estimated_phase, binary_representation = qpe(theta_value, qubits_used)\n",
    "    ```\n",
    "\n",
    "    Note: This function uses QuantumCircuit, QFT, numpy, math, and execute from the Qiskit library.\n",
    "\n",
    "    \"\"\"\n",
    "    # Create the quantum phase estimation circuit\n",
    "    qpe = QuantumCircuit(qubits + 1, qubits)\n",
    "\n",
    "    # Apply the Hadamard gate to the first qubits\n",
    "    for qubit in range(qubits):\n",
    "        qpe.h(qubit)\n",
    "\n",
    "    # Initialize the last qubit to |1>\n",
    "    qpe.x(qubits)\n",
    "\n",
    "    # Apply controlled Rz gates\n",
    "    for qubit in range(qubits):\n",
    "        qpe.crz(theta * 2**(qubit + 1), qubit, qubits)\n",
    "\n",
    "    # Apply the inverse QFT\n",
    "    qft_1 = QFT(qubits, 0, True, True)\n",
    "    qpe.compose(qft_1, inplace=True)\n",
    "\n",
    "    # Apply the measurement\n",
    "    for qubit in range(qubits):\n",
    "        qpe.measure(qubit, qubit)\n",
    "\n",
    "    # Execute the circuit and get measurement results\n",
    "    results = execute(qpe, backend=backend, shots=shots).result()\n",
    "    answer = results.get_counts()\n",
    "\n",
    "    def phase_from_counts(counts):\n",
    "        \"\"\"\n",
    "        Calculates the phase from the measurement results of a QPE circuit.\n",
    "\n",
    "        Parameters:\n",
    "        - counts (dict): The measurement results of a QPE circuit.\n",
    "\n",
    "        Returns:\n",
    "        tuple: (float, str)\n",
    "            - float: The phase of the unitary operator U.\n",
    "            - str: The binary representation of the measured phase.\n",
    "\n",
    "        The QPE circuit estimates the phase of a unitary operator U that applies a rotation\n",
    "        with respect to the Z-axis by the specified angle (theta).\n",
    "\n",
    "        Example:\n",
    "        ```python\n",
    "        theta_value = 0.523\n",
    "        qubits_used = 3\n",
    "        my_qpe_circuit = qpe(theta_value, qubits_used)\n",
    "        my_counts = execute(my_qpe_circuit, backend=backend, shots=shots).result().get_counts()\n",
    "        my_phase, my_binary = phase_from_counts(my_counts)\n",
    "        ```\n",
    "\n",
    "        Note: This function uses numpy and math.\n",
    "\n",
    "        \"\"\"\n",
    "        # Calculate the phase from the measurement results\n",
    "        binary_number = max(counts, key=counts.get)\n",
    "        phase = 2* np.pi * int(binary_number, 2)/(2**qubits)\n",
    "        return phase, binary_number\n",
    "\n",
    "    # Obtain phase and binary representation from counts\n",
    "    phase, binary_number = phase_from_counts(answer)\n",
    "\n",
    "    return qpe, answer, phase, binary_number\n"
   ]
  },
  {
   "cell_type": "markdown",
   "metadata": {},
   "source": [
    "Let's print an example QPE circuit for $U = RZ(π/9)$:\n"
   ]
  },
  {
   "cell_type": "code",
   "execution_count": 124,
   "metadata": {},
   "outputs": [
    {
     "data": {
      "image/png": "[encoded data removed]",
      "text/plain": [
       "<Figure size 628.397x325.08 with 1 Axes>"
      ]
     },
     "execution_count": 124,
     "metadata": {},
     "output_type": "execute_result"
    }
   ],
   "source": [
    "# Define the quantum circuit to implement QPE\n",
    "theta = np.pi/9\n",
    "qubits = 3\n",
    "\n",
    "# Draw the quantum circuit\n",
    "circuit = qpe(theta, qubits)[0]\n",
    "circuit.draw(output='mpl')"
   ]
  },
  {
   "cell_type": "markdown",
   "metadata": {},
   "source": [
    "### 3. Execute the quantum circuit and evaluate the results\n",
    "\n",
    "We will now execute the circuit and evaluate the results. We will use the `qasm_simulator` as a backend to execute the circuit. We will execute the circuit 1024 times to obtain the statistics of the results.\n",
    "\n",
    "We will evaluate the results using different numbers of qubits to store the phase. We will use 3, 5, 10 and 15 qubits. The number of qubits used to store the phase will determine the precision of the result. The more qubits we use, the more precise the result will be."
   ]
  },
  {
   "cell_type": "code",
   "execution_count": 125,
   "metadata": {},
   "outputs": [
    {
     "name": "stdout",
     "output_type": "stream",
     "text": [
      "The expected phase is 0.3490658503988659\n",
      "The phase is 0.0 related to the binary number 000\n",
      "The phase is 0.39269908169872414 related to the binary number 00010\n",
      "The phase is 0.34974761963792617 related to the binary number 0000111001\n",
      "The phase is 0.3489806292439834 related to the binary number 000011100011100\n"
     ]
    }
   ],
   "source": [
    "# Define the quantum circuit to implement QPE\n",
    "theta = np.pi/9\n",
    "\n",
    "# Print expected phase\n",
    "print('The expected phase is', theta)\n",
    "\n",
    "# List of qubit values to evaluate\n",
    "evaluations = [3,5,10,15]\n",
    "\n",
    "# Iterate over the qubit values\n",
    "for qubit in evaluations:\n",
    "\n",
    "    circuit,count,phase,binary_number = qpe(theta, qubit)\n",
    "    print('The phase is', phase, 'related to the binary number', binary_number)\n"
   ]
  },
  {
   "cell_type": "markdown",
   "metadata": {},
   "source": [
    "As we can see, the more qubits we use, the more precise the result is. In this case, we will use 15 qubits to store the phase, which gives us a precision of 15 bits."
   ]
  },
  {
   "cell_type": "code",
   "execution_count": null,
   "metadata": {},
   "outputs": [],
   "source": []
  }
 ],
 "metadata": {
  "kernelspec": {
   "display_name": "python38",
   "language": "python",
   "name": "python3"
  },
  "language_info": {
   "codemirror_mode": {
    "name": "ipython",
    "version": 3
   },
   "file_extension": ".py",
   "mimetype": "text/x-python",
   "name": "python",
   "nbconvert_exporter": "python",
   "pygments_lexer": "ipython3",
   "version": "3.8.10"
  }
 },
 "nbformat": 4,
 "nbformat_minor": 2
}
