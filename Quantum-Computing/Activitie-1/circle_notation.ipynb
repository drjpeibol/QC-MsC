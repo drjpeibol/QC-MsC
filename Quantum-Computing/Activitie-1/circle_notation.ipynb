{
 "cells": [
  {
   "cell_type": "markdown",
   "metadata": {},
   "source": [
    "# Circle Notation Activity"
   ]
  },
  {
   "cell_type": "markdown",
   "metadata": {},
   "source": [
    "## Imports"
   ]
  },
  {
   "cell_type": "code",
   "execution_count": 116,
   "metadata": {},
   "outputs": [],
   "source": [
    "#Graphical representation of complex numbers\n",
    "import matplotlib.pyplot as plt\n",
    "import colorsys\n",
    "\n",
    "\n",
    "# Math tools\n",
    "import numpy as np\n",
    "import math\n",
    "import cmath\n",
    "\n",
    "# Quantum Computing tools\n",
    "from qiskit import QuantumCircuit, QuantumRegister, ClassicalRegister, execute, Aer\n"
   ]
  },
  {
   "cell_type": "markdown",
   "metadata": {},
   "source": [
    "## Function Development"
   ]
  },
  {
   "cell_type": "markdown",
   "metadata": {},
   "source": [
    "### Secondary Functions\n",
    "\n",
    "In this section we will develop secondady functions that will be used in the main function. This functions are:\n",
    "* **Relative_phase**: This function will calculate the relative phase between two complex numbers.\n",
    "* **Phase2RGB**: This function will convert the phase of a complex number to a color.\n",
    "* **Plot_Color_Spectrum**: This function will plot the color spectrum.\n"
   ]
  },
  {
   "cell_type": "code",
   "execution_count": 185,
   "metadata": {},
   "outputs": [],
   "source": [
    "def Relative_phase(a,b):\n",
    "    \"\"\"\n",
    "    This function calculates the relative phase between two complex numbers\n",
    "\n",
    "    Parameters:\n",
    "    a (complex): First complex number\n",
    "    b (complex): Second complex number\n",
    "\n",
    "    Returns:\n",
    "    relative_phase (float): Relative phase between a and b\n",
    "    \"\"\"\n",
    "\n",
    "    # Calculate the phase of each complex number\n",
    "    phase_a = cmath.phase(a)\n",
    "    phase_b = cmath.phase(b)\n",
    "\n",
    "    # Calculate the relative phase\n",
    "    relative_phase = phase_b - phase_a\n",
    "\n",
    "    # Relative phase is between 0 and 2pi\n",
    "    relative_phase = (relative_phase + 2* cmath.pi) % (2*math.pi)\n",
    "\n",
    "    return relative_phase\n",
    "\n",
    "def phase2RGB(phase):\n",
    "    \"\"\"\n",
    "    Map a phase of a complex number to a color in (r, g, b).\n",
    "    \n",
    "    Parameters:\n",
    "    phase (float): Phase of a complex number\n",
    "    \n",
    "    Returns:\n",
    "    rgb (tuple): RGB values\n",
    "    \"\"\"\n",
    "    rgb = colorsys.hls_to_rgb(phase / (np.pi * 2), 0.5, 0.5)\n",
    "    return rgb\n",
    "\n",
    "def plot_color_spectrum(num_points=1000):\n",
    "    \"\"\"\n",
    "    Plot a circle with a spectrum of colors based on the angle.\n",
    "    \n",
    "    Parameters:\n",
    "    num_points (int): Number of points to plot\n",
    "\n",
    "    Returns:\n",
    "    None\n",
    "    \"\"\"\n",
    "    angles = np.linspace(0, 2 * np.pi, num_points)\n",
    "    colors = [phase2RGB(angle) for angle in angles]\n",
    "\n",
    "    fig, ax = plt.subplots(subplot_kw=dict(polar=True))\n",
    "\n",
    "    ax.scatter(angles, np.ones_like(angles), c=colors, s=5000, marker='o', cmap='hsv', alpha=0.75)\n",
    "    # Remove radial grid and labels\n",
    "    ax.set_yticklabels([])\n",
    "    ax.set_yticks([])\n",
    "    ax.grid(False)\n",
    "    ax.text(0, 0, \"Phase Spectrum\", ha='center', va='center', color='black')\n",
    "    plt.show()"
   ]
  },
  {
   "cell_type": "markdown",
   "metadata": {},
   "source": [
    "### Main Function"
   ]
  },
  {
   "cell_type": "code",
   "execution_count": 186,
   "metadata": {},
   "outputs": [],
   "source": [
    "\n",
    "def Circles(a,b):\n",
    "    \"\"\"\n",
    "    This function prints the circles representing the complex numbers a and b where the radius is the modulus\n",
    "    since the modules are less or equal than 1, the circles are inside the unit circle\n",
    "\n",
    "    Parameters:\n",
    "    a (complex): First complex number\n",
    "    b (complex): Second complex number\n",
    "\n",
    "    Returns:\n",
    "    None\n",
    "    \"\"\"\n",
    "    # Calculate the modulus of each complex number\n",
    "    modulus_a = abs(a)\n",
    "    modulus_b = abs(b)\n",
    "    phase = Relative_phase(a,b)\n",
    "\n",
    "    # Print the circles unit circles and the circles representing the complex numbers inside\n",
    "    #Unitary circles\n",
    "    unit_circle1 = plt.Circle((0, 0), 1, color='black', fill=False)\n",
    "    unit_circle2 = plt.Circle((2.5, 0), 1, color='black', fill=False)\n",
    "    \n",
    "    #Circles representing the complex numbers\n",
    "    circle_a = plt.Circle((0, 0), modulus_a, color='b', fill=True)\n",
    "    circle_b = plt.Circle((2.5, 0), modulus_b, color=phase2RGB(phase), fill=True)\n",
    "    \n",
    "    #Plot\n",
    "    fig, ax = plt.subplots()\n",
    "    ax.set_xlim((-1.2, 3.7))\n",
    "    ax.set_ylim((-1.5, 1.5))\n",
    "    ax.add_artist(unit_circle1)\n",
    "    ax.add_artist(unit_circle2)\n",
    "    ax.add_artist(circle_a)\n",
    "    ax.add_artist(circle_b)\n",
    "    # Add circle label\n",
    "    ax.text(0, 1.3, \"0\", ha='center', va='center', color='black')\n",
    "    ax.text(2.5, 1.3, \"1\", ha='center', va='center', color='black')\n",
    "    \n",
    "    ax.set_yticklabels([])\n",
    "    ax.set_xticklabels([])\n",
    "    ax.set_yticks([])\n",
    "    ax.set_xticks([])\n",
    "\n",
    "    plt.plot([0, modulus_a], [0, 0], color='black')\n",
    "    plt.plot([2.5, 2.5+modulus_b*math.cos(phase)], [modulus_b*math.sin(phase), 0], color='black')\n",
    "    plt.show()"
   ]
  },
  {
   "cell_type": "code",
   "execution_count": 199,
   "metadata": {},
   "outputs": [
    {
     "name": "stdout",
     "output_type": "stream",
     "text": [
      "Quantum state:  Statevector([7.07106781e-01+0.j        , 4.32978028e-17+0.70710678j],\n",
      "            dims=(2,))\n",
      "Relative phase:  0.5 pi\n"
     ]
    },
    {
     "data": {
      "image/png": "[encoded data removed]",
      "text/plain": [
       "<Figure size 432x288 with 1 Axes>"
      ]
     },
     "metadata": {},
     "output_type": "display_data"
    },
    {
     "data": {
      "image/png": "[encoded data removed]",
      "text/plain": [
       "<Figure size 432x288 with 1 Axes>"
      ]
     },
     "metadata": {
      "needs_background": "light"
     },
     "output_type": "display_data"
    }
   ],
   "source": [
    "# Using qiskit we will try these functions in different quantum states\n",
    "backend = Aer.get_backend('statevector_simulator')\n",
    "# Quantum state 1\n",
    "q = QuantumRegister(1)\n",
    "qc = QuantumCircuit(q)\n",
    "qc.h(q[0])\n",
    "\n",
    "# Quantum state 2\n",
    "q2 = QuantumRegister(1)\n",
    "qc2 = QuantumCircuit(q2)\n",
    "qc2.x(q2[0])\n",
    "qc2.h(q2[0])\n",
    "\n",
    "# Quantum state 3\n",
    "q3 = QuantumRegister(1)\n",
    "qc3 = QuantumCircuit(q3)\n",
    "qc3.x(q3[0])\n",
    "qc3.h(q3[0])\n",
    "qc3.s(q3[0])\n",
    "\n",
    "# Quantum state 4\n",
    "q4 = QuantumRegister(1)\n",
    "qc4 = QuantumCircuit(q4)\n",
    "qc4.h(q4[0])\n",
    "qc4.s(q4[0])\n",
    "\n",
    "\n",
    "job = execute(qc4, backend)\n",
    "result = job.result()\n",
    "state = result.get_statevector(qc4)\n",
    "\n",
    "relative_phase = Relative_phase(state[0],state[1])\n",
    "\n",
    "print(\"Quantum state: \", state)\n",
    "print(\"Relative phase: \", relative_phase/math.pi, \"pi\")\n",
    "Circles(state[0],state[1])\n",
    "\n",
    "plot_color_spectrum()"
   ]
  },
  {
   "cell_type": "code",
   "execution_count": null,
   "metadata": {},
   "outputs": [],
   "source": []
  }
 ],
 "metadata": {
  "kernelspec": {
   "display_name": "python38",
   "language": "python",
   "name": "python3"
  },
  "language_info": {
   "codemirror_mode": {
    "name": "ipython",
    "version": 3
   },
   "file_extension": ".py",
   "mimetype": "text/x-python",
   "name": "python",
   "nbconvert_exporter": "python",
   "pygments_lexer": "ipython3",
   "version": "3.8.10"
  }
 },
 "nbformat": 4,
 "nbformat_minor": 2
}
