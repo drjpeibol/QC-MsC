{
 "cells": [
  {
   "cell_type": "markdown",
   "metadata": {},
   "source": [
    "# Circle Notation Activity"
   ]
  },
  {
   "cell_type": "markdown",
   "metadata": {},
   "source": [
    "## Imports"
   ]
  },
  {
   "cell_type": "code",
   "execution_count": 30,
   "metadata": {},
   "outputs": [],
   "source": [
    "#Graphical representation of complex numbers\n",
    "import matplotlib.pyplot as plt\n",
    "import colorsys\n",
    "\n",
    "\n",
    "# Math tools\n",
    "import numpy as np\n",
    "import math\n",
    "import cmath\n",
    "\n",
    "# Quantum Computing tools\n",
    "from qiskit import QuantumCircuit, QuantumRegister, ClassicalRegister, execute, Aer\n"
   ]
  },
  {
   "cell_type": "markdown",
   "metadata": {},
   "source": [
    "## Function Development"
   ]
  },
  {
   "cell_type": "markdown",
   "metadata": {},
   "source": [
    "### Secondary Functions\n",
    "\n",
    "In this section we will develop secondady functions that will be used in the main function. This functions are:\n",
    "* **Relative_phase**: This function will calculate the relative phase between two complex numbers.\n",
    "* **Phase2RGB**: This function will convert the phase of a complex number to a color.\n"
   ]
  },
  {
   "cell_type": "code",
   "execution_count": 42,
   "metadata": {},
   "outputs": [
    {
     "name": "stdout",
     "output_type": "stream",
     "text": [
      "4.71238898038469\n",
      "(0.4999999999999998, 0.25, 0.75)\n"
     ]
    }
   ],
   "source": [
    "def Relative_phase(a,b):\n",
    "    \"\"\"\n",
    "    This function calculates the relative phase between two complex numbers\n",
    "\n",
    "    Parameters:\n",
    "    a (complex): First complex number\n",
    "    b (complex): Second complex number\n",
    "\n",
    "    Returns:\n",
    "    relative_phase (float): Relative phase between a and b\n",
    "    \"\"\"\n",
    "\n",
    "    # Calculate the phase of each complex number\n",
    "    phase_a = cmath.phase(a)\n",
    "    phase_b = cmath.phase(b)\n",
    "\n",
    "    # Calculate the relative phase\n",
    "    relative_phase = phase_b - phase_a\n",
    "\n",
    "    # Relative phase is between 0 and 2pi\n",
    "    relative_phase = (relative_phase + 2* cmath.pi) % (2*math.pi)\n",
    "\n",
    "    return relative_phase\n",
    "\n",
    "def phase2RGB(phase):\n",
    "    \"\"\"Map a phase of a complex number to a color in (r, g, b).\"\"\"\n",
    "    rgb = colorsys.hls_to_rgb(phase / (np.pi * 2), 0.5, 0.5)\n",
    "    return rgb\n",
    "\n",
    "\n",
    "\n",
    "# try these functions with different complex numbers\n",
    "\n",
    "a = 1/math.sqrt(2)\n",
    "b = -1j/math.sqrt(2)\n",
    "\n",
    "relative_phase = Relative_phase(a,b)\n",
    "print(relative_phase)\n",
    "\n",
    "rgb = phase2RGB(relative_phase)\n",
    "print(rgb)\n"
   ]
  },
  {
   "cell_type": "markdown",
   "metadata": {},
   "source": [
    "### Main Function"
   ]
  },
  {
   "cell_type": "code",
   "execution_count": 80,
   "metadata": {},
   "outputs": [],
   "source": [
    "\n",
    "def Circles(a,b):\n",
    "    \"\"\"\n",
    "    This function prints the circles representing the complex numbers a and b where the radius is the modulus\n",
    "    since the modules are less or equal than 1, the circles are inside the unit circle\n",
    "\n",
    "    Parameters:\n",
    "    a (complex): First complex number\n",
    "    b (complex): Second complex number\n",
    "\n",
    "    Returns:\n",
    "    None\n",
    "    \"\"\"\n",
    "    # Calculate the modulus of each complex number\n",
    "    modulus_a = abs(a)\n",
    "    modulus_b = abs(b)\n",
    "    phase = Relative_phase(a,b)\n",
    "\n",
    "    # Print the circles unit circles and the circles representing the complex numbers inside\n",
    "    #Unitary circles\n",
    "    unit_circle1 = plt.Circle((0, 0), 1, color='black', fill=False)\n",
    "    unit_circle2 = plt.Circle((2, 0), 1, color='black', fill=False)\n",
    "    \n",
    "    #Circles representing the complex numbers\n",
    "    circle_a = plt.Circle((0, 0), modulus_a, color='b', fill=True)\n",
    "    circle_b = plt.Circle((2, 0), modulus_b, color=phase2RGB(phase), fill=True)\n",
    "    \n",
    "    #Plot\n",
    "    fig, ax = plt.subplots()\n",
    "    ax.set_xlim((-1.2, 3.2))\n",
    "    ax.set_ylim((-1.2, 1.2))\n",
    "    ax.add_artist(unit_circle1)\n",
    "    ax.add_artist(unit_circle2)\n",
    "    ax.add_artist(circle_a)\n",
    "    ax.add_artist(circle_b)\n",
    "\n",
    "    plt.plot([0, modulus_a], [0, 0], color='black')\n",
    "    plt.plot([2, 2+modulus_b*math.cos(phase)], [modulus_b*math.sin(phase), 0], color='black')\n",
    "    plt.show()"
   ]
  },
  {
   "cell_type": "code",
   "execution_count": 82,
   "metadata": {},
   "outputs": [
    {
     "name": "stdout",
     "output_type": "stream",
     "text": [
      "4.71238898038469\n"
     ]
    },
    {
     "data": {
      "image/png": "[encoded data removed]",
      "text/plain": [
       "<Figure size 432x288 with 1 Axes>"
      ]
     },
     "metadata": {
      "needs_background": "light"
     },
     "output_type": "display_data"
    }
   ],
   "source": [
    "# try these functions with different complex numbers\n",
    "\n",
    "a = 1/math.sqrt(2)\n",
    "b = -1j/math.sqrt(2)\n",
    "\n",
    "relative_phase = Relative_phase(a,b)\n",
    "print(relative_phase)\n",
    "Circles(a,b)"
   ]
  },
  {
   "cell_type": "code",
   "execution_count": null,
   "metadata": {},
   "outputs": [],
   "source": []
  }
 ],
 "metadata": {
  "kernelspec": {
   "display_name": "python38",
   "language": "python",
   "name": "python3"
  },
  "language_info": {
   "codemirror_mode": {
    "name": "ipython",
    "version": 3
   },
   "file_extension": ".py",
   "mimetype": "text/x-python",
   "name": "python",
   "nbconvert_exporter": "python",
   "pygments_lexer": "ipython3",
   "version": "3.8.10"
  }
 },
 "nbformat": 4,
 "nbformat_minor": 2
}
