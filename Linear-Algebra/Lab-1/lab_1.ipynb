{
 "cells": [
  {
   "cell_type": "markdown",
   "metadata": {},
   "source": [
    "# <a id='toc1_'></a>[Enunciado Laboratorio 1: Operaciones](#toc0_)"
   ]
  },
  {
   "cell_type": "markdown",
   "metadata": {},
   "source": [
    "**Table of contents**<a id='toc0_'></a>    \n",
    "- [Enunciado Laboratorio 1: Operaciones](#toc1_)    \n",
    "  - [Objetivos](#toc1_1_)    \n",
    "  - [Pautas de elaboración](#toc1_2_)    \n",
    "  - [Operaciones con Matrices](#toc1_3_)    \n",
    "    - [Utilizando NumPy, Cmath y Math](#toc1_3_1_)    \n",
    "    - [Resultados a Obtener](#toc1_3_2_)    \n",
    "    - [Utilizando NumPy y Qiskit](#toc1_3_3_)    \n",
    "    - [Vectores Estados $C^2: |0\\rangle, |1\\rangle$](#toc1_3_4_)    \n",
    "    - [Vectores Estado $C^4$](#toc1_3_5_)    \n",
    "    - [Vectores Específicos](#toc1_3_6_)    \n",
    "- [Desarrollo](#toc2_)    \n",
    "  - [Importación de librerías](#toc2_1_)    \n",
    "  - [Operaciones con Matrices](#toc2_2_)    \n",
    "    - [Forma polar de cada determinante y traza de cada matriz.](#toc2_2_1_)    \n",
    "    - [$2i(\\text{det}(D) + \\text{tr}(C))AB - (1+i)\\det(C)\\text{tr}(D)BA$.](#toc2_2_2_)    \n",
    "    - [La inversa de cada matriz, si existe.](#toc2_2_3_)    \n",
    "    - [Usando la definición y, al mismo tiempo, las propiedades de los valores propios, clasifica cada una de las matrices en normales, hermitianas o unitarias.](#toc2_2_4_)    \n",
    "  - [Vectores Estados $C^2: |0\\rangle, |1\\rangle$](#toc2_3_)    \n",
    "    - [Crear los vectores estados $C^2: |0\\rangle, |1\\rangle$.](#toc2_3_1_)    \n",
    "    - [Hallar los estados $|+\\rangle, |-\\rangle, |i+\\rangle, |i-\\rangle$ y los estados de Bell.](#toc2_3_2_)    \n",
    "      - [$|+\\rangle$](#toc2_3_2_1_)    \n",
    "      - [$|-\\rangle$](#toc2_3_2_2_)    \n",
    "      - [$|i+\\rangle$](#toc2_3_2_3_)    \n",
    "      - [$|i-\\rangle$](#toc2_3_2_4_)    \n",
    "      - [Estados de Bell](#toc2_3_2_5_)    \n",
    "  - [Vectores Estado $C^4$](#toc2_4_)    \n",
    "    - [Encontrar la base computacional de $C^4$, por ejemplo, $|10\\rangle$.](#toc2_4_1_)    \n",
    "  - [Vectores Específicos](#toc2_5_)    \n",
    "    - [Hallar los vectores $\\frac{1}{\\sqrt{2}}|000\\rangle + \\frac{1}{\\sqrt{2}}|111\\rangle$, $\\frac{i}{\\sqrt{2}}|000\\rangle - \\frac{1}{\\sqrt{2}}|111\\rangle$, y $\\frac{1}{\\sqrt{2}}|000\\rangle + \\frac{i}{\\sqrt{2}}|111\\rangle$.](#toc2_5_1_)    \n",
    "      - [$\\frac{1}{\\sqrt{2}}|000\\rangle + \\frac{1}{\\sqrt{2}}|111\\rangle$](#toc2_5_1_1_)    \n",
    "      - [$\\frac{i}{\\sqrt{2}}|000\\rangle - \\frac{1}{\\sqrt{2}}|111\\rangle$](#toc2_5_1_2_)    \n",
    "      - [$\\frac{1}{\\sqrt{2}}|000\\rangle + \\frac{i}{\\sqrt{2}}|111\\rangle$](#toc2_5_1_3_)    \n",
    "\n",
    "<!-- vscode-jupyter-toc-config\n",
    "\tnumbering=false\n",
    "\tanchor=true\n",
    "\tflat=false\n",
    "\tminLevel=1\n",
    "\tmaxLevel=6\n",
    "\t/vscode-jupyter-toc-config -->\n",
    "<!-- THIS CELL WILL BE REPLACED ON TOC UPDATE. DO NOT WRITE YOUR TEXT IN THIS CELL -->"
   ]
  },
  {
   "cell_type": "markdown",
   "metadata": {},
   "source": [
    "## <a id='toc1_1_'></a>[Objetivos](#toc0_)\n",
    "\n",
    "Con esta actividad reforzarás tus conceptos aprendidos hasta el momento en el curso y comenzarás a explorar una de las herramientas para la computación cuántica.\n",
    "\n",
    "## <a id='toc1_2_'></a>[Pautas de elaboración](#toc0_)\n",
    "\n",
    "La actividad consiste en familiarizarse con el entorno de Python y con librerías como Numpy. Adicionalmente, usaremos Qiskit, una de las herramientas para la computación cuántica, por lo que la actividad se dividirá en dos partes:\n",
    "\n",
    "- La primera, en la que hacemos uso de NumPy.\n",
    "- La segunda, en la que, además, utilizaremos Qiskit.\n",
    "\n",
    "Para ello, vamos a realizar las operaciones que se han aprendido hasta el momento durante la primera parte del curso, entre ellas: identificar una matriz normal, hermitiana, unitaria y el producto tensorial entre matrices y vectores.\n",
    "\n",
    "## <a id='toc1_3_'></a>[Operaciones con Matrices](#toc0_)\n",
    "\n",
    "### <a id='toc1_3_1_'></a>[Utilizando NumPy, Cmath y Math](#toc0_)\n",
    "\n",
    "Considere las siguientes matrices:\n",
    "\n",
    "$ A = \\begin{bmatrix} 9i & 2+i & 6-2i \\\\ -2+i & 4i & -7+7i \\\\ -6-2i & 7+7i & -2i \\end{bmatrix} $\n",
    "\n",
    "$ B = \\begin{bmatrix} 1+i & 1+2i & 1+3i \\\\ 2+i & 2+2i & 2+3i \\\\ 3+i & 3+2i & 3+3i \\end{bmatrix} $\n",
    "\n",
    "$ C = \\begin{bmatrix} 2i & 1+i & 4+i & -2i \n",
    "                 \\\\ -1+i & 3i & 4+7i & 1-i \n",
    "                 \\\\ -4+i & -4+7i & -9i & 3-4i \n",
    "                 \\\\ 2i & -1+i & -3-4i & -5i \\end{bmatrix} $\n",
    "\n",
    "$ D = \\begin{bmatrix} i & 0 \\\\ 0 & 3-5i \\end{bmatrix} $\n",
    "\n",
    "### <a id='toc1_3_2_'></a>[Resultados a Obtener](#toc0_)\n",
    "\n",
    "1. Forma polar de cada determinante y traza de cada matriz.\n",
    "2. $2i(\\text{det}(D) + \\text{tr}(C))AB - (1+i)\\det(C)\\text{tr}(D)BA$.\n",
    "3. La inversa de cada matriz, si existe.\n",
    "4. Usando la definición y, al mismo tiempo, las propiedades de los valores propios, clasifica cada una de las matrices en normales, hermitianas o unitarias.\n",
    "\n",
    "### <a id='toc1_3_3_'></a>[Utilizando NumPy y Qiskit](#toc0_)\n",
    "\n",
    "### <a id='toc1_3_4_'></a>[Vectores Estados $C^2: |0\\rangle, |1\\rangle$](#toc0_)\n",
    "\n",
    "1. Crear los vectores estados $C^2: |0\\rangle, |1\\rangle$.\n",
    "2. Hallar los estados $|+\\rangle, |-\\rangle, |i+\\rangle, |i-\\rangle$ y los estados de Bell.\n",
    "\n",
    "### <a id='toc1_3_5_'></a>[Vectores Estado $C^4$](#toc0_)\n",
    "\n",
    "1. Encontrar la base computacional de $C^4$, por ejemplo, $|10\\rangle$.\n",
    "\n",
    "### <a id='toc1_3_6_'></a>[Vectores Específicos](#toc0_)\n",
    "\n",
    "1. Hallar los vectores $\\frac{1}{\\sqrt{2}}|000\\rangle + \\frac{1}{\\sqrt{2}}|111\\rangle$, $\\frac{i}{\\sqrt{2}}|000\\rangle - \\frac{1}{\\sqrt{2}}|111\\rangle$, y $\\frac{1}{\\sqrt{2}}|000\\rangle + \\frac{i}{\\sqrt{2}}|111\\rangle$.\n",
    "\n"
   ]
  },
  {
   "cell_type": "markdown",
   "metadata": {},
   "source": [
    "# <a id='toc2_'></a>[Desarrollo](#toc0_)\n",
    "\n",
    "En esta sección se desarrolla la actividad propuesta.\n",
    "\n",
    "## <a id='toc2_1_'></a>[Importación de librerías](#toc0_)\n",
    "\n",
    "Importamos las librerías que vamos a utilizar en la actividad: \n",
    "\n",
    "* Numpy: para operaciones matriciales.\n",
    "* Cmath: para operaciones matemáticas complejas.\n",
    "* Math: para operaciones matemáticas.\n",
    "* Qiskit: para operaciones cuánticas."
   ]
  },
  {
   "cell_type": "code",
   "execution_count": 1,
   "metadata": {},
   "outputs": [],
   "source": [
    "import numpy as np\n",
    "import cmath as cm\n",
    "import math as m\n",
    "import qiskit as qk\n",
    "from qiskit.visualization import circuit_drawer, plot_bloch_multivector\n",
    "\n",
    "# Matplotlib for plotting\n",
    "import matplotlib.pyplot as plt\n",
    "#%matplotlib inline"
   ]
  },
  {
   "cell_type": "markdown",
   "metadata": {},
   "source": [
    "## <a id='toc2_2_'></a>[Operaciones con Matrices](#toc0_)\n",
    "\n",
    "Definiremos las matrices $A$, $B$, $C$ y $D$."
   ]
  },
  {
   "cell_type": "code",
   "execution_count": 2,
   "metadata": {},
   "outputs": [
    {
     "name": "stdout",
     "output_type": "stream",
     "text": [
      "Matriz A:\n",
      "[[ 0.+9.j  2.+1.j  6.-2.j]\n",
      " [-2.+1.j  0.+4.j -7.+7.j]\n",
      " [-6.-2.j  7.+7.j -0.-2.j]]\n",
      "\n",
      "Matriz B:\n",
      "[[1.+1.j 1.+2.j 1.+3.j]\n",
      " [2.+1.j 2.+2.j 2.+3.j]\n",
      " [3.+1.j 3.+2.j 3.+3.j]]\n",
      "\n",
      "Matriz C:\n",
      "[[ 0.+2.j  1.+1.j  4.+1.j -0.-2.j]\n",
      " [-1.+1.j  0.+3.j  4.+7.j  1.-1.j]\n",
      " [-4.+1.j -4.+7.j -0.-9.j  3.-4.j]\n",
      " [ 0.+2.j -1.+1.j -3.-4.j -0.-5.j]]\n",
      "\n",
      "Matriz D:\n",
      "[[0.+1.j 0.+0.j]\n",
      " [0.+0.j 3.-5.j]]\n"
     ]
    }
   ],
   "source": [
    "# Definimos las matrices A, B, C y D\n",
    "\n",
    "A = np.array([\n",
    "    [9j, 2 + 1j, 6 - 2j],\n",
    "    [-2 + 1j, 4j, -7 + 7j],\n",
    "    [-6 - 2j, 7 + 7j, -2j],\n",
    "])\n",
    "\n",
    "B = np.array([\n",
    "    [1 + 1j, 1 + 2j, 1 + 3j],\n",
    "    [2 + 1j, 2 + 2j, 2 + 3j],\n",
    "    [3 + 1j, 3 + 2j, 3 + 3j],\n",
    "])\n",
    "\n",
    "C = np.array([[2j, 1+1j, 4+1j, -2j],\n",
    "              [-1+1j, 3j, 4+7j, 1-1j],\n",
    "              [-4+1j, -4+7j, -9j, 3-4j],\n",
    "              [2j, -1+1j, -3-4j, -5j]\n",
    "])\n",
    "\n",
    "\n",
    "D = np.array([\n",
    "    [1j, 0],\n",
    "    [0, 3 - 5j],\n",
    "])\n",
    "\n",
    "# Imprimir las matrices\n",
    "print(\"Matriz A:\")\n",
    "print(A)\n",
    "\n",
    "print(\"\\nMatriz B:\")\n",
    "print(B)\n",
    "\n",
    "print(\"\\nMatriz C:\")\n",
    "print(C)\n",
    "\n",
    "print(\"\\nMatriz D:\")\n",
    "print(D)"
   ]
  },
  {
   "cell_type": "markdown",
   "metadata": {},
   "source": [
    "### <a id='toc2_2_1_'></a>[Forma polar de cada determinante y traza de cada matriz.](#toc0_)\n",
    "\n",
    "Para obtener el determinante de una matriz, utilizamos la función `np.linalg.det()` de Numpy. Para obtener la traza de una matriz, utilizamos la función `np.trace()` de Numpy.\n",
    "\n",
    "Utilizaremos la funcion `np.round()` para redondear los valores obtenidos.\n",
    "\n",
    "Para obtener la forma polar de un número complejo, utilizaremos la función `cmath.polar()` de Cmath. Donde la función `cmath.polar()` devuelve un par de valores, el primero es el radio y el segundo es el ángulo en radianes."
   ]
  },
  {
   "cell_type": "code",
   "execution_count": 3,
   "metadata": {},
   "outputs": [
    {
     "name": "stdout",
     "output_type": "stream",
     "text": [
      "\n",
      "Forma polar del determinante de A:\n",
      "(1104.0, 1.5707963267948966)\n",
      "\n",
      "Forma polar del determinante de B:\n",
      "(0.0, -3.141592653589793)\n",
      "\n",
      "Forma polar del determinante de C:\n",
      "(295.16266701600324, 0.2047043998027825)\n",
      "\n",
      "Forma polar del determinante de D:\n",
      "(5.830951894845301, 0.5404195002705842)\n",
      "\n",
      "Forma polar de la traza de A:\n",
      "(11.0, 1.5707963267948966)\n",
      "\n",
      "Forma polar de la traza de B:\n",
      "(8.48528137423857, 0.7853981633974483)\n",
      "\n",
      "Forma polar de la traza de C:\n",
      "(9.0, -1.5707963267948966)\n",
      "\n",
      "Forma polar de la traza de D:\n",
      "(5.0, -0.9272952180016122)\n"
     ]
    },
    {
     "name": "stderr",
     "output_type": "stream",
     "text": [
      "/opt/homebrew/Caskroom/miniforge/base/envs/python38/lib/python3.8/site-packages/numpy/linalg/linalg.py:2146: RuntimeWarning: divide by zero encountered in det\n",
      "  r = _umath_linalg.det(a, signature=signature)\n",
      "/opt/homebrew/Caskroom/miniforge/base/envs/python38/lib/python3.8/site-packages/numpy/linalg/linalg.py:2146: RuntimeWarning: invalid value encountered in det\n",
      "  r = _umath_linalg.det(a, signature=signature)\n"
     ]
    }
   ],
   "source": [
    "# Calculamos la forma polar del determinante de cada matriz con 3 decimales de precisión\n",
    "print(\"\\nForma polar del determinante de A:\")\n",
    "print(cm.polar(np.round(np.linalg.det(A),3)))\n",
    "\n",
    "print(\"\\nForma polar del determinante de B:\")\n",
    "print(cm.polar(np.round(np.linalg.det(B),3)))\n",
    "\n",
    "print(\"\\nForma polar del determinante de C:\")\n",
    "print(cm.polar(np.round(np.linalg.det(C),3)))\n",
    "\n",
    "print(\"\\nForma polar del determinante de D:\")\n",
    "print(cm.polar(np.round(np.linalg.det(D),3)))\n",
    "\n",
    "# Forma polar de la traza de cada matriz con 3 decimales de precisión\n",
    "print(\"\\nForma polar de la traza de A:\")\n",
    "print(cm.polar(np.round(np.trace(A),3)))\n",
    "\n",
    "print(\"\\nForma polar de la traza de B:\")\n",
    "print(cm.polar(np.round(np.trace(B),3)))\n",
    "\n",
    "print(\"\\nForma polar de la traza de C:\")\n",
    "print(cm.polar(np.round(np.trace(C),3)))\n",
    "\n",
    "print(\"\\nForma polar de la traza de D:\")\n",
    "print(cm.polar(np.round(np.trace(D),3)))\n"
   ]
  },
  {
   "cell_type": "markdown",
   "metadata": {},
   "source": [
    "### <a id='toc2_2_2_'></a>[$2i(\\text{det}(D) + \\text{tr}(C))AB - (1+i)\\det(C)\\text{tr}(D)BA$.](#toc0_)\n",
    "\n",
    "Para la obtención del resultado de la expresión propuesta, necesitamos realizar multiplicaciones de matrices. Para ello haremos uso de la función `.dot()` de Numpy. Esta función realiza el producto punto entre dos matrices.\n"
   ]
  },
  {
   "cell_type": "code",
   "execution_count": 4,
   "metadata": {},
   "outputs": [
    {
     "name": "stdout",
     "output_type": "stream",
     "text": [
      "\n",
      "Resultado de la expresión:\n",
      "[[16085. +37585.j 35392. -69002.j -2786.  +6916.j]\n",
      " [34613.  -7543.j 29409.-125121.j 21258. -29578.j]\n",
      " [56021.  +1769.j  9082.-122232.j 13734.  -2496.j]]\n"
     ]
    }
   ],
   "source": [
    "# Calcularemos la siguiente expresión: 2i(det(D) + tr(C))AB - (1+i)det(C)tr(D)BA\n",
    "\n",
    "# Primero calculamos el determinante de C y la traza de D\n",
    "detC = np.linalg.det(C)\n",
    "trD = np.trace(D)\n",
    "\n",
    "# Calculamos los productos AB y BA\n",
    "AB = A.dot(B)\n",
    "BA = B.dot(A)\n",
    "\n",
    "# Calculamos la expresión\n",
    "exp = 2j*(detC + trD)*AB - (1 + 1j)*detC*trD*BA\n",
    "\n",
    "# Imprimimos el resultado\n",
    "print(\"\\nResultado de la expresión:\")\n",
    "print(exp)\n"
   ]
  },
  {
   "cell_type": "markdown",
   "metadata": {},
   "source": [
    "### <a id='toc2_2_3_'></a>[La inversa de cada matriz, si existe.](#toc0_)\n",
    "\n",
    "Para obtener la inversa de una matriz, utilizamos la función `np.linalg.inv()` de Numpy. Esta función devuelve la inversa de una matriz.\n",
    "\n",
    "Antes de calcular la inversa comprobaremos si el determinante de la matriz es distinto de cero, ya que si el determinante es cero, la matriz no tiene inversa.\n",
    "\n",
    "Implementaremos una función que compruebe si el determinante de una matriz es distinto de cero y en caso de serlo, devolverá la inversa de la matriz."
   ]
  },
  {
   "cell_type": "code",
   "execution_count": 5,
   "metadata": {},
   "outputs": [
    {
     "name": "stdout",
     "output_type": "stream",
     "text": [
      "\n",
      "Inversa de A:\n",
      "[[-0.   -0.096j  0.029-0.049j -0.015+0.026j]\n",
      " [-0.029-0.049j  0.   -0.053j  0.066-0.048j]\n",
      " [ 0.015+0.026j -0.066-0.048j -0.   +0.028j]]\n",
      "\n",
      "Inversa de B:\n",
      "La matriz no tiene inversa\n",
      "\n",
      "Inversa de C:\n",
      "[[-0.365-1.291j  0.683+0.44j  -0.064-0.091j  0.094+0.403j]\n",
      " [-0.44 +0.23j   0.111-0.331j -0.068-0.079j  0.095+0.056j]\n",
      " [ 0.061+0.043j -0.006-0.078j  0.008+0.04j  -0.022-0.037j]\n",
      " [-0.354-0.556j  0.413+0.191j -0.054-0.093j  0.085+0.408j]]\n",
      "\n",
      "Inversa de D:\n",
      "[[0.   -1.j    0.   +0.j   ]\n",
      " [0.   +0.j    0.088+0.147j]]\n"
     ]
    }
   ],
   "source": [
    "# \n",
    "\n",
    "def inversa(matriz):\n",
    "    \"\"\"Función que calcula la inversa de una matriz\n",
    "    \n",
    "    Args:\n",
    "        matriz(array): matriz a la que se le quiere calcular la inversa\n",
    "    \n",
    "    Returns:\n",
    "        La inversa de la matriz, o un mensaje de aviso si no tiene inversa\n",
    "    \n",
    "    \"\"\"\n",
    "    if abs(np.round(np.linalg.det(matriz),3)) != 0:\n",
    "        return np.round(np.linalg.inv(matriz),3)\n",
    "    else:\n",
    "        return \"La matriz no tiene inversa\"\n",
    "    \n",
    "# Imprimimos las inversas de las matrices\n",
    "print(\"\\nInversa de A:\")\n",
    "print(inversa(A))\n",
    "\n",
    "print(\"\\nInversa de B:\")\n",
    "print(inversa(B))\n",
    "\n",
    "print(\"\\nInversa de C:\")\n",
    "print(inversa(C))\n",
    "\n",
    "print(\"\\nInversa de D:\")\n",
    "print(inversa(D))\n"
   ]
  },
  {
   "cell_type": "markdown",
   "metadata": {},
   "source": [
    "Vemos que todas las matrices son invertibles menos la matriz $B$ dado que su determinante es cero."
   ]
  },
  {
   "cell_type": "markdown",
   "metadata": {},
   "source": [
    "### <a id='toc2_2_4_'></a>[Usando la definición y, al mismo tiempo, las propiedades de los valores propios, clasifica cada una de las matrices en normales, hermitianas o unitarias.](#toc0_)\n",
    "\n",
    "* Para que una matriz sea considerada una matriz hermitica debe cumplir que sus autovalores sean reales.\n",
    "\n",
    "* Para que una matriz sea considerada una matriz unitaria debe cumplir que sus autovalores sean de magnitud 1.\n",
    "\n",
    "* Para que una matriz sea considerada una matriz normal debe cumplir que conmute con su adjunta.\n",
    "\n",
    "Estas condiciones las evaluaremos obtenidno los autovalores de cada matriz y comprobando que se cumplan las condiciones mencionadas. Para obtener dichos autovalores usaremos la función `np.linalg.eigvals()` de Numpy, para obtener la adjunta de una matriz usaremos la función `.conj()` de Numpy y luego `.T` para obtener su transpuesta."
   ]
  },
  {
   "cell_type": "code",
   "execution_count": 6,
   "metadata": {},
   "outputs": [],
   "source": [
    "# Si la matriz es normal, entonces conmuta con su adjunta\n",
    "# Si los autovalores son todos reales, entonces la matriz es hermítica\n",
    "# Si los autovalores tienen un modulo igual a 1, entonces la matriz es unitaria\n",
    "\n",
    "# Comprobamos si las matrices son normales, hermíticas y unitarias. Para ello haremos una función que compruebe si una matriz es normal, \n",
    "# hermítica o unitaria o varias de ellas en función de las caracteristicas de sus autovalores\n",
    "\n",
    "def propiedades(matriz):\n",
    "    \"\"\"\n",
    "    Comprueba si una matriz es normal, hermítica o unitaria o varias de ellas en función de las caracteristicas de sus autovalores\n",
    "\n",
    "    Args:\n",
    "        matriz (array): matriz a comprobar\n",
    "    \n",
    "    Returns:\n",
    "        None\n",
    "    \"\"\" \n",
    "\n",
    "    # Calculamos los autovalores de la matriz\n",
    "    eig = np.round(np.linalg.eigvals(matriz),3)\n",
    "    print(\"\\nAutovalores de la matriz:\")\n",
    "    print(eig)\n",
    "\n",
    "    # Si la matriz es normal, entonces conmuta con su adjunta\n",
    "    if np.allclose(matriz.dot(matriz.conj().T), matriz.conj().T.dot(matriz)):\n",
    "        print(\"\\nLa matriz es normal\")\n",
    "    else:\n",
    "        print(\"\\nLa matriz no es normal\")\n",
    "    \n",
    "    # Si los autovalores son todos reales, entonces la matriz es hermítica\n",
    "    if np.all(np.isreal(eig)):\n",
    "        print(\"\\nLa matriz es hermítica\")\n",
    "    else:\n",
    "        print(\"\\nLa matriz no es hermítica\")\n",
    "    \n",
    "    # Si los distintos autovalores tienen modulo 1, entonces la matriz es unitaria\n",
    "    unitaria = True\n",
    "    for i in range(len(eig)):\n",
    "        if np.round(abs(eig[i]),3) != 1:\n",
    "            unitaria = False\n",
    "    if unitaria:\n",
    "        print(\"\\nLa matriz es unitaria\")\n",
    "    else:\n",
    "        print(\"\\nLa matriz no es unitaria\")\n",
    "\n"
   ]
  },
  {
   "cell_type": "markdown",
   "metadata": {},
   "source": [
    "Comprobamos las distintas matrices:\n",
    "\n",
    "* Matriz A: $ A = \\begin{bmatrix} 9i & 2+i & 6-2i \\\\ -2+i & 4i & -7+7i \\\\ -6-2i & 7+7i & -2i \\end{bmatrix} $"
   ]
  },
  {
   "cell_type": "code",
   "execution_count": 7,
   "metadata": {},
   "outputs": [
    {
     "name": "stdout",
     "output_type": "stream",
     "text": [
      "\n",
      "Propiedades de la matriz A:\n",
      "\n",
      "Autovalores de la matriz:\n",
      "[ 0.-10.795j -0. +6.838j -0.+14.957j]\n",
      "\n",
      "La matriz es normal\n",
      "\n",
      "La matriz no es hermítica\n",
      "\n",
      "La matriz no es unitaria\n"
     ]
    }
   ],
   "source": [
    "# Comprobamos las propiedades de las matrices A, B, C y D\n",
    "print(\"\\nPropiedades de la matriz A:\")\n",
    "propiedades(A)"
   ]
  },
  {
   "cell_type": "markdown",
   "metadata": {},
   "source": [
    "* Matriz B: $ B = \\begin{bmatrix} 1+i & 1+2i & 1+3i \\\\ 2+i & 2+2i & 2+3i \\\\ 3+i & 3+2i & 3+3i \\end{bmatrix} $"
   ]
  },
  {
   "cell_type": "code",
   "execution_count": 8,
   "metadata": {},
   "outputs": [
    {
     "name": "stdout",
     "output_type": "stream",
     "text": [
      "\n",
      "Propiedades de la matriz B:\n",
      "\n",
      "Autovalores de la matriz:\n",
      "[ 6.464+6.464j -0.464-0.464j  0.   +0.j   ]\n",
      "\n",
      "La matriz es normal\n",
      "\n",
      "La matriz no es hermítica\n",
      "\n",
      "La matriz no es unitaria\n"
     ]
    }
   ],
   "source": [
    "print(\"\\nPropiedades de la matriz B:\")\n",
    "propiedades(B)"
   ]
  },
  {
   "cell_type": "markdown",
   "metadata": {},
   "source": [
    "* Matriz C: $ C = \\begin{bmatrix} 2i & 1+i & 4+i & -2i \n",
    "                 \\\\ -1+i & 3i & 4+7i & 1-i \n",
    "                 \\\\ -4+i & -4+7i & -9i & 3-4i \n",
    "                 \\\\ 2i & -1+i & -3-4i & -5i \\end{bmatrix} $"
   ]
  },
  {
   "cell_type": "code",
   "execution_count": 9,
   "metadata": {},
   "outputs": [
    {
     "name": "stdout",
     "output_type": "stream",
     "text": [
      "\n",
      "Propiedades de la matriz C:\n",
      "\n",
      "Autovalores de la matriz:\n",
      "[-0.187-15.48j   0.002 +8.908j -0.088 +0.68j   0.273 -3.108j]\n",
      "\n",
      "La matriz no es normal\n",
      "\n",
      "La matriz no es hermítica\n",
      "\n",
      "La matriz no es unitaria\n"
     ]
    }
   ],
   "source": [
    "\n",
    "print(\"\\nPropiedades de la matriz C:\")\n",
    "propiedades(C)"
   ]
  },
  {
   "cell_type": "markdown",
   "metadata": {},
   "source": [
    "* Matriz D: $ D = \\begin{bmatrix} i & 0 \\\\ 0 & 3-5i \\end{bmatrix} $"
   ]
  },
  {
   "cell_type": "code",
   "execution_count": 10,
   "metadata": {},
   "outputs": [
    {
     "name": "stdout",
     "output_type": "stream",
     "text": [
      "\n",
      "Propiedades de la matriz D:\n",
      "\n",
      "Autovalores de la matriz:\n",
      "[0.+1.j 3.-5.j]\n",
      "\n",
      "La matriz es normal\n",
      "\n",
      "La matriz no es hermítica\n",
      "\n",
      "La matriz no es unitaria\n"
     ]
    }
   ],
   "source": [
    "\n",
    "print(\"\\nPropiedades de la matriz D:\")\n",
    "propiedades(D)"
   ]
  },
  {
   "cell_type": "markdown",
   "metadata": {},
   "source": [
    "Otra forma de evaluar las propiedades de las matrices es mediante la definición de hermiticidad, unitariedad y normalidad.\n",
    "\n",
    "* Una matriz es hermitica si es igual a su adjunta.\n",
    "\n",
    "* Una matriz es unitaria si su adjunta es igual a su inversa.\n",
    "\n",
    "* Una matriz es normal si conmuta con su adjunta.\n",
    "\n",
    "Implementaremos una función que nos permita evaluar las propiedades de las matrices segun estas definiciones."
   ]
  },
  {
   "cell_type": "code",
   "execution_count": 11,
   "metadata": {},
   "outputs": [],
   "source": [
    "# Si la matriz es normal, entonces conmuta con su adjunta\n",
    "# Si la matriz es hermítica, entonces es igual a su adjunta\n",
    "# Si la matriz es unitaria, entonces su adjunta es igual a su inversa\n",
    "\n",
    "# Comprobamos si las matrices son normales, hermíticas y unitarias. Para ello haremos una función que compruebe si una matriz es normal,\n",
    "# hermítica o unitaria o varias de ellas en función de sus caracteristicas\n",
    "\n",
    "def propiedades2(matriz):\n",
    "    \"\"\"\n",
    "    Comprueba si una matriz es normal, hermítica o unitaria o varias de ellas en función de sus caracteristicas\n",
    "\n",
    "    Args:\n",
    "        matriz (array): matriz a comprobar\n",
    "    \n",
    "    Returns:\n",
    "        None\n",
    "    \"\"\" \n",
    "\n",
    "    # Calculamos los autovalores de la matriz\n",
    "    eig = np.round(np.linalg.eigvals(matriz),3)\n",
    "    print(\"\\nAutovalores de la matriz:\")\n",
    "    print(eig)\n",
    "\n",
    "    # Si la matriz es normal, entonces conmuta con su adjunta\n",
    "    if np.allclose(matriz.dot(matriz.conj().T), matriz.conj().T.dot(matriz)):\n",
    "        print(\"\\nLa matriz es normal\")\n",
    "    else:\n",
    "        print(\"\\nLa matriz no es normal\")\n",
    "    \n",
    "    # Si la matriz es hermítica, entonces es igual a su adjunta\n",
    "    if np.allclose(matriz, matriz.conj().T):\n",
    "        print(\"\\nLa matriz es hermítica\")\n",
    "    else:\n",
    "        print(\"\\nLa matriz no es hermítica\")\n",
    "    \n",
    "    # Si la matriz es unitaria, entonces su adjunta es igual a su inversa\n",
    "    if np.allclose(matriz.conj().T, np.linalg.inv(matriz)):\n",
    "        print(\"\\nLa matriz es unitaria\")\n",
    "    else:\n",
    "        print(\"\\nLa matriz no es unitaria\")"
   ]
  },
  {
   "cell_type": "markdown",
   "metadata": {},
   "source": [
    "Compararemos los resultados obtenidos con los resultados obtenidos anteriormente.\n",
    "\n",
    "* Matriz A: $ A = \\begin{bmatrix} 9i & 2+i & 6-2i \\\\ -2+i & 4i & -7+7i \\\\ -6-2i & 7+7i & -2i \\end{bmatrix} $"
   ]
  },
  {
   "cell_type": "code",
   "execution_count": 12,
   "metadata": {},
   "outputs": [
    {
     "name": "stdout",
     "output_type": "stream",
     "text": [
      "\n",
      "Propiedades de la matriz A:\n",
      "\n",
      "Autovalores de la matriz:\n",
      "[ 0.-10.795j -0. +6.838j -0.+14.957j]\n",
      "\n",
      "La matriz es normal\n",
      "\n",
      "La matriz no es hermítica\n",
      "\n",
      "La matriz no es unitaria\n"
     ]
    }
   ],
   "source": [
    "print(\"\\nPropiedades de la matriz A:\")\n",
    "propiedades2(A)"
   ]
  },
  {
   "cell_type": "markdown",
   "metadata": {},
   "source": [
    "* Matriz B: $ B = \\begin{bmatrix} 1+i & 1+2i & 1+3i \\\\ 2+i & 2+2i & 2+3i \\\\ 3+i & 3+2i & 3+3i \\end{bmatrix} $"
   ]
  },
  {
   "cell_type": "code",
   "execution_count": 13,
   "metadata": {},
   "outputs": [
    {
     "name": "stdout",
     "output_type": "stream",
     "text": [
      "\n",
      "Propiedades de la matriz B:\n",
      "\n",
      "Autovalores de la matriz:\n",
      "[ 6.464+6.464j -0.464-0.464j  0.   +0.j   ]\n",
      "\n",
      "La matriz es normal\n",
      "\n",
      "La matriz no es hermítica\n",
      "\n",
      "La matriz no es unitaria\n"
     ]
    }
   ],
   "source": [
    "print(\"\\nPropiedades de la matriz B:\")\n",
    "propiedades2(B)"
   ]
  },
  {
   "cell_type": "markdown",
   "metadata": {},
   "source": [
    "* Matriz C: $ C = \\begin{bmatrix} 2i & 1+i & 4+i & -2i \n",
    "                 \\\\ -1+i & 3i & 4+7i & 1-i \n",
    "                 \\\\ -4+i & -4+7i & -9i & 3-4i \n",
    "                 \\\\ 2i & -1+i & -3-4i & -5i \\end{bmatrix} $"
   ]
  },
  {
   "cell_type": "code",
   "execution_count": 14,
   "metadata": {},
   "outputs": [
    {
     "name": "stdout",
     "output_type": "stream",
     "text": [
      "\n",
      "Propiedades de la matriz C:\n",
      "\n",
      "Autovalores de la matriz:\n",
      "[-0.187-15.48j   0.002 +8.908j -0.088 +0.68j   0.273 -3.108j]\n",
      "\n",
      "La matriz no es normal\n",
      "\n",
      "La matriz no es hermítica\n",
      "\n",
      "La matriz no es unitaria\n"
     ]
    }
   ],
   "source": [
    "print(\"\\nPropiedades de la matriz C:\")\n",
    "propiedades2(C) "
   ]
  },
  {
   "cell_type": "markdown",
   "metadata": {},
   "source": [
    "* Matriz D: $ D = \\begin{bmatrix} i & 0 \\\\ 0 & 3-5i \\end{bmatrix} $"
   ]
  },
  {
   "cell_type": "code",
   "execution_count": 15,
   "metadata": {},
   "outputs": [
    {
     "name": "stdout",
     "output_type": "stream",
     "text": [
      "\n",
      "Propiedades de la matriz D:\n",
      "\n",
      "Autovalores de la matriz:\n",
      "[0.+1.j 3.-5.j]\n",
      "\n",
      "La matriz es normal\n",
      "\n",
      "La matriz no es hermítica\n",
      "\n",
      "La matriz no es unitaria\n"
     ]
    }
   ],
   "source": [
    "print(\"\\nPropiedades de la matriz D:\")\n",
    "propiedades2(D)"
   ]
  },
  {
   "cell_type": "markdown",
   "metadata": {},
   "source": [
    "Podemos observar como los resultados obtenidos son los mismos que los obtenidos anteriormente.\n",
    "\n",
    "Demostrando así que los m´etodos utilizados son correctos y equivalentes."
   ]
  },
  {
   "cell_type": "markdown",
   "metadata": {},
   "source": [
    "## <a id='toc2_3_'></a>[Vectores Estados $C^2: |0\\rangle, |1\\rangle$](#toc0_)\n",
    "\n",
    "### <a id='toc2_3_1_'></a>[Crear los vectores estados $C^2: |0\\rangle, |1\\rangle$.](#toc0_)\n",
    "\n",
    "Para crear los vectores estados $C^2: |0\\rangle, |1\\rangle$ haremos uso del paquete `Qiskit` y de la función `Qiskit.quantum_info.Statevector()`. Esta función nos permite crear un vector de estado a partir de una lista de valores complejos."
   ]
  },
  {
   "cell_type": "code",
   "execution_count": 16,
   "metadata": {},
   "outputs": [
    {
     "name": "stdout",
     "output_type": "stream",
     "text": [
      "Estado: \n"
     ]
    },
    {
     "data": {
      "text/latex": [
       "$$ |0\\rangle$$"
      ],
      "text/plain": [
       "<IPython.core.display.Latex object>"
      ]
     },
     "execution_count": 16,
     "metadata": {},
     "output_type": "execute_result"
    }
   ],
   "source": [
    "# Creamos los vectores de estado 0 y 1\n",
    "\n",
    "ket0 = qk.quantum_info.Statevector([1,0])\n",
    "ket1 = qk.quantum_info.Statevector([0,1])\n",
    "\n",
    "# EStado\n",
    "print(\"Estado: \")\n",
    "ket0.draw('latex')\n"
   ]
  },
  {
   "cell_type": "code",
   "execution_count": 17,
   "metadata": {},
   "outputs": [
    {
     "name": "stdout",
     "output_type": "stream",
     "text": [
      "Estado: \n"
     ]
    },
    {
     "data": {
      "text/latex": [
       "$$ |1\\rangle$$"
      ],
      "text/plain": [
       "<IPython.core.display.Latex object>"
      ]
     },
     "execution_count": 17,
     "metadata": {},
     "output_type": "execute_result"
    }
   ],
   "source": [
    "# EStado\n",
    "print(\"Estado: \")\n",
    "ket1.draw('latex')\n"
   ]
  },
  {
   "cell_type": "markdown",
   "metadata": {},
   "source": [
    "Podemos observar como de manera visual, el estado $|0 \\rangle$ se representa en el polo norte de la esfera de Bloch, mientras que el estado $|1 \\rangle$ se representa en el polo sur de la esfera de Bloch. La forma en la que hemos creado estos estados es de forma manual, pero también podemos crearlos de forma más paramétrica con un circuito cuántico utilizando la puerta $X$. \n",
    "\n",
    "$X = \\begin{bmatrix} 0 & 1 \\\\ 1 & 0 \\end{bmatrix}$\n",
    "\n",
    "Esta puerta nos permite cambiar el estado de un qubit de $|0 \\rangle$ a $|1 \\rangle$ o de $|1 \\rangle$ a $|0 \\rangle$. Por lo que si aplicamos esta puerta a un qubit en estado $|0 \\rangle$, obtendremos un qubit en estado $|1 \\rangle$ y viceversa.\n",
    "\n",
    "Para la implementación de circuitos en general en `Qiskit` utilizaremos la función `QuantumCircuit()`. Esta función nos permite crear un circuito cuántico vacío.\n",
    "\n",
    "Para añadir puertas a nuestro circuito utilizaremos la funciones como `.x()` de `QuantumCircuit()`. Esta función nos permite añadir una puerta $X$ a nuestro circuito.\n",
    "\n",
    "A lo largo de la práctica utilizaremos la función `QuantumCircuit.draw()` para visualizar los circuitos que vayamos creando."
   ]
  },
  {
   "cell_type": "code",
   "execution_count": 18,
   "metadata": {},
   "outputs": [
    {
     "data": {
      "image/png": "[encoded data removed]",
      "text/plain": [
       "<Figure size 103.426x84.28 with 1 Axes>"
      ]
     },
     "execution_count": 18,
     "metadata": {},
     "output_type": "execute_result"
    }
   ],
   "source": [
    "# Crearemos los estados 0 y 1 usando un pequeño circuito cuántico\n",
    "# Creamos un circuito cuántico con 1 qubit\n",
    "circuito0 = qk.QuantumCircuit(1)\n",
    "\n",
    "# Representamos el circuito\n",
    "circuito0.draw(output=\"mpl\")\n"
   ]
  },
  {
   "cell_type": "markdown",
   "metadata": {},
   "source": [
    "Una vez generado el circuito cuántico, lo ejecutaremos en un simulador de `Qiskit` para obtener el vector de estado resultante. Para ello utilizaremos la función `Aer.get_backend('statevector_simulator')` para obtener el simulador de vectores de estado. Y la función `execute()` para ejecutar el circuito en el simulador.\n",
    "\n",
    "Una vez ejecutado recuperamos el estado resultante con la función `result.get_statevector()`, y lo representamos en formato LaTex con la función `.draw('latex')`."
   ]
  },
  {
   "cell_type": "code",
   "execution_count": 19,
   "metadata": {},
   "outputs": [
    {
     "name": "stdout",
     "output_type": "stream",
     "text": [
      "Estado: \n"
     ]
    },
    {
     "data": {
      "text/latex": [
       "$$ |0\\rangle$$"
      ],
      "text/plain": [
       "<IPython.core.display.Latex object>"
      ]
     },
     "execution_count": 19,
     "metadata": {},
     "output_type": "execute_result"
    }
   ],
   "source": [
    "# Ejecutamos el circuito\n",
    "ket0 = qk.execute(circuito0, backend=qk.Aer.get_backend(\"statevector_simulator\")).result().get_statevector()\n",
    "\n",
    "# EStado\n",
    "print(\"Estado: \")\n",
    "ket0.draw('latex')\n"
   ]
  },
  {
   "cell_type": "markdown",
   "metadata": {},
   "source": [
    "Repetimos los pasos descritos anteriormente para obtener el vector de estado $|1 \\rangle$."
   ]
  },
  {
   "cell_type": "code",
   "execution_count": 20,
   "metadata": {},
   "outputs": [
    {
     "data": {
      "image/png": "[encoded data removed]",
      "text/plain": [
       "<Figure size 133.526x84.28 with 1 Axes>"
      ]
     },
     "execution_count": 20,
     "metadata": {},
     "output_type": "execute_result"
    }
   ],
   "source": [
    "# Crearemos los estados 0 y 1 usando un pequeño circuito cuántico\n",
    "# Creamos un circuito cuántico con 1 qubit\n",
    "circuito1 = qk.QuantumCircuit(1)\n",
    "\n",
    "# Añadimos una puerta X al circuito\n",
    "circuito1.x(0)\n",
    "\n",
    "# Representamos el circuito\n",
    "circuito1.draw(output=\"mpl\")\n"
   ]
  },
  {
   "cell_type": "code",
   "execution_count": 21,
   "metadata": {},
   "outputs": [
    {
     "name": "stdout",
     "output_type": "stream",
     "text": [
      "Estado: \n"
     ]
    },
    {
     "data": {
      "text/latex": [
       "$$ |1\\rangle$$"
      ],
      "text/plain": [
       "<IPython.core.display.Latex object>"
      ]
     },
     "execution_count": 21,
     "metadata": {},
     "output_type": "execute_result"
    }
   ],
   "source": [
    "# Ejecutamos el circuito\n",
    "ket1 = qk.execute(circuito1, backend=qk.Aer.get_backend(\"statevector_simulator\")).result().get_statevector()\n",
    "\n",
    "# EStado\n",
    "print(\"Estado: \")\n",
    "ket1.draw('latex')\n"
   ]
  },
  {
   "cell_type": "markdown",
   "metadata": {},
   "source": [
    "### <a id='toc2_3_2_'></a>[Hallar los estados $|+\\rangle, |-\\rangle, |i+\\rangle, |i-\\rangle$ y los estados de Bell.](#toc0_)\n",
    "\n",
    "Utilizaremos la metodología descrita en el ejercico anterior para crear los estados $|+\\rangle, |-\\rangle, |i+\\rangle, |i-\\rangle$ y los estados de Bell.\n",
    "\n",
    "#### <a id='toc2_3_2_1_'></a>[$|+\\rangle$](#toc0_)\n",
    "\n",
    "El estado $|+\\rangle = \\frac{1}{\\sqrt{2}}(|0\\rangle + |1\\rangle)$ se puede obtener aplicando la puerta Hadamard al estado $|0\\rangle$.\n",
    "\n",
    "$H = \\frac{1}{\\sqrt{2}}\\begin{bmatrix} 1 & 1 \\\\ 1 & -1 \\end{bmatrix}$\n",
    "\n",
    "Esta puerta nos permite crear un estado superpuesto, es decir, un estado que es una combinación lineal de los estados $|0\\rangle$ y $|1\\rangle$."
   ]
  },
  {
   "cell_type": "code",
   "execution_count": 22,
   "metadata": {},
   "outputs": [
    {
     "data": {
      "image/png": "[encoded data removed]",
      "text/plain": [
       "<Figure size 133.526x84.28 with 1 Axes>"
      ]
     },
     "execution_count": 22,
     "metadata": {},
     "output_type": "execute_result"
    }
   ],
   "source": [
    "# Creamos un circuito cuántico con 1 qubits\n",
    "circuito = qk.QuantumCircuit(1)\n",
    "\n",
    "# Aplicamos una puerta Hadamard al primer qubit\n",
    "circuito.h(0)\n",
    "\n",
    "# Representamos el circuito\n",
    "circuito.draw(output=\"mpl\")\n"
   ]
  },
  {
   "cell_type": "code",
   "execution_count": 23,
   "metadata": {},
   "outputs": [
    {
     "name": "stdout",
     "output_type": "stream",
     "text": [
      "Estado: \n"
     ]
    },
    {
     "data": {
      "text/latex": [
       "$$\\frac{\\sqrt{2}}{2} |0\\rangle+\\frac{\\sqrt{2}}{2} |1\\rangle$$"
      ],
      "text/plain": [
       "<IPython.core.display.Latex object>"
      ]
     },
     "execution_count": 23,
     "metadata": {},
     "output_type": "execute_result"
    }
   ],
   "source": [
    "# Evaluamos el circuito\n",
    "ket_plus = qk.execute(circuito, backend=qk.Aer.get_backend(\"statevector_simulator\")).result().get_statevector()\n",
    "# EStado\n",
    "print(\"Estado: \")\n",
    "ket_plus.draw('latex')"
   ]
  },
  {
   "cell_type": "markdown",
   "metadata": {},
   "source": [
    "#### <a id='toc2_3_2_2_'></a>[$|-\\rangle$](#toc0_)\n",
    "\n",
    "El estado $|-\\rangle = \\frac{1}{\\sqrt{2}}(|0\\rangle - |1\\rangle)$ se puede obtener aplicando la puerta Hadamard al estado $|1\\rangle$."
   ]
  },
  {
   "cell_type": "code",
   "execution_count": 24,
   "metadata": {},
   "outputs": [
    {
     "data": {
      "image/png": "[encoded data removed]",
      "text/plain": [
       "<Figure size 193.726x84.28 with 1 Axes>"
      ]
     },
     "execution_count": 24,
     "metadata": {},
     "output_type": "execute_result"
    }
   ],
   "source": [
    "# Creamos un circuito cuántico con 1 qubits\n",
    "circuito = qk.QuantumCircuit(1)\n",
    "\n",
    "# Aplicamos una puerta X y una Hadamard al primer qubit\n",
    "circuito.x(0)\n",
    "circuito.h(0)\n",
    "\n",
    "# Representamos el circuito\n",
    "circuito.draw(output=\"mpl\")"
   ]
  },
  {
   "cell_type": "code",
   "execution_count": 25,
   "metadata": {},
   "outputs": [
    {
     "name": "stdout",
     "output_type": "stream",
     "text": [
      "Estado: \n"
     ]
    },
    {
     "data": {
      "text/latex": [
       "$$\\frac{\\sqrt{2}}{2} |0\\rangle- \\frac{\\sqrt{2}}{2} |1\\rangle$$"
      ],
      "text/plain": [
       "<IPython.core.display.Latex object>"
      ]
     },
     "execution_count": 25,
     "metadata": {},
     "output_type": "execute_result"
    }
   ],
   "source": [
    "# Evaluamos el circuito\n",
    "ket_minus = qk.execute(circuito, backend=qk.Aer.get_backend(\"statevector_simulator\")).result().get_statevector()\n",
    "\n",
    "# EStado\n",
    "print(\"Estado: \")\n",
    "ket_minus.draw('latex')\n"
   ]
  },
  {
   "cell_type": "markdown",
   "metadata": {},
   "source": [
    "#### <a id='toc2_3_2_3_'></a>[$|i+\\rangle$](#toc0_)\n",
    "\n",
    "El estado $|i+\\rangle = \\frac{1}{\\sqrt{2}}(|0\\rangle + i|1\\rangle)$ se puede obtener aplicando la puerta Hadamard al estado $|0\\rangle$ y luego aplicando la puerta $S$ al estado resultante.\n",
    "\n",
    "$S = \\begin{bmatrix} 1 & 0 \\\\ 0 & i \\end{bmatrix}$\n",
    "\n",
    "La puerta $S$ nos permite realizar una rotación de $90º$ alrededor del eje $Z$ en el plano de la esfera de Bloch"
   ]
  },
  {
   "cell_type": "code",
   "execution_count": 26,
   "metadata": {},
   "outputs": [
    {
     "data": {
      "image/png": "[encoded data removed]",
      "text/plain": [
       "<Figure size 193.726x84.28 with 1 Axes>"
      ]
     },
     "execution_count": 26,
     "metadata": {},
     "output_type": "execute_result"
    }
   ],
   "source": [
    "# Creamos un circuito cuántico con 1 qubits\n",
    "circuito = qk.QuantumCircuit(1)\n",
    "\n",
    "# Aplicamos una puerta Hadamard y una puerta S\n",
    "circuito.h(0)\n",
    "circuito.s(0)\n",
    "\n",
    "# Representamos el circuito\n",
    "circuito.draw(output=\"mpl\")\n"
   ]
  },
  {
   "cell_type": "code",
   "execution_count": 27,
   "metadata": {},
   "outputs": [
    {
     "name": "stdout",
     "output_type": "stream",
     "text": [
      "Estado: \n"
     ]
    },
    {
     "data": {
      "text/latex": [
       "$$\\frac{\\sqrt{2}}{2} |0\\rangle+\\frac{\\sqrt{2} i}{2} |1\\rangle$$"
      ],
      "text/plain": [
       "<IPython.core.display.Latex object>"
      ]
     },
     "execution_count": 27,
     "metadata": {},
     "output_type": "execute_result"
    }
   ],
   "source": [
    "# Evaluamos el circuito\n",
    "ket_plus_i = qk.execute(circuito, backend=qk.Aer.get_backend(\"statevector_simulator\")).result().get_statevector()\n",
    "\n",
    "# EStado\n",
    "print(\"Estado: \")\n",
    "ket_plus_i.draw('latex')\n"
   ]
  },
  {
   "cell_type": "markdown",
   "metadata": {},
   "source": [
    "#### <a id='toc2_3_2_4_'></a>[$|i-\\rangle$](#toc0_)\n",
    "\n",
    "El estado $|i-\\rangle = \\frac{1}{\\sqrt{2}}(|0\\rangle - i|1\\rangle)$ se puede obtener aplicando la compuerta Hadamard al estado $|1\\rangle$ y luego aplicando la compuerta $S$ al estado resultante."
   ]
  },
  {
   "cell_type": "code",
   "execution_count": 28,
   "metadata": {},
   "outputs": [
    {
     "data": {
      "image/png": "[encoded data removed]",
      "text/plain": [
       "<Figure size 253.926x84.28 with 1 Axes>"
      ]
     },
     "execution_count": 28,
     "metadata": {},
     "output_type": "execute_result"
    }
   ],
   "source": [
    "# Creamos un circuito cuántico con 1 qubits\n",
    "circuito = qk.QuantumCircuit(1)\n",
    "\n",
    "# Aplicamos una puerta X, una Hadamard y una puerta S\n",
    "circuito.x(0)\n",
    "circuito.h(0)\n",
    "circuito.s(0)\n",
    "\n",
    "# Representamos el circuito\n",
    "circuito.draw(output=\"mpl\")"
   ]
  },
  {
   "cell_type": "code",
   "execution_count": 29,
   "metadata": {},
   "outputs": [
    {
     "name": "stdout",
     "output_type": "stream",
     "text": [
      "Estado: \n"
     ]
    },
    {
     "data": {
      "text/latex": [
       "$$\\frac{\\sqrt{2}}{2} |0\\rangle- \\frac{\\sqrt{2} i}{2} |1\\rangle$$"
      ],
      "text/plain": [
       "<IPython.core.display.Latex object>"
      ]
     },
     "execution_count": 29,
     "metadata": {},
     "output_type": "execute_result"
    }
   ],
   "source": [
    "# Evaluamos el circuito\n",
    "ket_minus_i = qk.execute(circuito, backend=qk.Aer.get_backend(\"statevector_simulator\")).result().get_statevector()\n",
    "\n",
    "# EStado\n",
    "print(\"Estado: \")\n",
    "ket_minus_i.draw('latex')"
   ]
  },
  {
   "cell_type": "markdown",
   "metadata": {},
   "source": [
    "#### <a id='toc2_3_2_5_'></a>[Estados de Bell](#toc0_)\n",
    "\n",
    "Los estados de Bell son cuatro estados cuánticos que forman una base ortonormal del espacio de Hilbert de dos qubits. Estos estados son importantes porque son estados maximamente entrelazados. Los estados de Bell son:\n",
    "\n",
    "* $|\\Phi^+\\rangle = \\frac{1}{\\sqrt{2}}(|00\\rangle + |11\\rangle)$ -> B1\n",
    "* $|\\Phi^-\\rangle = \\frac{1}{\\sqrt{2}}(|00\\rangle - |11\\rangle)$ -> B2\n",
    "* $|\\Psi^+\\rangle = \\frac{1}{\\sqrt{2}}(|01\\rangle + |10\\rangle)$ -> B3\n",
    "* $|\\Psi^-\\rangle = \\frac{1}{\\sqrt{2}}(|01\\rangle - |10\\rangle)$ -> B4\n",
    "\n",
    "Implementaremos una función que nos permita obtener estos estados. Esta funcíon creará un circuito haciendo uso de las ya conocidadas puertas $X$ y $H$, pero también hará uso de la puerta $CNOT$ y la puerta $Z$.\n",
    "\n",
    "$CNOT = \\begin{bmatrix} 1 & 0 & 0 & 0 \\\\ 0 & 1 & 0 & 0 \\\\ \n",
    "                       0 & 0 & 0 & 1 \\\\ 0 & 0 & 1 & 0 \\end{bmatrix}$\n",
    "\n",
    "Esta puerta es una puerta $X$ controlada, es decir, que si el qubit de control está en estado $|1\\rangle$ se aplica la puerta $X$ al qubit objetivo, si el qubit de control está en estado $|0\\rangle$ no se aplica la puerta $X$ al qubit objetivo.\n",
    "\n",
    "$Z = \\begin{bmatrix} 1 & 0 \\\\ 0 & -1 \\end{bmatrix}$\n",
    "\n",
    "Esta puerta nos permite realizar una rotación de $180º$ alrededor del eje $Z$ en el plano de la esfera de Bloch. Esta puerta también se conoce como phase flip ya que cambia la fase del estado $|1\\rangle$.\n",
    "\n",
    "La función que desarrollaremos hará lo siguiente: \n",
    "\n",
    "* Para el primer estado de Bell el circuito estaría formado por una puerta $H$ en el primer qubit y una puerta $CNOT$ con el primer qubit como control y el segundo qubit como objetivo. Esto genera un estado en superposición $|+\\rangle$ y luego aplica la puerta $X$ al segundo qubit si el primer qubit está en estado $|1\\rangle$, generando así el estado $|\\Phi^+\\rangle$.\n",
    "\n",
    "* Para el segundo estado de Bell el circuito estaría formado por una puerta $X$ y una $H$ en el primer qubit y una puerta $CNOT$ con el primer qubit como control y el segundo qubit como objetivo. Esto genera un estado en superposición $|-\\rangle$ primero y luego aplica la puerta $X$ al segundo qubit si el primer qubit está en estado $|1\\rangle$, generando así el estado $|\\Phi^-\\rangle$.\n",
    "\n",
    "* Para el tercer estado de Bell el circuito estaría formado por una puerta $H$ en el primer qubit, una puerta $X$ en el segundo qubit y una puerta $CNOT$ con el primer qubit como control y el segundo qubit como objetivo. Esto genera un estado en superposición $|+\\rangle$ primero, luego aplica la puerta $X$ al segundo qubit y por último la $CNOT$ aplica $X$ si el primer qubit está en estado $|1\\rangle$, generando así el estado $|\\Psi^+\\rangle$.\n",
    "\n",
    "* Para el cuarto estado de Bell el circuito estaría formado por una puerta $H$ y una $X$ en el primer qubit, una puerta $X$ y una $Z$ en el segundo qubit y una puerta $CNOT$ con el primer qubit como control y el segundo qubit como objetivo. Esto genera un estado en superposición $|-\\rangle$ primero, luego aplica la puerta $X$ y la $Z$ al segundo qubit y por último la $CNOT$ aplica $X$ si el primer qubit está en estado $|1\\rangle$, generando así el estado $|\\Psi^-\\rangle$."
   ]
  },
  {
   "cell_type": "code",
   "execution_count": 30,
   "metadata": {},
   "outputs": [],
   "source": [
    "# Crearemos una función que nos devuelva el circuito correspondiente al estado de bell elegido\n",
    "\n",
    "def bell(estado):\n",
    "    \"\"\"\n",
    "    Devuelve el estado de Bell elegido\n",
    "\n",
    "    Args:\n",
    "        estado (char): estado de Bell elegido\n",
    "\n",
    "    Returns:\n",
    "        statevector: estado de Bell elegido\n",
    "    \"\"\"\n",
    "    # Creamos un circuito cuántico con 2 qubits\n",
    "    circuito = qk.QuantumCircuit(2)\n",
    "\n",
    "    if estado == \"b1\":\n",
    "        circuito.h(0)\n",
    "        circuito.cx(0,1)\n",
    "    elif estado == \"b2\":\n",
    "        circuito.x(0)\n",
    "        circuito.h(0)\n",
    "        circuito.cx(0,1)\n",
    "\n",
    "    elif estado == \"b3\":\n",
    "        circuito.x(1)\n",
    "        circuito.h(0)\n",
    "        circuito.cx(0,1)\n",
    "\n",
    "    elif estado == \"b4\":\n",
    "        circuito.x(1)\n",
    "        circuito.x(0)\n",
    "        circuito.h(0)\n",
    "        circuito.z(1)\n",
    "        circuito.cx(0,1)\n",
    "\n",
    "    else:\n",
    "        print(\"No existe ese estado de Bell\")\n",
    "        return None\n",
    "\n",
    "    # Devolvemos el estado de Bell elegido\n",
    "    return circuito\n",
    "\n"
   ]
  },
  {
   "cell_type": "markdown",
   "metadata": {},
   "source": [
    "Una vez definida la función que nos creará los circuitos generadores de los estados de Bell, vamos a obtenerlos."
   ]
  },
  {
   "cell_type": "code",
   "execution_count": 31,
   "metadata": {},
   "outputs": [
    {
     "data": {
      "image/png": "[encoded data removed]",
      "text/plain": [
       "<Figure size 720x720 with 4 Axes>"
      ]
     },
     "metadata": {},
     "output_type": "display_data"
    }
   ],
   "source": [
    "# Dibuja los circuitos en una cuadrícula\n",
    "fig, axs = plt.subplots(2, 2, figsize=(10, 10))\n",
    "\n",
    "# Dibuja el primer circuito\n",
    "circuit_drawer(bell(\"b1\"), output='mpl', ax=axs[0, 0])\n",
    "axs[0, 0].set_title('Circuito Estado de Bell 1')\n",
    "\n",
    "# Dibuja el segundo circuito\n",
    "circuit_drawer(bell(\"b2\"), output='mpl', ax=axs[0, 1])\n",
    "axs[0, 1].set_title('Circuito Estado de Bell 2')\n",
    "\n",
    "# Dibuja el tercer circuito\n",
    "circuit_drawer(bell(\"b3\"), output='mpl', ax=axs[1, 0])\n",
    "axs[1, 0].set_title('Circuito Estado de Bell 3')\n",
    "\n",
    "# Dibuja el cuarto circuito\n",
    "circuit_drawer(bell(\"b4\"), output='mpl', ax=axs[1, 1])\n",
    "axs[1, 1].set_title('Circuito Estado de Bell 4')\n",
    "\n",
    "plt.show()"
   ]
  },
  {
   "cell_type": "markdown",
   "metadata": {},
   "source": [
    "Representamos ahora los diferentes estados de Bell\n"
   ]
  },
  {
   "cell_type": "code",
   "execution_count": 32,
   "metadata": {},
   "outputs": [
    {
     "name": "stdout",
     "output_type": "stream",
     "text": [
      "Estado: \n"
     ]
    },
    {
     "data": {
      "text/latex": [
       "$$\\frac{\\sqrt{2}}{2} |00\\rangle+\\frac{\\sqrt{2}}{2} |11\\rangle$$"
      ],
      "text/plain": [
       "<IPython.core.display.Latex object>"
      ]
     },
     "execution_count": 32,
     "metadata": {},
     "output_type": "execute_result"
    }
   ],
   "source": [
    "# Evaluamos el circuito\n",
    "ket_b1 = qk.execute(bell(\"b1\"), backend=qk.Aer.get_backend(\"statevector_simulator\")).result().get_statevector()\n",
    "ket_b2 = qk.execute(bell(\"b2\"), backend=qk.Aer.get_backend(\"statevector_simulator\")).result().get_statevector()\n",
    "ket_b3 = qk.execute(bell(\"b3\"), backend=qk.Aer.get_backend(\"statevector_simulator\")).result().get_statevector()\n",
    "ket_b4 = qk.execute(bell(\"b4\"), backend=qk.Aer.get_backend(\"statevector_simulator\")).result().get_statevector()\n",
    "\n",
    "# Representamos el estado\n",
    "# EStado\n",
    "print(\"Estado: \")\n",
    "ket_b1.draw('latex')\n"
   ]
  },
  {
   "cell_type": "code",
   "execution_count": 33,
   "metadata": {},
   "outputs": [
    {
     "name": "stdout",
     "output_type": "stream",
     "text": [
      "Estado: \n"
     ]
    },
    {
     "data": {
      "text/latex": [
       "$$\\frac{\\sqrt{2}}{2} |00\\rangle- \\frac{\\sqrt{2}}{2} |11\\rangle$$"
      ],
      "text/plain": [
       "<IPython.core.display.Latex object>"
      ]
     },
     "execution_count": 33,
     "metadata": {},
     "output_type": "execute_result"
    }
   ],
   "source": [
    "# Representamos el estado\n",
    "# EStado\n",
    "print(\"Estado: \")\n",
    "ket_b2.draw('latex')"
   ]
  },
  {
   "cell_type": "code",
   "execution_count": 34,
   "metadata": {},
   "outputs": [
    {
     "name": "stdout",
     "output_type": "stream",
     "text": [
      "Estado: \n"
     ]
    },
    {
     "data": {
      "text/latex": [
       "$$\\frac{\\sqrt{2}}{2} |01\\rangle+\\frac{\\sqrt{2}}{2} |10\\rangle$$"
      ],
      "text/plain": [
       "<IPython.core.display.Latex object>"
      ]
     },
     "execution_count": 34,
     "metadata": {},
     "output_type": "execute_result"
    }
   ],
   "source": [
    "# Representamos el estado\n",
    "# EStado\n",
    "print(\"Estado: \")\n",
    "ket_b3.draw('latex')"
   ]
  },
  {
   "cell_type": "code",
   "execution_count": 35,
   "metadata": {},
   "outputs": [
    {
     "name": "stdout",
     "output_type": "stream",
     "text": [
      "Estado: \n"
     ]
    },
    {
     "data": {
      "text/latex": [
       "$$\\frac{\\sqrt{2}}{2} |01\\rangle- \\frac{\\sqrt{2}}{2} |10\\rangle$$"
      ],
      "text/plain": [
       "<IPython.core.display.Latex object>"
      ]
     },
     "execution_count": 35,
     "metadata": {},
     "output_type": "execute_result"
    }
   ],
   "source": [
    "# Representamos el estado\n",
    "# EStado\n",
    "print(\"Estado: \")\n",
    "ket_b4.draw('latex')"
   ]
  },
  {
   "cell_type": "markdown",
   "metadata": {},
   "source": [
    "## <a id='toc2_4_'></a>[Vectores Estado $C^4$](#toc0_)\n",
    "\n",
    "### <a id='toc2_4_1_'></a>[Encontrar la base computacional de $C^4$, por ejemplo, $|10\\rangle$.](#toc0_)\n",
    "\n",
    "La base computacional de $C^4$ está formada por los estados $|00\\rangle, |01\\rangle, |10\\rangle, |11\\rangle$.\n",
    "\n",
    "Para obtener estos estados haremos uso de circuitos sencillos basados en la puerta $X$."
   ]
  },
  {
   "cell_type": "code",
   "execution_count": 36,
   "metadata": {},
   "outputs": [],
   "source": [
    "# Creamos una función que nos devuelva el circuito correspondieente al estado de la base computacional elegido\n",
    "\n",
    "def base_c4(estado):\n",
    "    \"\"\"\n",
    "    Devuelve el estado de la base computacional elegido\n",
    "\n",
    "    Args:\n",
    "        estado (char): estado de la base computacional elegido\n",
    "\n",
    "    Returns:\n",
    "        statevector: estado de la base computacional elegido\n",
    "    \"\"\"\n",
    "    # Creamos un circuito cuántico con 2 qubits\n",
    "    circuito = qk.QuantumCircuit(2)\n",
    "\n",
    "    if estado == \"00\":\n",
    "        pass\n",
    "    elif estado == \"01\":\n",
    "        circuito.x(1)\n",
    "    elif estado == \"10\":\n",
    "        circuito.x(0)\n",
    "    elif estado == \"11\":\n",
    "        circuito.x(0)\n",
    "        circuito.x(1)\n",
    "    else:\n",
    "        print(\"No existe ese estado de la base computacional\")\n",
    "        return None\n",
    "\n",
    "    # Devolvemos el estado de la base computacional elegido\n",
    "    return circuito"
   ]
  },
  {
   "cell_type": "markdown",
   "metadata": {},
   "source": [
    "Representamos ahora los diferentes circuitos."
   ]
  },
  {
   "cell_type": "code",
   "execution_count": 37,
   "metadata": {},
   "outputs": [
    {
     "data": {
      "image/png": "[encoded data removed]",
      "text/plain": [
       "<Figure size 504x504 with 4 Axes>"
      ]
     },
     "metadata": {},
     "output_type": "display_data"
    }
   ],
   "source": [
    "# Dibuja los circuitos en una cuadrícula\n",
    "fig, axs = plt.subplots(2, 2, figsize=(7, 7))\n",
    "\n",
    "# Dibuja el primer circuito\n",
    "circuit_drawer(base_c4(\"00\"), output='mpl', ax=axs[0, 0])\n",
    "axs[0, 0].set_title('Circuito Estado 00')\n",
    "\n",
    "# Dibuja el segundo circuito\n",
    "circuit_drawer(base_c4(\"01\"), output='mpl', ax=axs[0, 1])\n",
    "axs[0, 1].set_title('Circuito Estado 01')\n",
    "\n",
    "# Dibuja el tercer circuito\n",
    "circuit_drawer(base_c4(\"10\"), output='mpl', ax=axs[1, 0])\n",
    "axs[1, 0].set_title('Circuito Estado 10')\n",
    "\n",
    "# Dibuja el cuarto circuito\n",
    "circuit_drawer(base_c4(\"11\"), output='mpl', ax=axs[1, 1])\n",
    "axs[1, 1].set_title('Circuito Estado 11')\n",
    "\n",
    "plt.show()"
   ]
  },
  {
   "cell_type": "markdown",
   "metadata": {},
   "source": [
    "Representamos ahora los diferentes estados."
   ]
  },
  {
   "cell_type": "code",
   "execution_count": 38,
   "metadata": {},
   "outputs": [
    {
     "name": "stdout",
     "output_type": "stream",
     "text": [
      "Estado: \n"
     ]
    },
    {
     "data": {
      "text/latex": [
       "$$ |00\\rangle$$"
      ],
      "text/plain": [
       "<IPython.core.display.Latex object>"
      ]
     },
     "execution_count": 38,
     "metadata": {},
     "output_type": "execute_result"
    }
   ],
   "source": [
    "# Evaluamos el circuito\n",
    "ket_00 = qk.execute(base_c4(\"00\"), backend=qk.Aer.get_backend(\"statevector_simulator\")).result().get_statevector()\n",
    "ket_01 = qk.execute(base_c4(\"01\"), backend=qk.Aer.get_backend(\"statevector_simulator\")).result().get_statevector()\n",
    "ket_10 = qk.execute(base_c4(\"10\"), backend=qk.Aer.get_backend(\"statevector_simulator\")).result().get_statevector()\n",
    "ket_11 = qk.execute(base_c4(\"11\"), backend=qk.Aer.get_backend(\"statevector_simulator\")).result().get_statevector()\n",
    "\n",
    "# Representamos el estado\n",
    "# EStado\n",
    "print(\"Estado: \")\n",
    "ket_00.draw('latex')\n"
   ]
  },
  {
   "cell_type": "code",
   "execution_count": 39,
   "metadata": {},
   "outputs": [
    {
     "name": "stdout",
     "output_type": "stream",
     "text": [
      "Estado: \n"
     ]
    },
    {
     "data": {
      "text/latex": [
       "$$ |01\\rangle$$"
      ],
      "text/plain": [
       "<IPython.core.display.Latex object>"
      ]
     },
     "execution_count": 39,
     "metadata": {},
     "output_type": "execute_result"
    }
   ],
   "source": [
    "# Representamos el estado\n",
    "# EStado\n",
    "print(\"Estado: \")\n",
    "ket_10.draw('latex')\n"
   ]
  },
  {
   "cell_type": "code",
   "execution_count": 40,
   "metadata": {},
   "outputs": [
    {
     "name": "stdout",
     "output_type": "stream",
     "text": [
      "Estado: \n"
     ]
    },
    {
     "data": {
      "text/latex": [
       "$$ |11\\rangle$$"
      ],
      "text/plain": [
       "<IPython.core.display.Latex object>"
      ]
     },
     "execution_count": 40,
     "metadata": {},
     "output_type": "execute_result"
    }
   ],
   "source": [
    "# Representamos el estado\n",
    "# EStado\n",
    "print(\"Estado: \")\n",
    "ket_11.draw('latex')"
   ]
  },
  {
   "cell_type": "markdown",
   "metadata": {},
   "source": [
    "## <a id='toc2_5_'></a>[Vectores Específicos](#toc0_)\n",
    "\n",
    "### <a id='toc2_5_1_'></a>[Hallar los vectores $\\frac{1}{\\sqrt{2}}|000\\rangle + \\frac{1}{\\sqrt{2}}|111\\rangle$, $\\frac{i}{\\sqrt{2}}|000\\rangle - \\frac{1}{\\sqrt{2}}|111\\rangle$, y $\\frac{1}{\\sqrt{2}}|000\\rangle + \\frac{i}{\\sqrt{2}}|111\\rangle$.](#toc0_)\n",
    "\n",
    "Para la obtención de estos estados haremos uso de diferences circuitos cuánticos sencillos.\n",
    "\n",
    "#### <a id='toc2_5_1_1_'></a>[$\\frac{1}{\\sqrt{2}}|000\\rangle + \\frac{1}{\\sqrt{2}}|111\\rangle$](#toc0_)\n",
    "\n",
    "El circuito encargado de generar este estado está formado por una puerta $H$ en el primer qubit, obteniendo así el estado $|+\\rangle$ en el primer qubit, y una puerta $CNOT$ con el primer qubit como control y el segundo qubit como objetivo. Esto genera el estado $|\\Phi^+\\rangle$ primero y luego la puerta $CNOT$ aplicará $X$ al tercer qubit si el segundo qubit está en estado $|1\\rangle$, generando así el estado $\\frac{1}{\\sqrt{2}}|000\\rangle + \\frac{1}{\\sqrt{2}}|111\\rangle$."
   ]
  },
  {
   "cell_type": "code",
   "execution_count": 41,
   "metadata": {},
   "outputs": [
    {
     "data": {
      "image/png": "[encoded data removed]",
      "text/plain": [
       "<Figure size 267.197x204.68 with 1 Axes>"
      ]
     },
     "execution_count": 41,
     "metadata": {},
     "output_type": "execute_result"
    }
   ],
   "source": [
    "# Crearemos un circuito de 3 qubits\n",
    "circuito = qk.QuantumCircuit(3)\n",
    "\n",
    "# Aplicamos una puerta Hadamard al primer qubit\n",
    "circuito.h(0)\n",
    "\n",
    "# Aplicamos una puerta CNOT al primer y segundo qubit\n",
    "circuito.cx(0,1)\n",
    "\n",
    "# Aplicamos una puerta CNOT al segundo y tercer qubit\n",
    "circuito.cx(1,2)\n",
    "\n",
    "# Representamos el circuito\n",
    "circuito.draw(output=\"mpl\")\n"
   ]
  },
  {
   "cell_type": "code",
   "execution_count": 42,
   "metadata": {},
   "outputs": [
    {
     "name": "stdout",
     "output_type": "stream",
     "text": [
      "Estado: \n"
     ]
    },
    {
     "data": {
      "text/latex": [
       "$$\\frac{\\sqrt{2}}{2} |000\\rangle+\\frac{\\sqrt{2}}{2} |111\\rangle$$"
      ],
      "text/plain": [
       "<IPython.core.display.Latex object>"
      ]
     },
     "execution_count": 42,
     "metadata": {},
     "output_type": "execute_result"
    }
   ],
   "source": [
    "# Representamos el estado\n",
    "ket = qk.execute(circuito, backend=qk.Aer.get_backend(\"statevector_simulator\")).result().get_statevector()\n",
    "\n",
    "# EStado\n",
    "print(\"Estado: \")\n",
    "ket.draw('latex')"
   ]
  },
  {
   "cell_type": "markdown",
   "metadata": {},
   "source": [
    "#### <a id='toc2_5_1_2_'></a>[$\\frac{i}{\\sqrt{2}}|000\\rangle - \\frac{1}{\\sqrt{2}}|111\\rangle$](#toc0_)\n",
    "\n",
    "En este caso el circuito a implementar es algo más complejo. Para obtener el estado $\\frac{i}{\\sqrt{2}}|000\\rangle - \\frac{1}{\\sqrt{2}}|111\\rangle$ seguiremos los siguientes pasos: \n",
    "1. Aplicamos la puerta $H$ al primer qubit, obteniendo así el estado $|+\\rangle$ en el primer qubit.\n",
    "2. Aplicamos la puerta $S$ al primer qubit, obteniendo así el estado $|i+\\rangle$ en el primer qubit.\n",
    "3. Aplicamos la puerta $X$ al primer qubit, obteniendo así el estado $\\frac{1}{\\sqrt{2}}(i|0\\rangle +|1\\rangle)$ en el primer qubit.\n",
    "4. Aplicamos la puerta $Z$ al primer qubit, obteniendo así el estado $\\frac{1}{\\sqrt{2}}(i|0\\rangle - |1\\rangle)$\n",
    "5. Aplicamos las puertas $CNOT$ al segundo y tercer qubit con el qubit anterior como control."
   ]
  },
  {
   "cell_type": "code",
   "execution_count": 43,
   "metadata": {},
   "outputs": [
    {
     "data": {
      "image/png": "[encoded data removed]",
      "text/plain": [
       "<Figure size 447.797x204.68 with 1 Axes>"
      ]
     },
     "execution_count": 43,
     "metadata": {},
     "output_type": "execute_result"
    }
   ],
   "source": [
    "# Creamos un circuito de 3 qubits\n",
    "circuito2 = qk.QuantumCircuit(3)\n",
    "\n",
    "# Aplicamos una puerta Hadamard al primer qubit=\n",
    "circuito2.h(0)\n",
    "circuito2.s(0)\n",
    "circuito2.x(0)\n",
    "circuito2.z(0)\n",
    "\n",
    "# Aplicamos una puerta CNOT al primer y segundo qubit\n",
    "circuito2.cx(0,1)\n",
    "\n",
    "# Aplicamos una puerta CNOT al segundo y tercer qubit\n",
    "circuito2.cx(1,2)\n",
    "\n",
    "# Representamos el circuito\n",
    "circuito2.draw(output=\"mpl\")"
   ]
  },
  {
   "cell_type": "code",
   "execution_count": 44,
   "metadata": {},
   "outputs": [
    {
     "name": "stdout",
     "output_type": "stream",
     "text": [
      "Estado: \n"
     ]
    },
    {
     "data": {
      "text/latex": [
       "$$\\frac{\\sqrt{2} i}{2} |000\\rangle- \\frac{\\sqrt{2}}{2} |111\\rangle$$"
      ],
      "text/plain": [
       "<IPython.core.display.Latex object>"
      ]
     },
     "execution_count": 44,
     "metadata": {},
     "output_type": "execute_result"
    }
   ],
   "source": [
    "# Representamos el estado\n",
    "ket = qk.execute(circuito2, backend=qk.Aer.get_backend(\"statevector_simulator\")).result().get_statevector()\n",
    "\n",
    "# EStado\n",
    "print(\"Estado: \")\n",
    "ket.draw('latex')\n"
   ]
  },
  {
   "cell_type": "markdown",
   "metadata": {},
   "source": [
    "#### <a id='toc2_5_1_3_'></a>[$\\frac{1}{\\sqrt{2}}|000\\rangle + \\frac{i}{\\sqrt{2}}|111\\rangle$](#toc0_)\n",
    "\n",
    "En este caso seguiremos los siguientes pasos: \n",
    "1. Aplicamos la puerta $H$ al primer qubit, obteniendo así el estado $|+\\rangle$ en el primer qubit.\n",
    "2. Aplicamos la puerta $S$ al primer qubit, obteniendo así el estado $|i+\\rangle$ en el primer qubit.\n",
    "3. Aplicamos las puertas $CNOT$ al segundo y tercer qubit con el qubit anterior como control."
   ]
  },
  {
   "cell_type": "code",
   "execution_count": 45,
   "metadata": {},
   "outputs": [
    {
     "data": {
      "image/png": "[encoded data removed]",
      "text/plain": [
       "<Figure size 327.397x204.68 with 1 Axes>"
      ]
     },
     "execution_count": 45,
     "metadata": {},
     "output_type": "execute_result"
    }
   ],
   "source": [
    "# Creamos un circuito de 3 qubits\n",
    "circuito3 = qk.QuantumCircuit(3)\n",
    "\n",
    "# Aplicamos una puerta Hadamard al primer qubit=\n",
    "circuito3.h(0)\n",
    "circuito3.s(0)\n",
    "\n",
    "# Aplicamos una puerta CNOT al primer y segundo qubit\n",
    "circuito3.cx(0,1)\n",
    "\n",
    "# Aplicamos una puerta CNOT al segundo y tercer qubit\n",
    "circuito3.cx(1,2)\n",
    "\n",
    "# Representamos el circuito\n",
    "circuito3.draw(output=\"mpl\")\n"
   ]
  },
  {
   "cell_type": "code",
   "execution_count": 46,
   "metadata": {},
   "outputs": [
    {
     "name": "stdout",
     "output_type": "stream",
     "text": [
      "Estado: \n"
     ]
    },
    {
     "data": {
      "text/latex": [
       "$$\\frac{\\sqrt{2}}{2} |000\\rangle+\\frac{\\sqrt{2} i}{2} |111\\rangle$$"
      ],
      "text/plain": [
       "<IPython.core.display.Latex object>"
      ]
     },
     "execution_count": 46,
     "metadata": {},
     "output_type": "execute_result"
    }
   ],
   "source": [
    "ket = qk.execute(circuito3, backend=qk.Aer.get_backend(\"statevector_simulator\")).result().get_statevector()\n",
    "\n",
    "# EStado\n",
    "print(\"Estado: \")\n",
    "ket.draw('latex')"
   ]
  },
  {
   "cell_type": "markdown",
   "metadata": {},
   "source": []
  }
 ],
 "metadata": {
  "kernelspec": {
   "display_name": "python38",
   "language": "python",
   "name": "python3"
  },
  "language_info": {
   "codemirror_mode": {
    "name": "ipython",
    "version": 3
   },
   "file_extension": ".py",
   "mimetype": "text/x-python",
   "name": "python",
   "nbconvert_exporter": "python",
   "pygments_lexer": "ipython3",
   "version": "3.8.10"
  }
 },
 "nbformat": 4,
 "nbformat_minor": 2
}
