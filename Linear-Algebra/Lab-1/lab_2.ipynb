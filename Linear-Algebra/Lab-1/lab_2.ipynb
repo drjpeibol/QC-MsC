{
 "cells": [
  {
   "cell_type": "markdown",
   "metadata": {},
   "source": [
    "# Laboratorio 2: Producto tensorial y esfera de Bloch\n",
    "\n",
    "## Objetivos\n",
    "\n",
    "Con esta actividad verás la facilidad de generar un circuito de una función booleana utilizando la función clásica de `qiskit.circuit`.\n",
    "\n",
    "## Pautas de elaboración\n",
    "\n",
    "1. Halla el producto tensorial de matrices, en particular, de las matrices unitarias vistas en el tema 5. Encuentra:\n",
    "\n",
    "    * $Z \\otimes I \\otimes Z \\otimes I$\n",
    "    * $I \\otimes Z \\otimes I \\otimes Z$\n",
    "    * $I \\otimes Z \\otimes I$\n",
    "\n",
    "2. Calcula:\n",
    "\n",
    "    * $\\frac{3}{4}Z \\otimes Z \\otimes I + \\frac{2}{3}Z \\otimes I \\otimes Z - \\frac{4}{5}X \\otimes Y \\otimes Z - I \\otimes I \\otimes Z$\n",
    "\n",
    "    * $\\langle111|\\frac{3}{4}Z \\otimes Z \\otimes I + \\frac{2}{3}Z \\otimes I \\otimes Z - \\frac{4}{5}X \\otimes Y \\otimes Z - I \\otimes I \\otimes Z|111\\rangle$\n",
    "\n",
    "3. En una sola esfera de Bloch se deben visualizar los siguientes qubits:\n",
    "    - $\\left|0\\right\\rangle$\n",
    "    - $\\left|1\\right\\rangle$\n",
    "    - $\\left|+\\right\\rangle$\n",
    "    - $\\left|-\\right\\rangle$\n",
    "    - $\\left|i+\\right\\rangle$\n",
    "    - $\\left|i-\\right\\rangle$\n",
    "\n",
    "4. En cada ítem, crea una esfera de Bloch donde se visualicen los siguientes casos:\n",
    "    - Puerta X al qubit $\\left|0\\right\\rangle$ y al qubit $\\left|1\\right\\rangle$\n",
    "    - Puerta Y al qubit $\\left|0\\right\\rangle$ y al qubit $\\left|1\\right\\rangle$\n",
    "    - Puerta Z al qubit $\\left|0\\right\\rangle$ y al qubit $\\left|1\\right\\rangle$\n",
    "    - Puerta H al qubit $\\left|0\\right\\rangle$ y al qubit $\\left|1\\right\\rangle$\n"
   ]
  },
  {
   "cell_type": "markdown",
   "metadata": {},
   "source": [
    " ## Desarrollo\n",
    "\n",
    " En esta sección desarrollaremos los distintos ejecricios. Lo primero que haremos será importar las librerías necesaria para la implementación de los ejercicios.\n",
    "\n",
    " ### Librerías\n",
    "\n",
    " - Numpy: Operaciones matriciales\n",
    " - Qiskit: SDK de computación cuántica para implementación de circuitos y representación de estados cuánticos\n",
    " "
   ]
  },
  {
   "cell_type": "code",
   "execution_count": 4,
   "metadata": {},
   "outputs": [],
   "source": [
    "# Librerías\n",
    "\n",
    "import numpy as np"
   ]
  },
  {
   "cell_type": "markdown",
   "metadata": {},
   "source": [
    "1. Halla el producto tensorial de matrices, en particular, de las matrices unitarias vistas en el tema 5. Encuentra:\n",
    "\n",
    "    * $Z \\otimes I \\otimes Z \\otimes I$\n",
    "    * $I \\otimes Z \\otimes I \\otimes Z$\n",
    "    * $I \\otimes Z \\otimes I$\n",
    "\n",
    "Definiremos primero las matrices $Z$ e $I$."
   ]
  },
  {
   "cell_type": "code",
   "execution_count": 6,
   "metadata": {},
   "outputs": [
    {
     "name": "stdout",
     "output_type": "stream",
     "text": [
      "Matriz de Pauli Z (Z):\n",
      "[[ 1  0]\n",
      " [ 0 -1]]\n",
      "\n",
      "Matriz de identidad (I):\n",
      "[[1. 0.]\n",
      " [0. 1.]]\n"
     ]
    }
   ],
   "source": [
    "# Definimos la matriz de Pauli Z\n",
    "\n",
    "# Matriz de Pauli Z (Z)\n",
    "pauli_z = np.array([[1, 0], [0, -1]])\n",
    "\n",
    "# Matriz de identidad (I)\n",
    "identity_matrix = np.eye(2)\n",
    "\n",
    "# Imprimir las matrices\n",
    "print(\"Matriz de Pauli Z (Z):\")\n",
    "print(pauli_z)\n",
    "\n",
    "print(\"\\nMatriz de identidad (I):\")\n",
    "print(identity_matrix)"
   ]
  },
  {
   "cell_type": "markdown",
   "metadata": {},
   "source": [
    "Implementamos los cálculos haciendo uso de la función `np.kron` de Numpy, la cual nos permitirá hacer uso del producto tensorial de matrices.\n",
    "\n",
    "* $Z \\otimes I \\otimes Z \\otimes I$:"
   ]
  },
  {
   "cell_type": "code",
   "execution_count": 16,
   "metadata": {},
   "outputs": [
    {
     "name": "stdout",
     "output_type": "stream",
     "text": [
      "[[ 1.  0.  0.  0.  0.  0.  0.  0.  0.  0.  0.  0.  0.  0.  0.  0.]\n",
      " [ 0.  1.  0.  0.  0.  0.  0.  0.  0.  0.  0.  0.  0.  0.  0.  0.]\n",
      " [ 0.  0. -1. -0.  0.  0. -0. -0.  0.  0. -0. -0.  0.  0. -0. -0.]\n",
      " [ 0.  0. -0. -1.  0.  0. -0. -0.  0.  0. -0. -0.  0.  0. -0. -0.]\n",
      " [ 0.  0.  0.  0.  1.  0.  0.  0.  0.  0.  0.  0.  0.  0.  0.  0.]\n",
      " [ 0.  0.  0.  0.  0.  1.  0.  0.  0.  0.  0.  0.  0.  0.  0.  0.]\n",
      " [ 0.  0. -0. -0.  0.  0. -1. -0.  0.  0. -0. -0.  0.  0. -0. -0.]\n",
      " [ 0.  0. -0. -0.  0.  0. -0. -1.  0.  0. -0. -0.  0.  0. -0. -0.]\n",
      " [ 0.  0.  0.  0.  0.  0.  0.  0. -1. -0. -0. -0. -0. -0. -0. -0.]\n",
      " [ 0.  0.  0.  0.  0.  0.  0.  0. -0. -1. -0. -0. -0. -0. -0. -0.]\n",
      " [ 0.  0. -0. -0.  0.  0. -0. -0. -0. -0.  1.  0. -0. -0.  0.  0.]\n",
      " [ 0.  0. -0. -0.  0.  0. -0. -0. -0. -0.  0.  1. -0. -0.  0.  0.]\n",
      " [ 0.  0.  0.  0.  0.  0.  0.  0. -0. -0. -0. -0. -1. -0. -0. -0.]\n",
      " [ 0.  0.  0.  0.  0.  0.  0.  0. -0. -0. -0. -0. -0. -1. -0. -0.]\n",
      " [ 0.  0. -0. -0.  0.  0. -0. -0. -0. -0.  0.  0. -0. -0.  1.  0.]\n",
      " [ 0.  0. -0. -0.  0.  0. -0. -0. -0. -0.  0.  0. -0. -0.  0.  1.]]\n"
     ]
    }
   ],
   "source": [
    "ZIZI = np.kron(np.kron(np.kron(pauli_z, identity_matrix), pauli_z), identity_matrix)\n",
    "\n",
    "print(ZIZI)"
   ]
  },
  {
   "cell_type": "markdown",
   "metadata": {},
   "source": [
    "* $I \\otimes Z \\otimes I\\otimes Z$:"
   ]
  },
  {
   "cell_type": "code",
   "execution_count": 19,
   "metadata": {},
   "outputs": [
    {
     "name": "stdout",
     "output_type": "stream",
     "text": [
      "[[ 1.  0.  0.  0.  0.  0.  0.  0.  0.  0.  0.  0.  0.  0.  0.  0.]\n",
      " [ 0. -1.  0. -0.  0. -0.  0. -0.  0. -0.  0. -0.  0. -0.  0. -0.]\n",
      " [ 0.  0.  1.  0.  0.  0.  0.  0.  0.  0.  0.  0.  0.  0.  0.  0.]\n",
      " [ 0. -0.  0. -1.  0. -0.  0. -0.  0. -0.  0. -0.  0. -0.  0. -0.]\n",
      " [ 0.  0.  0.  0. -1. -0. -0. -0.  0.  0.  0.  0. -0. -0. -0. -0.]\n",
      " [ 0. -0.  0. -0. -0.  1. -0.  0.  0. -0.  0. -0. -0.  0. -0.  0.]\n",
      " [ 0.  0.  0.  0. -0. -0. -1. -0.  0.  0.  0.  0. -0. -0. -0. -0.]\n",
      " [ 0. -0.  0. -0. -0.  0. -0.  1.  0. -0.  0. -0. -0.  0. -0.  0.]\n",
      " [ 0.  0.  0.  0.  0.  0.  0.  0.  1.  0.  0.  0.  0.  0.  0.  0.]\n",
      " [ 0. -0.  0. -0.  0. -0.  0. -0.  0. -1.  0. -0.  0. -0.  0. -0.]\n",
      " [ 0.  0.  0.  0.  0.  0.  0.  0.  0.  0.  1.  0.  0.  0.  0.  0.]\n",
      " [ 0. -0.  0. -0.  0. -0.  0. -0.  0. -0.  0. -1.  0. -0.  0. -0.]\n",
      " [ 0.  0.  0.  0. -0. -0. -0. -0.  0.  0.  0.  0. -1. -0. -0. -0.]\n",
      " [ 0. -0.  0. -0. -0.  0. -0.  0.  0. -0.  0. -0. -0.  1. -0.  0.]\n",
      " [ 0.  0.  0.  0. -0. -0. -0. -0.  0.  0.  0.  0. -0. -0. -1. -0.]\n",
      " [ 0. -0.  0. -0. -0.  0. -0.  0.  0. -0.  0. -0. -0.  0. -0.  1.]]\n"
     ]
    }
   ],
   "source": [
    "IZIZ = np.kron(np.kron(np.kron(identity_matrix, pauli_z), identity_matrix), pauli_z)\n",
    "\n",
    "print(IZIZ)"
   ]
  },
  {
   "cell_type": "markdown",
   "metadata": {},
   "source": [
    "* $I \\otimes Z \\otimes I$:"
   ]
  },
  {
   "cell_type": "code",
   "execution_count": 20,
   "metadata": {},
   "outputs": [
    {
     "name": "stdout",
     "output_type": "stream",
     "text": [
      "[[ 1.  0.  0.  0.  0.  0.  0.  0.]\n",
      " [ 0.  1.  0.  0.  0.  0.  0.  0.]\n",
      " [ 0.  0. -1. -0.  0.  0. -0. -0.]\n",
      " [ 0.  0. -0. -1.  0.  0. -0. -0.]\n",
      " [ 0.  0.  0.  0.  1.  0.  0.  0.]\n",
      " [ 0.  0.  0.  0.  0.  1.  0.  0.]\n",
      " [ 0.  0. -0. -0.  0.  0. -1. -0.]\n",
      " [ 0.  0. -0. -0.  0.  0. -0. -1.]]\n"
     ]
    }
   ],
   "source": [
    "IZI = np.kron(np.kron(identity_matrix, pauli_z), identity_matrix)\n",
    "\n",
    "print(IZI)"
   ]
  },
  {
   "cell_type": "code",
   "execution_count": null,
   "metadata": {},
   "outputs": [],
   "source": []
  }
 ],
 "metadata": {
  "kernelspec": {
   "display_name": "base",
   "language": "python",
   "name": "python3"
  },
  "language_info": {
   "codemirror_mode": {
    "name": "ipython",
    "version": 3
   },
   "file_extension": ".py",
   "mimetype": "text/x-python",
   "name": "python",
   "nbconvert_exporter": "python",
   "pygments_lexer": "ipython3",
   "version": "3.7.12"
  },
  "orig_nbformat": 4
 },
 "nbformat": 4,
 "nbformat_minor": 2
}
