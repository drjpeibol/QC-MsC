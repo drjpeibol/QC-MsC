{
 "cells": [
  {
   "cell_type": "markdown",
   "metadata": {},
   "source": [
    "**Table of contents**<a id='toc0_'></a>    \n",
    "- [Laboratorio Programación Diferencial](#toc1_)    \n",
    "  - [Objetivos](#toc1_1_)    \n",
    "  - [Ejercicios](#toc1_2_)    \n",
    "    - [Ejercicio 1. Construcción de la puerta Toffoli a partir de las puertas U3 y CNOT.](#toc1_2_1_)    \n",
    "      - [Solución](#toc1_2_1_1_)    \n",
    "    - [Ejericio 2. Superposición de todos los estados básicos menos uno.](#toc1_2_2_)    \n",
    "      - [Solución](#toc1_2_2_1_)    \n",
    "\n",
    "<!-- vscode-jupyter-toc-config\n",
    "\tnumbering=false\n",
    "\tanchor=true\n",
    "\tflat=false\n",
    "\tminLevel=1\n",
    "\tmaxLevel=6\n",
    "\t/vscode-jupyter-toc-config -->\n",
    "<!-- THIS CELL WILL BE REPLACED ON TOC UPDATE. DO NOT WRITE YOUR TEXT IN THIS CELL -->"
   ]
  },
  {
   "cell_type": "markdown",
   "metadata": {},
   "source": [
    "# <a id='toc1_'></a>[Laboratorio Programación Diferencial](#toc0_)\n",
    "## <a id='toc1_1_'></a>[Objetivos](#toc0_)\n",
    "\n",
    "En esta sesión de laboratorio vamos a poner en práctica todos los conceptos que hemos aprendido sobre la programación cuántica diferencial.\n",
    "\n",
    "## <a id='toc1_2_'></a>[Ejercicios](#toc0_)\n",
    "\n",
    "Trabajaremos con dos ejercicios en los que aplicar dicha estrategia:\n",
    "\n",
    "### <a id='toc1_2_1_'></a>[Ejercicio 1. Construcción de la puerta Toffoli a partir de las puertas U3 y CNOT.](#toc0_)\n",
    "\n",
    "La universalidad del computador de puertas establece que podemos construir cualquier función a partir de las puertas disponibles actualmente. En un primer momento se vio que con la puerta Toffoli, la puerta U3 y CNOTs la universalidad quedaba probada, sin embargo, enseguida se comprobó que se podría construir la puerta Toffoli a partir de las otras dos. Nuestro primer objetivo será encontrar la equivalencia a través de estas puertas. No obstante, por facilitar el trabajo, supondremos que ya conocemos algunas de ellas, tal y como podemos ver en la imagen:\n",
    "\n",
    "![Toffoli](circuit.jpg)\n",
    "\n",
    "Crear un programa capaz de calcular cuáles son las puertas que debemos colocar en las interrogaciones amarillas para conseguir la equivalencia de ese circuito con la puerta Toffoli. Existen varias formas de hacerlo, algunas mucho más fáciles que otras.\n",
    "\n",
    "#### <a id='toc1_2_1_1_'></a>[Solución](#toc0_)\n",
    "\n",
    "Para implementar dicho programa lo primero que haremos será importar las librerías necesarias para su ejecución."
   ]
  },
  {
   "cell_type": "code",
   "execution_count": 2,
   "metadata": {},
   "outputs": [],
   "source": [
    "import pennylane as qml\n",
    "from pennylane import numpy as np\n",
    "\n",
    "# Definir el dispositivo\n",
    "dev = qml.device('default.qubit', wires=3)"
   ]
  },
  {
   "cell_type": "markdown",
   "metadata": {},
   "source": [
    "Una vez importadas las librerías podemos empezar a trabajar en la solución. Lo primero que haremos será implementar un circuito en Pennylane que nos muestre el funcionamiento de la puerta Toffoli. "
   ]
  },
  {
   "cell_type": "code",
   "execution_count": 3,
   "metadata": {},
   "outputs": [
    {
     "name": "stderr",
     "output_type": "stream",
     "text": [
      "/opt/homebrew/Caskroom/miniforge/base/lib/python3.9/_collections_abc.py:940: MatplotlibDeprecationWarning: \n",
      "The animation.avconv_args rcparam was deprecated in Matplotlib 3.3 and will be removed two minor releases later.\n",
      "  self[key] = other[key]\n",
      "/opt/homebrew/Caskroom/miniforge/base/lib/python3.9/_collections_abc.py:940: MatplotlibDeprecationWarning: \n",
      "The animation.avconv_path rcparam was deprecated in Matplotlib 3.3 and will be removed two minor releases later.\n",
      "  self[key] = other[key]\n",
      "/opt/homebrew/Caskroom/miniforge/base/lib/python3.9/_collections_abc.py:940: MatplotlibDeprecationWarning: \n",
      "The animation.html_args rcparam was deprecated in Matplotlib 3.3 and will be removed two minor releases later.\n",
      "  self[key] = other[key]\n",
      "/opt/homebrew/Caskroom/miniforge/base/lib/python3.9/_collections_abc.py:940: MatplotlibDeprecationWarning: \n",
      "The keymap.all_axes rcparam was deprecated in Matplotlib 3.3 and will be removed two minor releases later.\n",
      "  self[key] = other[key]\n",
      "/opt/homebrew/Caskroom/miniforge/base/lib/python3.9/_collections_abc.py:940: MatplotlibDeprecationWarning: \n",
      "The savefig.jpeg_quality rcparam was deprecated in Matplotlib 3.3 and will be removed two minor releases later.\n",
      "  self[key] = other[key]\n",
      "/opt/homebrew/Caskroom/miniforge/base/lib/python3.9/_collections_abc.py:940: MatplotlibDeprecationWarning: \n",
      "The text.latex.preview rcparam was deprecated in Matplotlib 3.3 and will be removed two minor releases later.\n",
      "  self[key] = other[key]\n"
     ]
    },
    {
     "data": {
      "text/plain": [
       "tensor([0.+0.j, 0.+0.j, 0.+0.j, 0.+0.j, 0.+0.j, 0.+0.j, 0.+0.j, 1.+0.j], requires_grad=True)"
      ]
     },
     "execution_count": 3,
     "metadata": {},
     "output_type": "execute_result"
    },
    {
     "data": {
      "image/png": "[encoded data removed]",
      "text/plain": [
       "<Figure size 360x288 with 1 Axes>"
      ]
     },
     "metadata": {},
     "output_type": "display_data"
    }
   ],
   "source": [
    "# Definir el circuito de la puerta Toffoli\n",
    "@qml.qnode(dev)\n",
    "def toffoli_circuit():\n",
    "    qml.PauliX(wires=0)\n",
    "    qml.PauliX(wires=1)\n",
    "    \n",
    "    qml.Toffoli(wires=[0, 1, 2])\n",
    "    return qml.state()\n",
    "\n",
    "\n",
    "# Dibujar el circuito\n",
    "qml.drawer.use_style(\"black_white\")\n",
    "fig, ax = qml.draw_mpl(toffoli_circuit)()\n",
    "\n",
    "# Estado final del circuito\n",
    "result = toffoli_circuit()\n",
    "result"
   ]
  },
  {
   "cell_type": "markdown",
   "metadata": {},
   "source": [
    "Vemos que cuando el primer y el segundo qubit están en estado 1, el tercer qubit cambia de estado, obteniendo $|111\\rangle$. Nuestro objetivo será implementar un circuito con una funcionalidad similar a través de las puertas U3 y CNOT.\n",
    "\n",
    "Primero implementaremos el circuito de la imagen, parametrizando las puertas que contienen interrogaciones como U3 parametrizadas."
   ]
  },
  {
   "cell_type": "code",
   "execution_count": 4,
   "metadata": {},
   "outputs": [
    {
     "name": "stderr",
     "output_type": "stream",
     "text": [
      "/opt/homebrew/Caskroom/miniforge/base/lib/python3.9/_collections_abc.py:940: MatplotlibDeprecationWarning: \n",
      "The animation.avconv_args rcparam was deprecated in Matplotlib 3.3 and will be removed two minor releases later.\n",
      "  self[key] = other[key]\n",
      "/opt/homebrew/Caskroom/miniforge/base/lib/python3.9/_collections_abc.py:940: MatplotlibDeprecationWarning: \n",
      "The animation.avconv_path rcparam was deprecated in Matplotlib 3.3 and will be removed two minor releases later.\n",
      "  self[key] = other[key]\n",
      "/opt/homebrew/Caskroom/miniforge/base/lib/python3.9/_collections_abc.py:940: MatplotlibDeprecationWarning: \n",
      "The animation.html_args rcparam was deprecated in Matplotlib 3.3 and will be removed two minor releases later.\n",
      "  self[key] = other[key]\n",
      "/opt/homebrew/Caskroom/miniforge/base/lib/python3.9/_collections_abc.py:940: MatplotlibDeprecationWarning: \n",
      "The keymap.all_axes rcparam was deprecated in Matplotlib 3.3 and will be removed two minor releases later.\n",
      "  self[key] = other[key]\n",
      "/opt/homebrew/Caskroom/miniforge/base/lib/python3.9/_collections_abc.py:940: MatplotlibDeprecationWarning: \n",
      "The savefig.jpeg_quality rcparam was deprecated in Matplotlib 3.3 and will be removed two minor releases later.\n",
      "  self[key] = other[key]\n",
      "/opt/homebrew/Caskroom/miniforge/base/lib/python3.9/_collections_abc.py:940: MatplotlibDeprecationWarning: \n",
      "The text.latex.preview rcparam was deprecated in Matplotlib 3.3 and will be removed two minor releases later.\n",
      "  self[key] = other[key]\n"
     ]
    },
    {
     "name": "stdout",
     "output_type": "stream",
     "text": [
      "Parámetros iniciales:\n",
      "θ1: 0.12767570324334254π, φ1: -0.33516553668714866π, λ1: 0.7381830789365806π\n",
      "θ2: -2.2901865263005328π, φ2: 0.9143343859548074π, λ2: -0.28033025274710344π\n"
     ]
    },
    {
     "data": {
      "image/png": "[encoded data removed]",
      "text/plain": [
       "<Figure size 1296x288 with 1 Axes>"
      ]
     },
     "metadata": {},
     "output_type": "display_data"
    }
   ],
   "source": [
    "# Definir el circuito parametrizado\n",
    "@qml.qnode(dev)\n",
    "def parametrized_circuit(params):\n",
    "    # Usamos las Pauli-X para inicializar los qubits a |1>\n",
    "    qml.PauliX(wires=0)\n",
    "    qml.PauliX(wires=1)\n",
    "\n",
    "\n",
    "    qml.T(wires=0)\n",
    "    qml.CNOT(wires=[0, 1])\n",
    "    qml.adjoint(qml.T)(wires=1)\n",
    "    qml.CNOT(wires=[0, 1])\n",
    "    qml.T(wires=1)\n",
    "    qml.U3(params[3], params[4], params[5], wires=2)\n",
    "    qml.CNOT(wires=[1, 2])\n",
    "    qml.adjoint(qml.T)(wires=2)\n",
    "    qml.CNOT(wires=[0, 2])\n",
    "    qml.T(wires=2)\n",
    "    qml.CNOT(wires=[1, 2])\n",
    "    qml.U3(params[0], params[1], params[2], wires=2)\n",
    "    qml.CNOT(wires=[0, 2])\n",
    "    qml.T(wires=2)\n",
    "    qml.Hadamard(wires=2)\n",
    "    return qml.state()\n",
    "\n",
    "\n",
    "# Inicializar los parámetros\n",
    "init_params = np.random.normal(0, np.pi, 6)\n",
    "# Dibujar el circuito\n",
    "fig, ax = qml.draw_mpl(parametrized_circuit)(init_params)\n",
    "\n",
    "print(\"Parámetros iniciales:\")\n",
    "print(f\"θ1: {init_params[0]/np.pi}π, φ1: {init_params[1]/np.pi}π, λ1: {init_params[2]/np.pi}π\")\n",
    "print(f\"θ2: {init_params[3]/np.pi}π, φ2: {init_params[4]/np.pi}π, λ2: {init_params[5]/np.pi}π\")"
   ]
  },
  {
   "cell_type": "markdown",
   "metadata": {},
   "source": [
    "Veamos el resultado que obtenemos de este circuito antes de la optimización de sus parámetros."
   ]
  },
  {
   "cell_type": "code",
   "execution_count": 5,
   "metadata": {},
   "outputs": [
    {
     "data": {
      "text/plain": [
       "tensor([0.        +0.j        , 0.        +0.j        ,\n",
       "        0.        +0.j        , 0.        +0.j        ,\n",
       "        0.        +0.j        , 0.        +0.j        ,\n",
       "        0.45736207-0.77211747j, 0.05464667-0.43779937j], requires_grad=True)"
      ]
     },
     "execution_count": 5,
     "metadata": {},
     "output_type": "execute_result"
    }
   ],
   "source": [
    "# Obtener el estado del circuito Toffoli\n",
    "parametrized_state = parametrized_circuit(init_params)\n",
    "parametrized_state"
   ]
  },
  {
   "cell_type": "markdown",
   "metadata": {},
   "source": [
    "Podemos observar que el resultado no coincide con lo esperado. Es por eso que optimizaremos el valor de dichos parámetros para que se ajusten de acuerdo al comportamiento que esperamos del circuito.\n",
    "\n",
    "Para ello debemos definir una función de coste capaz de evaluar la diferencia entre el resultado esperado y el obtenido. En este caso, la función de coste será la siguiente:\n",
    "\n",
    "$$ cost = 1 - |\\langle EstadoToffoli|EstadoParametrizado\\rangle|^2 $$\n",
    "\n",
    "De tal forma que cuando ambos estados sean igfuales, el coste será 0, y cuando sean perpendiculares, el coste será 1."
   ]
  },
  {
   "cell_type": "code",
   "execution_count": 8,
   "metadata": {},
   "outputs": [],
   "source": [
    "# Definir la función de coste para la optimización\n",
    "def cost(params):\n",
    "    parametrized_state = parametrized_circuit(params)\n",
    "    fidelity = np.abs(np.dot(np.conj(result), parametrized_state))**2\n",
    "    return 1 - fidelity"
   ]
  },
  {
   "cell_type": "markdown",
   "metadata": {},
   "source": [
    "Definida la función de coste podemos utlizar un algoritmo de descenso por gradiente para optimizar los parámetros de las puertas U3."
   ]
  },
  {
   "cell_type": "code",
   "execution_count": 9,
   "metadata": {},
   "outputs": [
    {
     "name": "stderr",
     "output_type": "stream",
     "text": [
      "/opt/homebrew/Caskroom/miniforge/base/lib/python3.9/site-packages/autograd/numpy/numpy_vjps.py:698: ComplexWarning: Casting complex values to real discards the imaginary part\n",
      "  onp.add.at(A, idx, x)\n"
     ]
    },
    {
     "name": "stdout",
     "output_type": "stream",
     "text": [
      "Paso 20: Coste = 0.1414762968268951\n",
      "Paso 40: Coste = 0.0035903620300954397\n",
      "Paso 60: Coste = 0.00010670317923533457\n",
      "Paso 80: Coste = 3.290812386813613e-06\n",
      "Paso 100: Coste = 1.0168361586071484e-07\n",
      "Paso 120: Coste = 3.141860549504827e-09\n",
      "Paso 140: Coste = 9.707634696098921e-11\n",
      "Paso 160: Coste = 2.999156478722398e-12\n",
      "Paso 180: Coste = 9.259260025373806e-14\n",
      "Paso 200: Coste = 3.1086244689504383e-15\n",
      "Paso 220: Coste = 2.220446049250313e-16\n",
      "Paso 240: Coste = 0.0\n",
      "Paso 260: Coste = 0.0\n",
      "Parámetros óptimos:\n",
      "θ1: -0.07237904634781897π, φ1: -0.5520658195453487π, λ1: 0.4753184260471688π\n",
      "θ2: -2.44134350309226π, φ2: 1.1771990388442202π, λ2: -0.28033025274710344π\n"
     ]
    }
   ],
   "source": [
    "# Realizar la optimización\n",
    "opt = qml.GradientDescentOptimizer(stepsize=0.1)\n",
    "params = init_params\n",
    "num_steps = 260\n",
    "\n",
    "# Evaluación del proceso de optimización\n",
    "for i in range(num_steps):\n",
    "    params = opt.step(cost, params)\n",
    "    if (i + 1) % 20 == 0:\n",
    "        print(f\"Paso {i+1}: Coste = {cost(params)}\")\n",
    "\n",
    "# Resultados de la optimización\n",
    "print(\"Parámetros óptimos:\")\n",
    "print(f\"θ1: {params[0]/np.pi}π, φ1: {params[1]/np.pi}π, λ1: {params[2]/np.pi}π\")\n",
    "print(f\"θ2: {params[3]/np.pi}π, φ2: {params[4]/np.pi}π, λ2: {params[5]/np.pi}π\")"
   ]
  },
  {
   "cell_type": "markdown",
   "metadata": {},
   "source": [
    "Una vez optimizados los parámetros, comprobaremos como se comporta el circuito con los nuevos valores, para ello calcularemos el valor esperado de $Z$ en los distintos qubits para la Tooffoli y para el circuito parametrizado."
   ]
  },
  {
   "cell_type": "code",
   "execution_count": null,
   "metadata": {},
   "outputs": [
    {
     "name": "stdout",
     "output_type": "stream",
     "text": [
      "Valor esperado de Z para cada qubit después de la puerta Toffoli implementada:\n",
      "Qubit 0: -0.9999999999999996\n",
      "Qubit 1: -0.9999999999999996\n",
      "Qubit 2: -0.9999999999999951\n",
      "Valor esperado de Z para cada qubit después de la puerta Toffoli original:\n",
      "Qubit 0: -1.0\n",
      "Qubit 1: -1.0\n",
      "Qubit 2: -1.0\n"
     ]
    }
   ],
   "source": [
    "# Definir el circuito parametrizado\n",
    "@qml.qnode(dev)\n",
    "def parametrized_circuit(params):\n",
    "    # Usamos las Pauli-X para inicializar los qubits a |1>\n",
    "    qml.PauliX(wires=0)\n",
    "    qml.PauliX(wires=1)\n",
    "\n",
    "\n",
    "    qml.T(wires=0)\n",
    "    qml.CNOT(wires=[0, 1])\n",
    "    qml.adjoint(qml.T)(wires=1)\n",
    "    qml.CNOT(wires=[0, 1])\n",
    "    qml.T(wires=1)\n",
    "    qml.U3(params[3], params[4], params[5], wires=2)\n",
    "    qml.CNOT(wires=[1, 2])\n",
    "    qml.adjoint(qml.T)(wires=2)\n",
    "    qml.CNOT(wires=[0, 2])\n",
    "    qml.T(wires=2)\n",
    "    qml.CNOT(wires=[1, 2])\n",
    "    qml.U3(params[0], params[1], params[2], wires=2)\n",
    "    qml.CNOT(wires=[0, 2])\n",
    "    qml.T(wires=2)\n",
    "    qml.Hadamard(wires=2)\n",
    "    return [qml.expval(qml.PauliZ(wires=i)) for i in range(3)]\n",
    "\n",
    "# Definir el circuito de la puerta Toffoli\n",
    "@qml.qnode(dev)\n",
    "def toffoli_circuit():\n",
    "    qml.PauliX(wires=0)\n",
    "    qml.PauliX(wires=1)\n",
    "    \n",
    "    qml.Toffoli(wires=[0, 1, 2])[qml.expval(qml.PauliZ(wires=i)) for i in range(3)]\n",
    "    return \n",
    "\n",
    "\n",
    "# Representamos el valor esperado en función de los parámetros optimizados\n",
    "results = parametrized_circuit(params)\n",
    "print(f\"Valor esperado de Z para cada qubit después de la puerta Toffoli implementada:\")\n",
    "\n",
    "for i in range(3):\n",
    "    print(f\"Qubit {i}: {results[i]}\")\n",
    "\n",
    "# Representamos el valor esperado en la puerta Toffoli original\n",
    "results_toffoli = toffoli_circuit()\n",
    "print(f\"Valor esperado de Z para cada qubit después de la puerta Toffoli original:\")\n",
    "\n",
    "for i in range(3):\n",
    "    print(f\"Qubit {i}: {results_toffoli[i]}\")"
   ]
  },
  {
   "cell_type": "markdown",
   "metadata": {},
   "source": [
    "Podemos observar que los resultados obtenidos por la Toffoli original y niestro circuito parametrizado son prácticamente iguales, por lo que podemos afirmar que hemos conseguido la equivalencia entre ambos circuitos."
   ]
  },
  {
   "cell_type": "markdown",
   "metadata": {},
   "source": [
    "### <a id='toc1_2_2_'></a>[Ejericio 2. Superposición de todos los estados básicos menos uno.](#toc0_)\n",
    "\n",
    "Para este ejercicio trabajaremos con 3 qubits. Es conocido que, si queremos una superposición equiprobable de todos los estados básicos, deberemos aplicar una puerta Hadamard sobre cada uno de estos. La probabilidad con la que veremos cada estado en esta situación será un $12’5$% (pues tenemos 8 estados). Para este ejercicio se pide encontrar un circuito capaz de generar o conseguir una buena aproximación de la superposición de todos los estados menos del |000 >. Es decir, queremos conseguir el estado:\n",
    "\n",
    "$$ |\\psi \\rangle = \\frac{1}{\\sqrt7}  \\sum_{i=1}^7 |i\\rangle$$ \n",
    "\n",
    "Para ello partiremos del estado máximamente entrelazado aplicando puertas de Haddamard a los qubits en el estado inicial $|000\\rangle$ . De este estado máximamente entrelazado el objetivo será eliminar el estado $|000\\rangle$.\n",
    "\n",
    "#### <a id='toc1_2_2_1_'></a>[Solución](#toc0_)\n",
    "\n",
    "Utilizaremos un qubit ancilla para ayudarnos a obtener el resultado buscado. Este qubit ancilla nos permitirá \"marcar\" el estado $|000\\rangle$ para poder eliminarlo del estado final. \n",
    "\n",
    "Partiremos del estado\n",
    "\n",
    "$$ |\\psi \\rangle = \\frac{1}{\\sqrt8}  \\sum_{i=0}^7 |i\\rangle |0\\rangle$$\n",
    "\n",
    "Este estado lo conseguiremos aplicando Hadamard a los tres qubits. \n",
    "\n",
    "A continuación, aplicaremos una puerta $X$ a los qubits de tal forma que el estado $|000\\rangle$ se convierta en $|111\\rangle$.\n",
    "\n",
    "Una vez tenemos el estado buscado en $|111\\rangle$ aplicaremos una puerta $X$ sobre el qubit ancilla controlada por el resto de qubits. \n",
    "\n",
    "En este punto el estado será el siguiente:\n",
    "\n",
    "$$ |\\psi \\rangle = \\frac{1}{\\sqrt8}( \\sum_{i=0}^6 |i\\rangle |0\\rangle + |111\\rangle |1\\rangle)$$\n",
    "\n",
    "De tal forma que el estado $|111\\rangle$ está asociado al estado $|1\\rangle$ del qubit ancilla.\n",
    "\n",
    "Si aplicamos ahora un apuerta $X$ a los qubits, tendremos marcado el estado $|000\\rangle$ con el estado $|1\\rangle$ del qubit ancilla.\n",
    "\n",
    "$$ |\\psi \\rangle = \\frac{1}{\\sqrt8}( \\sum_{i=0}^6 |i\\rangle |0\\rangle + |000\\rangle |1\\rangle)$$\n",
    "\n",
    "De tal forma que si medimos ahora el qubit ancilla y obtenemos un 0, podemos afirmar que el estado $|000\\rangle$ no está en el estado final. Esto ocurre con una probabilidad de $7/8$, por lo que si no obtenemos el resultado esperado, podedmos repetir el proceso hasta obtenerlo.\n",
    "\n",
    "Descrito el proceso que seguiremos, vamos a implementar el circuito en Pennylane."
   ]
  },
  {
   "cell_type": "code",
   "execution_count": 99,
   "metadata": {},
   "outputs": [
    {
     "name": "stderr",
     "output_type": "stream",
     "text": [
      "/opt/homebrew/Caskroom/miniforge/base/lib/python3.9/_collections_abc.py:940: MatplotlibDeprecationWarning: \n",
      "The animation.avconv_args rcparam was deprecated in Matplotlib 3.3 and will be removed two minor releases later.\n",
      "  self[key] = other[key]\n",
      "/opt/homebrew/Caskroom/miniforge/base/lib/python3.9/_collections_abc.py:940: MatplotlibDeprecationWarning: \n",
      "The animation.avconv_path rcparam was deprecated in Matplotlib 3.3 and will be removed two minor releases later.\n",
      "  self[key] = other[key]\n",
      "/opt/homebrew/Caskroom/miniforge/base/lib/python3.9/_collections_abc.py:940: MatplotlibDeprecationWarning: \n",
      "The animation.html_args rcparam was deprecated in Matplotlib 3.3 and will be removed two minor releases later.\n",
      "  self[key] = other[key]\n",
      "/opt/homebrew/Caskroom/miniforge/base/lib/python3.9/_collections_abc.py:940: MatplotlibDeprecationWarning: \n",
      "The keymap.all_axes rcparam was deprecated in Matplotlib 3.3 and will be removed two minor releases later.\n",
      "  self[key] = other[key]\n",
      "/opt/homebrew/Caskroom/miniforge/base/lib/python3.9/_collections_abc.py:940: MatplotlibDeprecationWarning: \n",
      "The savefig.jpeg_quality rcparam was deprecated in Matplotlib 3.3 and will be removed two minor releases later.\n",
      "  self[key] = other[key]\n",
      "/opt/homebrew/Caskroom/miniforge/base/lib/python3.9/_collections_abc.py:940: MatplotlibDeprecationWarning: \n",
      "The text.latex.preview rcparam was deprecated in Matplotlib 3.3 and will be removed two minor releases later.\n",
      "  self[key] = other[key]\n"
     ]
    },
    {
     "data": {
      "image/png": "[encoded data removed]",
      "text/plain": [
       "<Figure size 504x360 with 1 Axes>"
      ]
     },
     "metadata": {},
     "output_type": "display_data"
    }
   ],
   "source": [
    "# Definir el dispositivo\n",
    "dev = qml.device('default.qubit', wires=4, shots=1000)\n",
    "\n",
    "# Definir el circuito para generar la superposición deseada\n",
    "@qml.qnode(dev)\n",
    "def superposition_circuit():\n",
    "    # Aplicar Hadamard a cada qubit\n",
    "    for i in range(3):\n",
    "        qml.Hadamard(wires=i)\n",
    "        qml.PauliX(wires=i)\n",
    "    \n",
    "\n",
    "    # Aplicamos multi-controlled not sobre el qubit ancilla 3\n",
    "    qml.MultiControlledX(wires=[0, 1, 2, 3])\n",
    "\n",
    "    for i in range(3):\n",
    "        qml.PauliX(wires=i)\n",
    "\n",
    "    \n",
    "\n",
    "    return qml.probs(wires=[0,1,2]), qml.probs(wires=[3])\n",
    "\n",
    "# Dibujar el circuito\n",
    "fig, ax = qml.draw_mpl(superposition_circuit)()\n"
   ]
  },
  {
   "cell_type": "markdown",
   "metadata": {},
   "source": [
    "Comprobaremos ahora si efectivamente medimos el estado 0 en el qubit ancilla con una probabilidad de $7/8$."
   ]
  },
  {
   "cell_type": "code",
   "execution_count": 97,
   "metadata": {},
   "outputs": [
    {
     "name": "stdout",
     "output_type": "stream",
     "text": [
      "Probabilidades de los qubits:\n",
      "|0>: 0.8980\n",
      "|1>: 0.1020\n"
     ]
    }
   ],
   "source": [
    "# Probabilidades de los qubits\n",
    "print(\"Probabilidades de los qubits:\")\n",
    "for i, prob in enumerate(ancilla):\n",
    "    print(f\"|{i}>: {prob:.4f}\")"
   ]
  },
  {
   "cell_type": "markdown",
   "metadata": {},
   "source": [
    "Por lo que podemos confirmar que obtendremos el estado deseado con una alta probabilidad. Además, al medir el qubit ancilla podemos saber si el estado $|000\\rangle$ está presente en el estado final y repetir el proceso si no es así."
   ]
  }
 ],
 "metadata": {
  "kernelspec": {
   "display_name": "python38",
   "language": "python",
   "name": "python3"
  },
  "language_info": {
   "codemirror_mode": {
    "name": "ipython",
    "version": 3
   },
   "file_extension": ".py",
   "mimetype": "text/x-python",
   "name": "python",
   "nbconvert_exporter": "python",
   "pygments_lexer": "ipython3",
   "version": "3.9.4"
  }
 },
 "nbformat": 4,
 "nbformat_minor": 2
}
