{
  "cells": [
    {
      "cell_type": "markdown",
      "metadata": {
        "id": "53r68i79GazY"
      },
      "source": [
        "# Actividad: Modelización y resolución con Dwave\n",
        "\n",
        "## Objetivos\n",
        "\n",
        "El objetivo de esta actividad será construir un modelo capaz de resolver de forma sencilla el problema del viajante.\n",
        "\n",
        "## Descripción\n",
        "\n",
        "Se partirá del siguiente mapa:\n",
        "\n",
        "![Mapa de ciudades](misc/graph.png)\n",
        "\n",
        "\n",
        "Cada uno de estos nodos representa una ciudad que, como podemos ver, están unidas a través de una serie de carreteras (nótese que no tienen por qué existir carreteras entre todas las ciudades).\n",
        "\n",
        "El objetivo será encontrar la ruta de mínima distancia que cumpla las siguientes características:\n",
        "\n",
        "- El inicio de la ruta y el final debe ser el nodo 0.\n",
        "- La segunda ciudad que vamos a visitar (sin contar el origen) debe ser la ciudad 2.\n",
        "- Todas las ciudades deben ser visitadas.\n",
        "- Solo podemos ir una vez a cada una de las ciudades.\n",
        "\n",
        "Como podemos ver, no se ha indicado la distancia del nodo 0 al nodo 2. Da a dicha distancia la longitud que te parezca más acertada.\n",
        "\n",
        "Por otro lado, la solución que ofrece DWave será una serie de unos y ceros. Tendrás que programar una función capaz de traducir ese dominio de solución a una lista con el número de las ciudades por orden de visita.\n"
      ]
    },
    {
      "cell_type": "markdown",
      "metadata": {
        "id": "9rWa7mtqNVYv"
      },
      "source": [
        "\n",
        "# Desarrollo"
      ]
    },
    {
      "cell_type": "markdown",
      "metadata": {
        "id": "q4qpcnjgNYrW"
      },
      "source": [
        "\n",
        "## Instalación de librerías\n",
        "Para el desarrollo de la práctica usaremos las siguientes libreías:\n",
        "\n",
        "- **dwave-ocean-sdk**: Esta librería proporciona herramientas y recursos para el desarrollo de algoritmos cuánticos utilizando la tecnología de annealing cuántico de D-Wave. Incluye funciones para la formulación de problemas, ejecución en el hardware cuántico de D-Wave y análisis de resultados.\n",
        "\n",
        "- **dwave_networkx**: Una extensión de la popular librería `networkx`, diseñada para trabajar de manera integrada con la plataforma de computación cuántica de D-Wave. Permite la creación y manipulación de grafos compatibles con la infraestructura de D-Wave, facilitando la formulación y resolución de problemas cuánticos.\n",
        "\n",
        "- **networkx**: Una potente librería de Python para el análisis y la manipulación de grafos. Proporciona una amplia gama de funciones y algoritmos para la creación, visualización y procesamiento de redes complejas, lo que la convierte en una herramienta esencial para la modelización y el estudio de sistemas interconectados.\n",
        "\n",
        "Importaremos dichas librerías y si no están instaladas en nuestro entorno, las instalaremos"
      ]
    },
    {
      "cell_type": "code",
      "execution_count": null,
      "metadata": {
        "colab": {
          "base_uri": "https://localhost:8080/"
        },
        "id": "WwiuPBxR0_AR",
        "outputId": "1a98aa93-4005-4c5a-97f8-97888f7ae93e"
      },
      "outputs": [
        {
          "name": "stdout",
          "output_type": "stream",
          "text": [
            "Libraries imported\n"
          ]
        }
      ],
      "source": [
        "try:\n",
        "  from neal import SimulatedAnnealingSampler\n",
        "\n",
        "  import networkx as nx\n",
        "  import dwave_networkx as dnx\n",
        "\n",
        "except:\n",
        "  print(\"Libraries not available in the current session. Downloading and importing...\")\n",
        "  !pip install dwave-ocean-sdk dwave_networkx\n",
        "  from neal import SimulatedAnnealingSampler\n",
        "\n",
        "  import networkx as nx\n",
        "  import dwave_networkx as dnx\n",
        "print(\"Libraries imported\")"
      ]
    },
    {
      "cell_type": "markdown",
      "metadata": {
        "id": "utHqqAjrJ8gB"
      },
      "source": [
        "## Desarrollo del Problema del Viajante (Traveling Salesman Problem)\n",
        "\n",
        "El problema del viajante, también conocido como TSP por sus siglas en inglés, es un problema clásico en la teoría de la optimización combinatoria y la ciencia de la computación.\n",
        "\n",
        "El objetivo es minimizar la distancia total recorrida por el viajante, comenzando y terminando en la misma ciudad y pasando por cada ciudad exactamente una vez.\n",
        "\n",
        "El TSP es un problema NP-duro, lo que significa que no existe un algoritmo eficiente conocido que pueda resolver todas las instancias del problema en tiempo polinomial.\n",
        "\n",
        "En nuestro caso intentaremos resolver dicho problema haciendo uso de la formulación QUBO y los algoritmos de Annealing Cuántico que podemos simular en el SDK de D-Wave.\n",
        "\n"
      ]
    },
    {
      "cell_type": "markdown",
      "metadata": {
        "id": "EQ7uyQo8N1nO"
      },
      "source": [
        "### Formulación del problema\n",
        "\n",
        "Para resolver el problema lo primero que haremos será definir tanto la función de coste que queremos optimizar como las restricciones de nuestro caso.\n",
        "\n",
        "- **Función de coste**: Distancia recorrida por el viajante\n",
        "- **Restricciones**:\n",
        "  - Cada ciudad debe ser visitada una vez\n",
        "  - Debemos empezar y terminar en la misma ciudad\n",
        "  - La segunda ciudad a visitar, sin contar el origen, debe de ser la 2\n",
        "\n"
      ]
    },
    {
      "cell_type": "markdown",
      "metadata": {
        "id": "btHiLDC3X4nt"
      },
      "source": [
        "\n",
        "  ### Resolución del Problema\n",
        "  Una vez definidos los elementos que componen nuestro problema lo modelaremos haciendo uso de la función `traveling_salesperson_qubo`. Esta función nos creará la formulación QUBO del problema TSP en su versión más sencilla, esto es, con las restricciones de visitar todas las ciudades una única vez y empezar y terminar en la misma ciudad.\n",
        "\n",
        "  Sobre esta formulación añadiremos nosotros la restricción de que la segunda ciudad debería ser una que nosotros especifiquemos, en este caso, la 2.\n",
        "\n",
        "  Para ello penalizaremos mediante un multiplicador de lagrange cualquier resultado en el que la segunda ciudad visitada no sea la que nosotros queremos.\n",
        "\n",
        "  Además de esto, penalizaremos cualquier cuidad de origen y fin del viaje que no sea la que nosotros hemos especificado.\n",
        "\n",
        "  Todo esto lo implementaremos a través de 2 funciones en python.\n",
        "\n",
        "  1. `has_invalid_path(route, graph)` : Función que nos dirá si la ruta resultante es valida o no, es decir, si viaja a través de ciudades conectadas entre sí.\n",
        "  2. `TSP(graph, start, second_city, lagrange, n_samples, sampler, missing_edge_weight)`: Función que implementa la resolución del problema TSP."
      ]
    },
    {
      "cell_type": "code",
      "execution_count": null,
      "metadata": {
        "id": "Nu-iY0Cfaz3t"
      },
      "outputs": [],
      "source": [
        "# Check if result is valid\n",
        "def has_invalid_path(route, graph):\n",
        "    \"\"\"\n",
        "    Checks if the given route contains cities without a connecting road in the provided graph.\n",
        "\n",
        "    Args:\n",
        "    - route (list): The route to be checked, represented as a list of city indices.\n",
        "    - graph (list or set): The weighted edges of the graph. Each edge should be represented as a tuple (node1, node2, weight).\n",
        "\n",
        "    Returns:\n",
        "    - bool: True if the route contains cities without a connecting road, False otherwise.\n",
        "    \"\"\"\n",
        "    for i in range(len(route) - 1):\n",
        "      city1 = route[i]\n",
        "      city2 = route[i + 1]\n",
        "\n",
        "      if not any((city1, city2, weight) in graph or (city2, city1, weight) in graph for _, _, weight in graph):\n",
        "        return True\n",
        "      return False\n",
        "\n",
        "\n",
        "# Function to solve TSP\n",
        "def TSP(graph, start, second_city, lagrange = None, n_samples = 200, sampler = SimulatedAnnealingSampler(), missing_edge_weight = None):\n",
        "\n",
        "  \"\"\"\n",
        "    Solves the Traveling Salesperson Problem (TSP) using Quantum Annealing.\n",
        "\n",
        "    Args:\n",
        "    - graph (list or set): The weighted edges of the graph. Each edge should be represented as a tuple (node1, node2, weight).\n",
        "    - start: The starting city.\n",
        "    - second_city: The city to visit second.\n",
        "    - lagrange (float): Lagrange parameter for QUBO problem formulation. If not provided, it is calculated based on the graph.\n",
        "    - n_samples (int): Number of samples for the quantum annealer.\n",
        "    - sampler (dimod.Sampler): Sampler for solving the QUBO problem. Default is SimulatedAnnealingSampler.\n",
        "    - missing_edge_weight: Weight assigned to missing edges in the graph. If not provided, it is calculated based on the lagrange parameter.\n",
        "\n",
        "    Returns:\n",
        "    - Q (dict): The QUBO problem formulation.\n",
        "    - route (list): The optimal route found by the solver.\n",
        "\n",
        "  \"\"\"\n",
        "\n",
        "  # Create the conectivity graph\n",
        "  G = nx.Graph()\n",
        "  G.add_weighted_edges_from(graph)\n",
        "\n",
        "  if lagrange is None:\n",
        "        # If no lagrange parameter provided, set to 'average' tour length.\n",
        "        # Usually a good estimate for a lagrange parameter is between 75-150%\n",
        "        # of the objective function value, so we come up with an estimate for\n",
        "        # tour length and use that.\n",
        "        if G.number_of_edges()>0:\n",
        "            lagrange = (G.size(weight=' weight')*G.number_of_nodes()/G.number_of_edges())**2\n",
        "        else:\n",
        "            lagrange = 2\n",
        "\n",
        "      # calculate default missing_edge_weight if required\n",
        "  if missing_edge_weight is None:\n",
        "    if lagrange is None:\n",
        "    # networkx method to calculate sum of all weights\n",
        "      missing_edge_weight = G.size(weight=' weight') ** 2\n",
        "    else:\n",
        "      missing_edge_weight = lagrange\n",
        "\n",
        "\n",
        "  # Generate the baseline QUBO problem.\n",
        "  Q = dnx.traveling_salesperson_qubo(G, lagrange = lagrange, missing_edge_weight= missing_edge_weight)\n",
        "\n",
        "  Q = {key: value for key, value in Q.items() if value != 12345}\n",
        "\n",
        "  # In order to solve our problem, we will customize the baseline QUBO problem\n",
        "  # to fit into our needs.\n",
        "  # Route must start at 0 and visit 2 in the second travel:\n",
        "  for node in G:\n",
        "    # If node is not the start, then we penalize if it is the beggining\n",
        "    if node != start:\n",
        "      Q[((node, 0), (node, 0))] = 2*lagrange\n",
        "\n",
        "    # If node any node that is not the second city is visited second, we penalize it\n",
        "    if node != second_city:\n",
        "      Q[((node, 2), (node, 2))] = 2*lagrange\n",
        "\n",
        "  # QUBO problem solving\n",
        "  sampleset = sampler.sample_qubo(Q, num_reads = n_samples)\n",
        "\n",
        "  # Get best result\n",
        "  solution = sampleset.first.sample\n",
        "\n",
        "  # We obtain the route of the salesman\n",
        "  # First we get the cities visited and their order\n",
        "  path = {key: value for key, value in solution.items() if value == 1}\n",
        "\n",
        "  # Then we generate the route\n",
        "  try:\n",
        "    route = [None]*len(path)\n",
        "    for (city, time), val in path.items():\n",
        "      if val:\n",
        "        route[time] = city\n",
        "\n",
        "  # Message if we did not find a complete route\n",
        "  except:\n",
        "    msg = \"Optimal Route Not Found\"\n",
        "    print(msg)\n",
        "    return None, None\n",
        "\n",
        "  # Message if we found a route without roads between cities\n",
        "  if has_invalid_path(route, graph):\n",
        "    print(\"The route found contains cities without a connecting road.\")\n",
        "    return None, None\n",
        "  else:\n",
        "    print(\"The route is valid.\")\n",
        "\n",
        "  return Q,route\n"
      ]
    },
    {
      "cell_type": "markdown",
      "metadata": {
        "id": "aQBvMGZ1W7gO"
      },
      "source": [
        "Una vez desarrolladas las funciones necesarias para la resolución de nuestro problema, definiremos los parámetros de ejecución del mismo, estos son:\n",
        "\n",
        "- `x`: Distancia de 1 a 2\n",
        "- `lagrange`: Valor del multiplicador de Lagrange de nuestro problema\n",
        "- `graph`: Grafo de conectividad de las ciudades\n"
      ]
    },
    {
      "cell_type": "code",
      "execution_count": null,
      "metadata": {
        "id": "x5SUEtVZD8sN"
      },
      "outputs": [],
      "source": [
        "# Initial parameters definition\n",
        "\n",
        "# Distance from 1 to 2\n",
        "x = 4\n",
        "\n",
        "# Lagrange coeficient\n",
        "lagrange = 10\n",
        "\n",
        "# Conectivity Graph\n",
        "graph = {\n",
        " (0, 1, 3),\n",
        " (0, 2, x),\n",
        " (0, 3, 4),\n",
        " (0, 4, 2),\n",
        " (1, 2, 3),\n",
        " (1, 3, 4),\n",
        " (2, 4, 6),\n",
        "}"
      ]
    },
    {
      "cell_type": "markdown",
      "metadata": {
        "id": "8BdJiFo9XcPl"
      },
      "source": [
        "Pintamos el grafo de ciudades sobre el que vamos a trabajar"
      ]
    },
    {
      "cell_type": "code",
      "execution_count": null,
      "metadata": {
        "colab": {
          "base_uri": "https://localhost:8080/",
          "height": 406
        },
        "id": "eiBR3Gv_XTgt",
        "outputId": "fed48d15-1ded-4590-df29-fe8427291d7d"
      },
      "outputs": [
        {
          "data": {
            "image/png": "[encoded data removed]",
            "text/plain": [
              "<Figure size 640x480 with 1 Axes>"
            ]
          },
          "metadata": {},
          "output_type": "display_data"
        }
      ],
      "source": [
        "# Graph Object\n",
        "G = nx.Graph()\n",
        "G.add_weighted_edges_from(graph)\n",
        "\n",
        "# Print Graph\n",
        "nx.draw_networkx(G)"
      ]
    },
    {
      "cell_type": "markdown",
      "metadata": {
        "id": "NW_8OIYeXfZ5"
      },
      "source": [
        "Ejecutamos la función TSP que hemos creado para encontrar la ruta óptima que comienza en 0 y cuya segunda ciudad visitada es 2."
      ]
    },
    {
      "cell_type": "code",
      "execution_count": null,
      "metadata": {
        "colab": {
          "base_uri": "https://localhost:8080/"
        },
        "id": "PzqDpabZcWL4",
        "outputId": "85b84311-233d-4a43-af95-868ca3202cd9"
      },
      "outputs": [
        {
          "name": "stdout",
          "output_type": "stream",
          "text": [
            "The route is valid.\n",
            "Optimal Route:  [0, 4, 2, 1, 3]\n"
          ]
        }
      ],
      "source": [
        "Q,route = TSP(graph = graph, start = 0, second_city = 2, n_samples = 100, lagrange = lagrange)\n",
        "print(\"Optimal Route: \", route)"
      ]
    }
  ],
  "metadata": {
    "colab": {
      "provenance": [],
      "toc_visible": true
    },
    "kernelspec": {
      "display_name": "Python 3",
      "name": "python3"
    },
    "language_info": {
      "name": "python"
    }
  },
  "nbformat": 4,
  "nbformat_minor": 0
}
