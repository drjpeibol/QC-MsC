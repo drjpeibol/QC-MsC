{
  "cells": [
    {
      "cell_type": "markdown",
      "metadata": {
        "id": "CjSiTiwplrjw"
      },
      "source": [
        "# Minimizar costos publicitarios"
      ]
    },
    {
      "cell_type": "markdown",
      "metadata": {
        "id": "5CfxFLwUQCH4"
      },
      "source": [
        "## Información del cuaderno\n",
        "\n",
        "**Máster en Computación Cuántica - UNIR**\n",
        "\n",
        "**Asignatura:** Algoritmos Cuánticos\n",
        "\n",
        "**Actividad del Cuaderno por:** Albert Nieto Morales, Pablo Serrano Molinero, Sergio Cardona Tárrega\n",
        "\n",
        "**Fecha**: 12-05-2024\n",
        "\n",
        "---"
      ]
    },
    {
      "cell_type": "markdown",
      "metadata": {
        "id": "_pwA7G4NmjIi"
      },
      "source": [
        "## Enunciado\n",
        "\n",
        "Somos una empresa interesada en que nuestro producto se conozca entre todos los miembros de una red social. Tenemos la siguiente información de dicha red:\n",
        "\n",
        "- Mario es amigo de Sarah, Raúl y Ana.\n",
        "- Enrique es amigo de Sarah y Raúl.\n",
        "- Saúl es amigo de Ana.\n",
        "\n",
        "Todas las relaciones de amistad son recíprocas, es decir, si Mario es amigo de Raúl, entonces Raúl lo es de Mario. Nuestra idea es pagar a ciertas personas para que hablen de nuestro producto a sus contactos, pero queremos pagar al menor número de personas posibles, ¿a qué personas deberíamos contratar con este fin?\n",
        "\n",
        "Se pide que se solucione con el algoritmo QAOA, en el cual se utilizarán tres capas. Además, en este caso se deberán encontrar los mejores parámetros de rotación para las puertas U(C) y U(B) utilizando un algoritmo de búsqueda.\n"
      ]
    },
    {
      "cell_type": "markdown",
      "metadata": {
        "id": "OwW_MD-LSJwb"
      },
      "source": [
        "## Librerías y funciones\n",
        "\n",
        "Instalaremos e importaremos las librerías necesarias para la resolución del problema"
      ]
    },
    {
      "cell_type": "code",
      "execution_count": null,
      "metadata": {
        "id": "ACMfg1ncnbBH"
      },
      "outputs": [],
      "source": [
        "%%capture\n",
        "%pip install pennylane\n",
        "%pip install pennylane-qulacs[\"cpu\"]"
      ]
    },
    {
      "cell_type": "code",
      "execution_count": null,
      "metadata": {
        "id": "uJk5X4UJrtfP"
      },
      "outputs": [],
      "source": [
        "# Importaciones de PennyLane\n",
        "import pennylane as qml\n",
        "from pennylane import qaoa\n",
        "from pennylane import numpy as npp\n",
        "\n",
        "# Importaciones de rustworkx\n",
        "import rustworkx as rx\n",
        "from rustworkx.visualization import mpl_draw\n",
        "\n",
        "# Importaciones adicionales\n",
        "import cmath\n",
        "import numpy as np\n",
        "import pandas as pd\n",
        "import matplotlib.pyplot as plt"
      ]
    },
    {
      "cell_type": "markdown",
      "metadata": {
        "id": "SZiZCpR0SkUG"
      },
      "source": [
        "Además, definiremos una serie de funciones que nos resultarán útiles a lo largo del desarrollo:\n",
        "- `highest_indices`: Encuentra los índices de los valores más altos en un arreglo unidimensional.\n",
        "\n",
        "- `highest_tensor_and_index`: Encuentra el tensor más alto y sus índices en una lista de tensores.\n",
        "- `highest_phase_and_index`: Encuentra la fase más alta y su índice en una lista de fases.\n",
        "\n",
        "- `amistades_comunes`: Número de amistades comunes entre las personas."
      ]
    },
    {
      "cell_type": "code",
      "execution_count": null,
      "metadata": {
        "id": "AAisghU3HSGk"
      },
      "outputs": [],
      "source": [
        "def highest_indices(array):\n",
        "    \"\"\"\n",
        "    Encuentra los índices de los valores más altos en un arreglo unidimensional.\n",
        "\n",
        "    Parámetros:\n",
        "    - array (array_like): El arreglo unidimensional de valores.\n",
        "\n",
        "    Retorna:\n",
        "    - indices (ndarray): Los índices de los valores más altos en el arreglo.\n",
        "    - binary_indices (list): Los índices de los valores más altos en formato binario.\n",
        "    \"\"\"\n",
        "    max_value = np.max(array)\n",
        "    indices = np.where(array == max_value)[0]\n",
        "    binary_indices = [bin(idx)[2:] for idx in indices]\n",
        "    return indices.astype(int), binary_indices\n",
        "\n",
        "\n",
        "def highest_tensor_and_index(tensors, endianness=False):\n",
        "    \"\"\"\n",
        "    Encuentra el tensor más alto y sus índices en una lista de tensores.\n",
        "\n",
        "    Parámetros:\n",
        "    - tensors (list): La lista de tensores.\n",
        "    - endianness (bool): Indica si se debe invertir el orden de los bits en los índices binarios. Por defecto es False.\n",
        "\n",
        "    Retorna:\n",
        "    - highest_index (int): El índice del tensor más alto en la lista.\n",
        "    - highest_indices (list): Los índices de los bits activados en el índice binario del tensor más alto.\n",
        "    \"\"\"\n",
        "    highest = tensors[0]\n",
        "    highest_index = 0\n",
        "\n",
        "    for i, tensor in enumerate(tensors):\n",
        "        if tensor > highest:\n",
        "            highest = tensor\n",
        "            highest_index = i\n",
        "\n",
        "    highest_index_binary = bin(highest_index)[2:]\n",
        "    highest_index_binary = highest_index_binary[::-1] if endianness else highest_index_binary\n",
        "\n",
        "    highest_indices = [i for i, bit in enumerate(highest_index_binary) if bit == '1']\n",
        "\n",
        "    return highest_index, highest_indices\n",
        "\n",
        "\n",
        "def highest_phase_and_index(phases):\n",
        "    \"\"\"\n",
        "    Encuentra la fase más alta y su índice en una lista de fases.\n",
        "\n",
        "    Parámetros:\n",
        "    - phases (list): La lista de fases.\n",
        "\n",
        "    Retorna:\n",
        "    - highest_phase (float): La fase más alta en la lista.\n",
        "    - highest_index (int): El índice de la fase más alta en la lista.\n",
        "    - highest_index_binary (str): El índice de la fase más alta en formato binario.\n",
        "    \"\"\"\n",
        "    highest_phase = phases[0]\n",
        "    highest_index = 0\n",
        "\n",
        "    for i, phase in enumerate(phases):\n",
        "        if phase > highest_phase:\n",
        "            highest_phase = phase\n",
        "            highest_index = i\n",
        "\n",
        "    highest_index_binary = bin(highest_index)[2:]\n",
        "\n",
        "    return highest_phase, highest_index, highest_index_binary\n",
        "\n",
        "\n",
        "def amistades_comunes(personas, matriz_adyacencia, persona1, persona2):\n",
        "    \"\"\"\n",
        "    Calcula el número de amistades en común entre dos personas en una red social.\n",
        "\n",
        "    Parámetros:\n",
        "    - personas(dict): Diccionario con las personas de la red\n",
        "    - matriz_adyacencia (list): Una matriz de adyacencia que representa las conexiones entre personas.\n",
        "    - persona1 (str): El nombre de la primera persona.\n",
        "    - persona2 (str): El nombre de la segunda persona.\n",
        "\n",
        "    Return:\n",
        "    - int: El número de amistades en común entre las dos personas.\n",
        "    \"\"\"\n",
        "    indice1 = personas[persona1]\n",
        "    indice2 = personas[persona2]\n",
        "    amistades1 = matriz_adyacencia[indice1]\n",
        "    amistades2 = matriz_adyacencia[indice2]\n",
        "    amistades_comunes = sum([a and b for a, b in zip(amistades1, amistades2)])\n",
        "    return amistades_comunes\n"
      ]
    },
    {
      "cell_type": "markdown",
      "metadata": {
        "id": "lBSYULKMSVCg"
      },
      "source": [
        "## Definición del Problema\n",
        "\n",
        "En esta sección definiremos el problema planteado. Para ello, lo primero que haremos será definir nuestra red de contactos a través de una lista de amistades."
      ]
    },
    {
      "cell_type": "code",
      "execution_count": null,
      "metadata": {
        "id": "xdjlNviug2Sd"
      },
      "outputs": [],
      "source": [
        "# Definimos la lista de amistades de nuestra red\n",
        "amistades = [[\"Mario\", \"Sarah\"],\n",
        "             [\"Mario\", \"Raul\"],\n",
        "             [\"Mario\", \"Ana\"],\n",
        "             [\"Enrique\", \"Sarah\"],\n",
        "             [\"Enrique\", \"Raul\"],\n",
        "             [\"Saul\", \"Ana\"]]"
      ]
    },
    {
      "cell_type": "markdown",
      "metadata": {
        "id": "SY0QQC98jOfK"
      },
      "source": [
        "Para poder trabajar más cómodamente, crearemos un diccionario de personas y les asociaremos a cada una un índice único."
      ]
    },
    {
      "cell_type": "code",
      "execution_count": null,
      "metadata": {
        "colab": {
          "base_uri": "https://localhost:8080/"
        },
        "id": "r04TWLAgrsQa",
        "outputId": "705fbc97-34ae-4b8b-ea0f-bc4d9694e293"
      },
      "outputs": [
        {
          "data": {
            "text/plain": [
              "{'Mario': 0, 'Sarah': 1, 'Raul': 2, 'Ana': 3, 'Enrique': 4, 'Saul': 5}"
            ]
          },
          "execution_count": 6,
          "metadata": {},
          "output_type": "execute_result"
        }
      ],
      "source": [
        "# Crear un diccionario para mapear cada persona a un índice único\n",
        "personas = {}\n",
        "for i, amistad in enumerate(amistades):\n",
        "    for persona in amistad:\n",
        "        if persona not in personas:\n",
        "            personas[persona] = len(personas)\n",
        "\n",
        "personas"
      ]
    },
    {
      "cell_type": "markdown",
      "metadata": {
        "id": "H4Ivx113jVwx"
      },
      "source": [
        "Una vez hecho esto, generaremos una matriz de adyacencia que nos indique que contactos tiene cada una de las personas. En este caso debemos de tener en cuenta que cada persona es contacto de sí misma, ya que si decidimos contactar por ejemplo a Enrique, nuestro producto llegará a Enrique y a sus contactos.\n",
        "\n",
        "Esto nos permitirá medir de manera más adecuada el alcance de las distintas comunicaciones.\n"
      ]
    },
    {
      "cell_type": "code",
      "execution_count": null,
      "metadata": {
        "colab": {
          "base_uri": "https://localhost:8080/"
        },
        "id": "q2NTyOsWvoty",
        "outputId": "603b7acf-5dc6-48a1-daac-6ee75af20e19"
      },
      "outputs": [
        {
          "data": {
            "text/plain": [
              "[[1, 1, 1, 1, 0, 0],\n",
              " [1, 1, 0, 0, 1, 0],\n",
              " [1, 0, 1, 0, 1, 0],\n",
              " [1, 0, 0, 1, 0, 1],\n",
              " [0, 1, 1, 0, 1, 0],\n",
              " [0, 0, 0, 1, 0, 1]]"
            ]
          },
          "execution_count": 7,
          "metadata": {},
          "output_type": "execute_result"
        }
      ],
      "source": [
        "# Crear matriz de adyacencia\n",
        "matriz_adyacencia = [[0] * len(personas) for _ in range(len(personas))]\n",
        "for amistad in amistades:\n",
        "    persona1 = personas[amistad[0]]\n",
        "    persona2 = personas[amistad[1]]\n",
        "    matriz_adyacencia[persona1][persona2] = 1\n",
        "    matriz_adyacencia[persona2][persona1] = 1\n",
        "    matriz_adyacencia[persona1][persona1] = 1\n",
        "    matriz_adyacencia[persona2][persona2] = 1\n",
        "\n",
        "matriz_adyacencia"
      ]
    },
    {
      "cell_type": "markdown",
      "metadata": {
        "id": "5TZ-T14lzVR9"
      },
      "source": [
        "### Grafo de la Red"
      ]
    },
    {
      "cell_type": "markdown",
      "metadata": {
        "id": "EkDIkqS6jszP"
      },
      "source": [
        "Para poder visualizar de manera más sencilla la red con la que estamos trabajando, vamos a generar un grafo a partir de las diferentes personas y sus contactos.\n",
        "\n",
        "En este grafo las relaciones de amistad vienen representadas por las aristas del grafo y cada persona por su índice en el diccionario definido anteriormente."
      ]
    },
    {
      "cell_type": "code",
      "execution_count": null,
      "metadata": {
        "colab": {
          "base_uri": "https://localhost:8080/"
        },
        "id": "sUd3w_Rzu_hx",
        "outputId": "c97c398c-1825-4bef-a111-7eb624c936dd"
      },
      "outputs": [
        {
          "data": {
            "text/plain": [
              "[(0, 1, 1), (0, 2, 1), (0, 3, 1), (4, 1, 1), (4, 2, 1), (5, 3, 1)]"
            ]
          },
          "execution_count": 8,
          "metadata": {},
          "output_type": "execute_result"
        }
      ],
      "source": [
        "# Cada persona será representada por un nodo\n",
        "num_nodes = len(personas)\n",
        "\n",
        "# Cada arista es una relación de amistad entre personas\n",
        "edges = [(personas[amistad[0]], personas[amistad[1]], 1) for amistad in amistades]\n",
        "\n",
        "edges"
      ]
    },
    {
      "cell_type": "markdown",
      "metadata": {
        "id": "cUpeSvJckGBz"
      },
      "source": [
        "Una vez definido el grafo, lo representamos gráficamente. Esta visualización nos será de gran utilidad ya que podemos ver claramente cual será la solución de nuestro problema.\n",
        "\n",
        "En nuestro caso, si contactamos con la persona 3 y la persona 0, llegaríamos a todos los miembros de la red con el mínimo número de contactos."
      ]
    },
    {
      "cell_type": "code",
      "execution_count": null,
      "metadata": {
        "colab": {
          "base_uri": "https://localhost:8080/",
          "height": 516
        },
        "id": "qJ3SkvDcvAD1",
        "outputId": "ff31eb13-11e2-4cea-9996-8c09e6b08295"
      },
      "outputs": [
        {
          "data": {
            "image/png": "[encoded data removed]",
            "text/plain": [
              "<Figure size 640x480 with 1 Axes>"
            ]
          },
          "metadata": {},
          "output_type": "display_data"
        }
      ],
      "source": [
        "# Definimos el grafo en base a sus nodos y aristas\n",
        "G = rx.PyGraph()\n",
        "G.add_nodes_from(range(num_nodes))\n",
        "G.add_edges_from(edges)\n",
        "\n",
        "pos = rx.spring_layout(G)\n",
        "\n",
        "# Representamos gráficamente el grafo generado\n",
        "mpl_draw(\n",
        "    G, pos=pos, with_labels=True, node_color=\"#EE5396\", font_color=\"#F4F4F4\"\n",
        ")"
      ]
    },
    {
      "cell_type": "markdown",
      "metadata": {
        "id": "YXiQCBWCkWmj"
      },
      "source": [
        "Con esta primera solución visual podemos pasar a modelizar el problema a través de la librería `Pennylane`, un framework de computación cuántica con funcionalidades muy interesantes para problemas de optimización como este."
      ]
    },
    {
      "cell_type": "markdown",
      "metadata": {
        "id": "MZT-VrB-Dplo"
      },
      "source": [
        "## Formulación del problema\n",
        "\n",
        "Una vez definidos los distintos elementos de nuestro problema, debemos pensar en como formular dicho problema de forma que lo podamos abordar con $QAOA$.\n",
        "\n",
        "$QAOQ$ es un algoritmo de optimización que es de gran utilidad para resolver problemas de optimización, más concretamente, problemas donde el hamiltoniano que describe el sistema que queremos optimizar sea de tipo Ising.\n",
        "\n",
        "El modelo de Ising es un modelo muy similar al QUBO, estudiado en la anterior práctica, pero en este caso las variables binarias en vez de ser $x_i \\in \\{0,1\\}$ son $z_i \\in \\{-1,1\\}$.\n",
        "\n",
        "Con esta definición, una vía para abordar este problema será la de formularlo como un problema QUBO y posteriormente ajustarlo para que sea tipo Ising. Esta transformación se puede hacer de manera relativamente sencilla mediante el cambio de variable $x_i = \\frac{1-z_i}{2}$."
      ]
    },
    {
      "cell_type": "markdown",
      "metadata": {
        "id": "_0lVMejeDwBU"
      },
      "source": [
        "### Formulación QUBO\n",
        "\n",
        "Un problema QUBO tiene la siguiente estructura:\n",
        "\n",
        "Minimizar:\n",
        "$$f(x) = \\sum_{i=1}^{n} q_i x_i + \\sum_{i=1}^{n}\\sum_{j=i+1}^{n} q_{ij} x_i x_j$$\n",
        "\n",
        "Sujeto a:\n",
        "$$x_i \\in \\{0, 1\\}, \\text{ para } i = 1, 2, ..., n$$\n",
        "\n",
        "Donde:\n",
        "\n",
        "- $x_i$ son variables binarias que representan las decisiones del problema.\n",
        "- $q_i$ son los coeficientes de los términos lineales que representan el costo o beneficio de seleccionar cada variable individualmente.\n",
        "- $q_{ij}$ son los coeficientes de los términos cuadráticos que representan el costo o beneficio de seleccionar simultáneamente las variables $x_i , x_j$.\n",
        "\n",
        "- La función objetivo $f(x)$ es la expresión que se desea minimizar.\n",
        "- La restricción $x_i \\in \\{0,1\\}$ indica que las variables son binarias, es decir, pueden tomar solo los valores 0 o 1.\n",
        "\n",
        "Si el problema QUBO en cuestión tuviese restricciones, estas se añadirían a la función de coste mediante el uso de multiplicadores de Lagrange.\n",
        "\n",
        "$$f(x) = \\sum_{i=1}^{n} q_i x_i + \\sum_{i=1}^{n}\\sum_{j=i+1}^{n} q_{ij} x_i x_j - \\lambda (g(x_i) -c)$$\n",
        "\n",
        "Donde:\n",
        "- $\\lambda$ es el multiplicador de lagrande asociado a la restricción.\n",
        "- La restricción vendría definida por $g(x_i) = c$.\n",
        "\n",
        "\n",
        "Una vez entendida la estructura que debe de tener la formulación de nuestro problema, vamos a bajarlo a tierra. Para ello, dividiremos la función a optimizar en unidades más sencillas de comprender.\n",
        "\n",
        "En nuestro caso queremos minimizar el número de contactos a los que pagamos para que hablen de nuestro producto, manteniendo una cobertura total de la red, por lo tanto podemos dividir nuestra función de coste en 2 partes:\n",
        "\n",
        "1. $C(x_i)$: Número de contactos a los que pagamos\n",
        "2. $g(x_i)$: Penalización si con los contactos seleccionados no cubrimos toda la red.\n",
        "\n",
        "Donde las variables $x_i$ serán 1 si contactamos a esa persona y 0 si no.\n",
        "\n",
        "De esta forma definimos $$f(x_i) = C(x_i) - \\lambda g(x_i)$$\n",
        "\n",
        "La función $C(x_i)$ es la más sencilla de las dos ya que la podemos definir simplemente como:\n",
        "\n",
        "$$C(x_i) = \\sum_{i=1}^n x_i$$\n",
        "\n",
        "Donde simplemente contaremos cuantas personas hemos contactado para que publiciten nuestro producto sumando cuales de ellas están a 1.\n",
        "\n",
        "Por otro lado la funcíon $g(x_i)$ será la encargada de penalizar si no se contactasen a todas las personas de la red. Para modelizar esto volveremos a subdividir la función en dos:\n",
        "\n",
        "1. Número de personas a las que llegas si contactas a la persona $x_i$.\n",
        "2. Número de personas redundantes si contactas a las personas $x_i,x_j$.\n",
        "\n",
        "Para definir estas nuevas funciones primero introduciremos dos parámetros de las mismas.\n",
        "- $n_i$: Número de contactos de la persona $x_i$.\n",
        "- $n_{ij}$: Número de contactos comunes entre $x_i,x_j$.\n",
        "\n",
        "Podemos definir entonces:\n",
        "\n",
        "$$g_1(x_i) = \\sum_{i=1}^n n_i x_i$$\n",
        "\n",
        "$$g_2(x_i) = -\\sum_{i=1}^n \\sum_{j=1+1}^n n_{ij} x_i x_j$$\n",
        "\n",
        "Por lo que la función de penalización $g(x_i) = g_1(x_i) + g_2(x_i) - N$ donde $N$ es el número total de personas dentro de nuestra red.  \n",
        "\n",
        "Como resultado hemos obtenido la siguiente función a optimizar:\n",
        "\n",
        "$$f(x) = \\sum_{i=1}^n x_i - \\lambda (\\sum_{i=1}^n n_i x_i -\\sum_{i=1}^n \\sum_{j=1+1}^n n_{ij} x_i x_j - N)$$"
      ]
    },
    {
      "cell_type": "markdown",
      "metadata": {
        "id": "6_7O9dCCn8ES"
      },
      "source": [
        "### Formulación Ising\n",
        "\n",
        "Una vez tenemos nuestro problema formulado como un problema de tipo QUBO, debemos transformarlo en Ising con el cambio de variable que hemos mencionado anteriormente. Análogamente al caso anterior dividiremos el problema en unidades más pequeñas para que sea más sencillo.\n",
        "\n",
        "\n",
        "1. $C(z_i)$: Número de contactos a los que pagamos\n",
        "\n",
        "\n",
        "$$C_1(z_i) = \\frac{N}{2} - \\frac{1}{2} \\sum_{i=1}^ n (z_i) $$\n",
        "\n",
        "2. $g(z_i)$: Penalización si con los contactos seleccionados no cubrimos toda la red.\n",
        "\n",
        "$$g_1(z_i) = \\sum_{i=1}^ n\\frac{n_i}{2} - \\frac{1}{2} \\sum_{i=1}^ n (n_i z_i) $$\n",
        "3. El número de personas a las que alcanzamos de forma redundante si contactamos a dos pares de personas concretos:\n",
        "\n",
        "$$g_2(z) = -\\frac{1}{4}\\sum_{i=1}^ n \\sum_{j=i+1}^ n (n_{ij} (z_i + z_j - z_i z_j - 1)) $$\n",
        "\n",
        "\n",
        "Por último, cabe destacar que como el algoritmo $QAOA$ está pensado para maximizar, y nosotros buscamos minimizar, aplicaremos un signo menos a los coeficientes."
      ]
    },
    {
      "cell_type": "markdown",
      "metadata": {
        "id": "kGN7tVjOEIw5"
      },
      "source": [
        "## Programación del problema"
      ]
    },
    {
      "cell_type": "markdown",
      "metadata": {
        "id": "FL8rmBwaDYIT"
      },
      "source": [
        "### Resolución en base al modelo Ising\n",
        "\n",
        "Los primeros pasos en la definición de nuestro problema será la generación de las variables:\n",
        "\n",
        "- `Num_contactos`: Número de contactos de cada persona de la red (incluído él mismo).\n",
        "- `Matriz_comunes`: Matriz de contactos comunes entre miembros de la red."
      ]
    },
    {
      "cell_type": "code",
      "execution_count": null,
      "metadata": {
        "colab": {
          "base_uri": "https://localhost:8080/"
        },
        "id": "ntjudTICDhtv",
        "outputId": "2ae34e47-572d-4be8-a7fd-30b53e210d6a"
      },
      "outputs": [
        {
          "name": "stdout",
          "output_type": "stream",
          "text": [
            "Mario supone 4 contactos.\n",
            "Sarah supone 3 contactos.\n",
            "Raul supone 3 contactos.\n",
            "Ana supone 3 contactos.\n",
            "Enrique supone 3 contactos.\n",
            "Saul supone 2 contactos.\n"
          ]
        },
        {
          "data": {
            "text/plain": [
              "[4, 3, 3, 3, 3, 2]"
            ]
          },
          "execution_count": 10,
          "metadata": {},
          "output_type": "execute_result"
        }
      ],
      "source": [
        "# Número de contactos de cada persona\n",
        "for persona, indice in personas.items():\n",
        "    contactos = sum(matriz_adyacencia[indice])\n",
        "    print(f\"{persona} supone {contactos} contactos.\")\n",
        "\n",
        "# Encontramos el número de contactos de cada persona\n",
        "num_contactos = [sum(fila) for fila in matriz_adyacencia]\n",
        "num_contactos"
      ]
    },
    {
      "cell_type": "markdown",
      "metadata": {
        "id": "SfdDrjYYTrNa"
      },
      "source": [
        "Comprobamos cada pareja de amistades cuántos contactos en común tienen."
      ]
    },
    {
      "cell_type": "code",
      "execution_count": null,
      "metadata": {
        "colab": {
          "base_uri": "https://localhost:8080/"
        },
        "id": "czVE-faNDWnT",
        "outputId": "71253dfc-3618-42d0-b236-7d559f3abe68"
      },
      "outputs": [
        {
          "name": "stdout",
          "output_type": "stream",
          "text": [
            "Mario y Sarah tienen 2 contactos en común.\n",
            "Mario y Raul tienen 2 contactos en común.\n",
            "Mario y Saul tienen 1 contactos en común.\n",
            "Sarah y Saul tienen 0 contactos en común.\n",
            "Raul y Sarah tienen 2 contactos en común.\n",
            "Raul y Saul tienen 0 contactos en común.\n",
            "Ana y Mario tienen 2 contactos en común.\n",
            "Ana y Sarah tienen 1 contactos en común.\n",
            "Ana y Raul tienen 1 contactos en común.\n",
            "Ana y Enrique tienen 0 contactos en común.\n",
            "Ana y Saul tienen 2 contactos en común.\n",
            "Enrique y Mario tienen 2 contactos en común.\n",
            "Enrique y Sarah tienen 2 contactos en común.\n",
            "Enrique y Raul tienen 2 contactos en común.\n",
            "Enrique y Saul tienen 0 contactos en común.\n"
          ]
        }
      ],
      "source": [
        "# Encontramos el número de amistades comunes entre las personas\n",
        "for persona1, indice1 in personas.items():\n",
        "    for persona2, indice2 in personas.items():\n",
        "        if persona1 < persona2:\n",
        "            comunes = amistades_comunes(personas, matriz_adyacencia, persona1, persona2)\n",
        "            print(f\"{persona1} y {persona2} tienen {comunes} contactos en común.\")"
      ]
    },
    {
      "cell_type": "markdown",
      "metadata": {
        "id": "IztjiL84UWYb"
      },
      "source": [
        "Definimos una matriz con los contactos comunes que posteriormente utilizaremos para la resolución:"
      ]
    },
    {
      "cell_type": "code",
      "execution_count": null,
      "metadata": {
        "colab": {
          "base_uri": "https://localhost:8080/"
        },
        "id": "xeCYB-n7I-J4",
        "outputId": "adc05f2b-d52f-49d2-ec97-b0e9a05192be"
      },
      "outputs": [
        {
          "data": {
            "text/plain": [
              "[[4, 2, 2, 2, 2, 1],\n",
              " [2, 3, 2, 1, 2, 0],\n",
              " [2, 2, 3, 1, 2, 0],\n",
              " [2, 1, 1, 3, 0, 2],\n",
              " [2, 2, 2, 0, 3, 0],\n",
              " [1, 0, 0, 2, 0, 2]]"
            ]
          },
          "execution_count": 12,
          "metadata": {},
          "output_type": "execute_result"
        }
      ],
      "source": [
        "# Hacemos una matriz con los contactos comunes\n",
        "matriz_comunes = [[amistades_comunes(personas,matriz_adyacencia, persona1, persona2) for persona2 in personas] for persona1 in personas]\n",
        "matriz_comunes"
      ]
    },
    {
      "cell_type": "markdown",
      "metadata": {
        "id": "EteInuELUt0h"
      },
      "source": [
        "#### Definición del Hamiltoniano\n",
        "\n",
        "A continuación, definimos los coeficientes de nuestro Hamiltoniano Ising. Nuestro Hamiltioniano se separa en tres partes:\n",
        "- Número de personas contactadas.\n",
        "- Número de contactos que tiene cada persona.\n",
        "- Contactos comunes entre personas."
      ]
    },
    {
      "cell_type": "code",
      "execution_count": null,
      "metadata": {
        "colab": {
          "base_uri": "https://localhost:8080/"
        },
        "id": "jjlNfYg2jgLp",
        "outputId": "ba78164e-3121-4dd2-a616-69632afd367a"
      },
      "outputs": [
        {
          "data": {
            "text/plain": [
              "[1, 1, 1, 1, 1, 1]"
            ]
          },
          "execution_count": 13,
          "metadata": {},
          "output_type": "execute_result"
        }
      ],
      "source": [
        "# Lambda de la penalización\n",
        "lambda_ = 12\n",
        "# Coeficientes asociados al término que nos indica el número de personas contactadas\n",
        "coefs_1 = [1 for _ in range(len(personas))]\n",
        "\n",
        "coefs_1"
      ]
    },
    {
      "cell_type": "code",
      "execution_count": null,
      "metadata": {
        "colab": {
          "base_uri": "https://localhost:8080/"
        },
        "id": "yNFYoaEJPOOZ",
        "outputId": "1aa20a12-4c34-42f5-d0af-8d41843bf792"
      },
      "outputs": [
        {
          "data": {
            "text/plain": [
              "[-48, -36, -36, -36, -36, -24]"
            ]
          },
          "execution_count": 14,
          "metadata": {},
          "output_type": "execute_result"
        }
      ],
      "source": [
        "# Coeficientes asociados al número de contactos que tiene cada persona\n",
        "coefs_2 = [-lambda_ * num_contactos[i] for i in range(len(personas))]\n",
        "\n",
        "coefs_2"
      ]
    },
    {
      "cell_type": "code",
      "execution_count": null,
      "metadata": {
        "colab": {
          "base_uri": "https://localhost:8080/"
        },
        "id": "RK7pOJevPVV_",
        "outputId": "785533d9-8b8f-457a-e14c-8b9e2d115c73"
      },
      "outputs": [
        {
          "data": {
            "text/plain": [
              "[12.0,\n",
              " 12.0,\n",
              " 12.0,\n",
              " 12.0,\n",
              " 6.0,\n",
              " 12.0,\n",
              " 6.0,\n",
              " 12.0,\n",
              " 0.0,\n",
              " 6.0,\n",
              " 12.0,\n",
              " 0.0,\n",
              " 0.0,\n",
              " 12.0,\n",
              " 0.0]"
            ]
          },
          "execution_count": 15,
          "metadata": {},
          "output_type": "execute_result"
        }
      ],
      "source": [
        "# Coeficientes asociados a los contactos comunes entre personas\n",
        "coefs_3 = [0.5*lambda_ * matriz_comunes[i][j] for i in range(len(personas)) for j in range(i+1, len(personas))]\n",
        "\n",
        "# Debido a la naturaleza de esta última parte del Hamiltoniano, debemos expandir los coeficientes, ya que cada coeficiente se debe aplicar\n",
        "# a -zi,-zj, zizj\n",
        "coefs_3_exp = np.outer(coefs_3, [1,1,-1])\n",
        "\n",
        "# Pasamos la matriz a un vector\n",
        "coefs_3_exp = coefs_3_exp.flatten().tolist()\n",
        "\n",
        "coefs_3"
      ]
    },
    {
      "cell_type": "markdown",
      "metadata": {
        "id": "VusI54ZdVscG"
      },
      "source": [
        "Habiendo definido el coeficiente de las tres partes, los unimos en una única variable."
      ]
    },
    {
      "cell_type": "code",
      "execution_count": null,
      "metadata": {
        "id": "CTmcmEihPamY"
      },
      "outputs": [],
      "source": [
        "# Unimos los coeficientes definidos para las distintas partes de nuestro problema\n",
        "coefs = coefs_1+coefs_2+coefs_3_exp"
      ]
    },
    {
      "cell_type": "markdown",
      "metadata": {
        "id": "lg6fIYpTVznR"
      },
      "source": [
        "Tenienido definidos los coeficientes, ahora nos falta definir el circuito asociado a nuestro problema."
      ]
    },
    {
      "cell_type": "code",
      "execution_count": null,
      "metadata": {
        "colab": {
          "base_uri": "https://localhost:8080/"
        },
        "id": "bsjF_mkOp2AV",
        "outputId": "c3efce37-6cd0-4862-8664-78c828d1e811"
      },
      "outputs": [
        {
          "data": {
            "text/plain": [
              "[Z(0),\n",
              " Z(1),\n",
              " Z(2),\n",
              " Z(3),\n",
              " Z(4),\n",
              " Z(5),\n",
              " Z(0),\n",
              " Z(1),\n",
              " Z(2),\n",
              " Z(3),\n",
              " Z(4),\n",
              " Z(5),\n",
              " Z(0),\n",
              " Z(1),\n",
              " Z(0) @ Z(1),\n",
              " Z(0),\n",
              " Z(2),\n",
              " Z(0) @ Z(2),\n",
              " Z(0),\n",
              " Z(3),\n",
              " Z(0) @ Z(3),\n",
              " Z(0),\n",
              " Z(4),\n",
              " Z(0) @ Z(4),\n",
              " Z(0),\n",
              " Z(5),\n",
              " Z(0) @ Z(5),\n",
              " Z(1),\n",
              " Z(2),\n",
              " Z(1) @ Z(2),\n",
              " Z(1),\n",
              " Z(3),\n",
              " Z(1) @ Z(3),\n",
              " Z(1),\n",
              " Z(4),\n",
              " Z(1) @ Z(4),\n",
              " Z(1),\n",
              " Z(5),\n",
              " Z(1) @ Z(5),\n",
              " Z(2),\n",
              " Z(3),\n",
              " Z(2) @ Z(3),\n",
              " Z(2),\n",
              " Z(4),\n",
              " Z(2) @ Z(4),\n",
              " Z(2),\n",
              " Z(5),\n",
              " Z(2) @ Z(5),\n",
              " Z(3),\n",
              " Z(4),\n",
              " Z(3) @ Z(4),\n",
              " Z(3),\n",
              " Z(5),\n",
              " Z(3) @ Z(5),\n",
              " Z(4),\n",
              " Z(5),\n",
              " Z(4) @ Z(5)]"
            ]
          },
          "execution_count": 17,
          "metadata": {},
          "output_type": "execute_result"
        }
      ],
      "source": [
        "# Número de qubits\n",
        "n = len(personas)\n",
        "\n",
        "# Lista vacía de transformaciones de nuestro circuito\n",
        "obs = []\n",
        "\n",
        "# Puertas asociadas a los términos de f1\n",
        "for i in range(n):\n",
        "  obs.append(qml.PauliZ(i))\n",
        "\n",
        "# Puertas asociadas a los términos de f2\n",
        "for i in range(n):\n",
        "  obs.append(qml.PauliZ(i))\n",
        "\n",
        "# Puertas asociadas a los términos de f3\n",
        "for i in range(n):\n",
        "  for j in range(i+1,n):\n",
        "    obs.append(qml.PauliZ(i))\n",
        "    obs.append(qml.PauliZ(j))\n",
        "    obs.append(qml.PauliZ(i) @ qml.PauliZ(j))\n",
        "\n",
        "# Vemos la estructura que tendrá el circuito asociado a nuestro Hamiltoniano\n",
        "obs"
      ]
    },
    {
      "cell_type": "markdown",
      "metadata": {
        "id": "ZeeFBUEfZKP3"
      },
      "source": [
        "Teniendo ambos coeficientes y circuito del Hamiltoniano, podemos definir el Hamiltoniano con la clase integrada en Pennylane."
      ]
    },
    {
      "cell_type": "code",
      "execution_count": null,
      "metadata": {
        "colab": {
          "base_uri": "https://localhost:8080/"
        },
        "id": "bNr5fJg_JrRW",
        "outputId": "52a72d0d-f2d3-4419-eb54-2ef99f434966"
      },
      "outputs": [
        {
          "data": {
            "text/plain": [
              "(\n",
              "    1 * Z(0)\n",
              "  + 1 * Z(1)\n",
              "  + 1 * Z(2)\n",
              "  + 1 * Z(3)\n",
              "  + 1 * Z(4)\n",
              "  + 1 * Z(5)\n",
              "  + -48 * Z(0)\n",
              "  + -36 * Z(1)\n",
              "  + -36 * Z(2)\n",
              "  + -36 * Z(3)\n",
              "  + -36 * Z(4)\n",
              "  + -24 * Z(5)\n",
              "  + 12.0 * Z(0)\n",
              "  + 12.0 * Z(1)\n",
              "  + -12.0 * (Z(0) @ Z(1))\n",
              "  + 12.0 * Z(0)\n",
              "  + 12.0 * Z(2)\n",
              "  + -12.0 * (Z(0) @ Z(2))\n",
              "  + 12.0 * Z(0)\n",
              "  + 12.0 * Z(3)\n",
              "  + -12.0 * (Z(0) @ Z(3))\n",
              "  + 12.0 * Z(0)\n",
              "  + 12.0 * Z(4)\n",
              "  + -12.0 * (Z(0) @ Z(4))\n",
              "  + 6.0 * Z(0)\n",
              "  + 6.0 * Z(5)\n",
              "  + -6.0 * (Z(0) @ Z(5))\n",
              "  + 12.0 * Z(1)\n",
              "  + 12.0 * Z(2)\n",
              "  + -12.0 * (Z(1) @ Z(2))\n",
              "  + 6.0 * Z(1)\n",
              "  + 6.0 * Z(3)\n",
              "  + -6.0 * (Z(1) @ Z(3))\n",
              "  + 12.0 * Z(1)\n",
              "  + 12.0 * Z(4)\n",
              "  + -12.0 * (Z(1) @ Z(4))\n",
              "  + 0.0 * Z(1)\n",
              "  + 0.0 * Z(5)\n",
              "  + -0.0 * (Z(1) @ Z(5))\n",
              "  + 6.0 * Z(2)\n",
              "  + 6.0 * Z(3)\n",
              "  + -6.0 * (Z(2) @ Z(3))\n",
              "  + 12.0 * Z(2)\n",
              "  + 12.0 * Z(4)\n",
              "  + -12.0 * (Z(2) @ Z(4))\n",
              "  + 0.0 * Z(2)\n",
              "  + 0.0 * Z(5)\n",
              "  + -0.0 * (Z(2) @ Z(5))\n",
              "  + 0.0 * Z(3)\n",
              "  + 0.0 * Z(4)\n",
              "  + -0.0 * (Z(3) @ Z(4))\n",
              "  + 12.0 * Z(3)\n",
              "  + 12.0 * Z(5)\n",
              "  + -12.0 * (Z(3) @ Z(5))\n",
              "  + 0.0 * Z(4)\n",
              "  + 0.0 * Z(5)\n",
              "  + -0.0 * (Z(4) @ Z(5))\n",
              ")"
            ]
          },
          "execution_count": 18,
          "metadata": {},
          "output_type": "execute_result"
        }
      ],
      "source": [
        "# Definimos nuestro Hamiltoniano haciendo uso de los circuitos generados y de sus coeficientes asociados\n",
        "H = qml.Hamiltonian(coefs, obs)\n",
        "H"
      ]
    },
    {
      "cell_type": "markdown",
      "metadata": {
        "id": "OJxJcS0CZeE3"
      },
      "source": [
        "#### Implementación del algoritmo QAOA"
      ]
    },
    {
      "cell_type": "code",
      "execution_count": null,
      "metadata": {
        "colab": {
          "base_uri": "https://localhost:8080/",
          "height": 736
        },
        "id": "JS67NBHjvKW3",
        "outputId": "9402e509-c09d-44cf-8a93-a5d15ad7237a"
      },
      "outputs": [
        {
          "data": {
            "image/png": "[encoded data removed]",
            "text/plain": [
              "<Figure size 1000x700 with 1 Axes>"
            ]
          },
          "metadata": {},
          "output_type": "display_data"
        }
      ],
      "source": [
        "# Definimos el parámetro gamma de separación de fase\n",
        "gamma = 1\n",
        "\n",
        "# Definimos el parámetro beta de rotación para pasar de fase a amplitud\n",
        "beta = 1\n",
        "\n",
        "# Número de iteraciones del circuito\n",
        "iter = 60\n",
        "\n",
        "# Definimos el entorno que utilizaremos para las ejecuciones\n",
        "dev = qml.device(\"default.qubit\", wires = H.wires)\n",
        "\n",
        "# Definimos un circuito análogo al anterior pero con el operador U(beta)\n",
        "@qml.qnode(dev)\n",
        "\n",
        "def circuit(H, gamma, beta, iter = 1,):\n",
        "    \"\"\"\n",
        "    Construye un circuito cuántico para el algoritmo Quantum Approximate Optimization Algorithm (QAOA).\n",
        "\n",
        "    Parámetros:\n",
        "    - H(list): Hamiltoniano Ising del sistema\n",
        "    - gamma(float): Parámetro gamma para la separación en fases\n",
        "    - beta(float): Parámetro de la rotación RX para modificar las amplitudes en función de las fases\n",
        "    - iter (int): El número de iteraciones del algoritmo QAOA. Por defecto es 1.\n",
        "\n",
        "    Retorna:\n",
        "    - qml.state(): El estado final del sistema cuántico después de aplicar el circuito.\n",
        "    \"\"\"\n",
        "\n",
        "    for i in dev.wires:\n",
        "        qml.Hadamard(wires = i)\n",
        "\n",
        "    for _ in range(iter):\n",
        "        qml.Barrier(wires = dev.wires)\n",
        "        qml.ApproxTimeEvolution(H, -gamma, 1)\n",
        "        for i in dev.wires:\n",
        "            qml.RX(-beta, wires = i)\n",
        "\n",
        "    return qml.state()\n",
        "\n",
        "# Representamos una versión reducida el circuito generado\n",
        "fig, ax = qml.draw_mpl(circuit)(H, gamma, beta,iter=2)\n",
        "fig.suptitle(\"Representación gráfica del circuito\", fontsize=\"xx-large\")\n",
        "\n",
        "plt.show()"
      ]
    },
    {
      "cell_type": "markdown",
      "metadata": {
        "id": "4AbfGiabZl0Y"
      },
      "source": [
        "#### Resultados"
      ]
    },
    {
      "cell_type": "code",
      "execution_count": null,
      "metadata": {
        "colab": {
          "base_uri": "https://localhost:8080/",
          "height": 487
        },
        "id": "ZBSwZ3w4WRi-",
        "outputId": "ad2a7e77-4426-46a2-b74c-42ed167415ae"
      },
      "outputs": [
        {
          "data": {
            "image/png": "[encoded data removed]",
            "text/plain": [
              "<Figure size 1800x600 with 2 Axes>"
            ]
          },
          "metadata": {},
          "output_type": "display_data"
        }
      ],
      "source": [
        "# Creamos la figura y los ejes para las subfiguras\n",
        "fig, axes = plt.subplots(1, 2, figsize=(18, 6))\n",
        "\n",
        "# Graficamos las probabilidades en la segunda subfigura\n",
        "axes[0].set_title(\"Probabilidades\", fontsize=\"xx-large\")\n",
        "probs = [abs(i)**2 for i in circuit(H, gamma, beta, iter)]\n",
        "axes[0].bar(range(len(probs)), probs)\n",
        "\n",
        "# Graficamos las fases en la tercera subfigura\n",
        "axes[1].set_title(\"Fases\", fontsize=\"xx-large\")\n",
        "phases = [cmath.phase(i) for i in circuit(H, gamma, beta, iter)]\n",
        "axes[1].bar(range(len(phases)), phases)\n",
        "\n",
        "plt.show()"
      ]
    },
    {
      "cell_type": "code",
      "execution_count": null,
      "metadata": {
        "colab": {
          "base_uri": "https://localhost:8080/"
        },
        "id": "8NYhtY-iWUxl",
        "outputId": "b2141eb9-3a8b-4a4e-9213-1d86d1ed6923"
      },
      "outputs": [
        {
          "name": "stdout",
          "output_type": "stream",
          "text": [
            "El estado más probable es: 24, asociado al número binario 0b11000\n"
          ]
        }
      ],
      "source": [
        "# Escribimos por pantalla el resultado más probable, es decir, la solución encontrada a nuestro problema\n",
        "print(f\"El estado más probable es: {probs.index(max(probs))}, asociado al número binario {bin(probs.index(max(probs)))}\")"
      ]
    },
    {
      "cell_type": "markdown",
      "source": [
        "Vemos que este resultado es el asociado a contactar al nodo 3 y 4, de forma que cubriríamos toda la red con 2 únicos contactos.\n",
        "\n",
        "Este es el resultado óptimo, pero para llegar a él necesitamos un número grande de iteraciones. Como sabemos $QAOA$ es un algoritmo que se va aproximando al resultado óptimo, por lo que podemos reducir el número de iteraciones a costa de la posibilidad de encontrar una solución que no sea la óptima, pero se acerque a ella.\n",
        "\n",
        "En el siguiente punto veremos una forma alternativa de resolver este problema, en la que usaremos menos capas para obtener una solución aproximada."
      ],
      "metadata": {
        "id": "VMP3ZVfp5LhE"
      }
    },
    {
      "cell_type": "markdown",
      "metadata": {
        "id": "wADJf6n8SFVy"
      },
      "source": [
        " ### Resolución como problema de cobertura mínima de vértices"
      ]
    },
    {
      "cell_type": "markdown",
      "metadata": {
        "id": "jNmL6llwfZdl"
      },
      "source": [
        "Utilizando las funciones implementadas en Pennylane, podemos intentar resolver este problema como un problema de cobertura mínima de vértices. Es decir, intentamos cubrir toda la red de amistades con el mínimo número de vértices.\n",
        "\n",
        "Tenemos el siguiente grafo para definir el problema, previamente definido:"
      ]
    },
    {
      "cell_type": "code",
      "execution_count": null,
      "metadata": {
        "colab": {
          "base_uri": "https://localhost:8080/",
          "height": 516
        },
        "id": "ntU452bDhhHq",
        "outputId": "26918950-1376-4d0e-efbc-bc13daca8050"
      },
      "outputs": [
        {
          "data": {
            "image/png": "[encoded data removed]",
            "text/plain": [
              "<Figure size 640x480 with 1 Axes>"
            ]
          },
          "metadata": {},
          "output_type": "display_data"
        }
      ],
      "source": [
        "mpl_draw(\n",
        "    G, pos=pos, with_labels=True, node_color=\"#EE5396\", font_color=\"#F4F4F4\"\n",
        ")"
      ]
    },
    {
      "cell_type": "markdown",
      "metadata": {
        "id": "_3oMP8k6hkKx"
      },
      "source": [
        "#### Definición del Hamiltoniano\n",
        "\n",
        "El módulo QAOA de PennyLane tiene una colección de problemas de optimización incorporados, incluida la cobertura de vértice mínima. Para cada problema, puede recuperar el Hamiltoniano de coste, así como un Hamiltoniano mezclador recomendado."
      ]
    },
    {
      "cell_type": "code",
      "execution_count": null,
      "metadata": {
        "colab": {
          "base_uri": "https://localhost:8080/"
        },
        "id": "rXAwgW27SHMT",
        "outputId": "b0e51389-4b2f-42ca-ae5c-6fb2c6675506"
      },
      "outputs": [
        {
          "name": "stdout",
          "output_type": "stream",
          "text": [
            "Cost Hamiltonian 0.75 * (Z(0) @ Z(1)) + 0.75 * Z(0) + 0.75 * Z(1) + 0.75 * (Z(0) @ Z(2)) + 0.75 * Z(0) + 0.75 * Z(2) + 0.75 * (Z(0) @ Z(3)) + 0.75 * Z(0) + 0.75 * Z(3) + 0.75 * (Z(4) @ Z(1)) + 0.75 * Z(4) + 0.75 * Z(1) + 0.75 * (Z(4) @ Z(2)) + 0.75 * Z(4) + 0.75 * Z(2) + 0.75 * (Z(5) @ Z(3)) + 0.75 * Z(5) + 0.75 * Z(3) + -1.0 * Z(0) + -1.0 * Z(1) + -1.0 * Z(2) + -1.0 * Z(3) + -1.0 * Z(4) + -1.0 * Z(5)\n",
            "Mixer Hamiltonian 1 * X(0) + 1 * X(1) + 1 * X(2) + 1 * X(3) + 1 * X(4) + 1 * X(5)\n"
          ]
        }
      ],
      "source": [
        "cost_h, mixer_h = qaoa.min_vertex_cover(G, constrained=False)\n",
        "\n",
        "print(\"Cost Hamiltonian\", cost_h)\n",
        "print(\"Mixer Hamiltonian\", mixer_h)"
      ]
    },
    {
      "cell_type": "markdown",
      "metadata": {
        "id": "ps6Ah-vbh3hl"
      },
      "source": [
        "Creamos la capa que consiste en el circuito del QAOA que queremos repetir, especificando gamma y alpha como futuros parámetros."
      ]
    },
    {
      "cell_type": "code",
      "execution_count": null,
      "metadata": {
        "id": "yYIa4yzPSa0c"
      },
      "outputs": [],
      "source": [
        "def qaoa_layer(gamma, alpha):\n",
        "    qaoa.cost_layer(gamma, cost_h)\n",
        "    qaoa.mixer_layer(alpha, mixer_h)"
      ]
    },
    {
      "cell_type": "markdown",
      "metadata": {
        "id": "AXXFF8tkiC1e"
      },
      "source": [
        "#### Implementación del algoritmo QAOA\n",
        "Utilizaremos tantos qubits como personas en la red y como se ha definido en el problema, utilizaremos una profundidad del QAOA de 3. Luego definimos el circuito."
      ]
    },
    {
      "cell_type": "code",
      "execution_count": null,
      "metadata": {
        "id": "sJ8n7dYQSl2F"
      },
      "outputs": [],
      "source": [
        "wires = range(num_nodes)\n",
        "depth = 3\n",
        "\n",
        "def circuit(params, **kwargs):\n",
        "    for w in wires:\n",
        "        qml.Hadamard(wires=w)\n",
        "    qml.layer(qaoa_layer, depth, params[0], params[1])"
      ]
    },
    {
      "cell_type": "markdown",
      "metadata": {
        "id": "A7Kbjo-Xjdjo"
      },
      "source": [
        "La función de coste es el valor esperado de HC que queremos minimizar. Utilizamos la función expval() que devuelve el valor de la expectativa del Hamiltoniano con respecto al estado de salida del circuito. También definimos el dispositivo en el que se realiza la simulación."
      ]
    },
    {
      "cell_type": "code",
      "execution_count": null,
      "metadata": {
        "id": "JvbBZKecStLs"
      },
      "outputs": [],
      "source": [
        "dev = qml.device(\"qulacs.simulator\", wires=wires)\n",
        "\n",
        "@qml.qnode(dev)\n",
        "def cost_function(params):\n",
        "    circuit(params)\n",
        "    return qml.expval(cost_h)"
      ]
    },
    {
      "cell_type": "markdown",
      "metadata": {
        "id": "X0PpriQx8LZ6"
      },
      "source": [
        "La optimización la haremos con Gradient Descent que proporciona PennyLane. Se hará $70$ veces y el valor inicial que le daremos a alpha y gamma será de $0.5$."
      ]
    },
    {
      "cell_type": "code",
      "execution_count": null,
      "metadata": {
        "colab": {
          "base_uri": "https://localhost:8080/"
        },
        "id": "srdqLQTuStqm",
        "outputId": "548ad3fa-382f-46b8-9252-6489cb657f1b"
      },
      "outputs": [
        {
          "data": {
            "text/plain": [
              "[[0.5, 0.5, 0.5], [0.5, 0.5, 0.5]]"
            ]
          },
          "execution_count": 27,
          "metadata": {},
          "output_type": "execute_result"
        }
      ],
      "source": [
        "optimizer = qml.GradientDescentOptimizer()\n",
        "steps = 70\n",
        "gb = [[0.5]*depth] * 2\n",
        "params = npp.array(gb, requires_grad=True)\n",
        "gb"
      ]
    },
    {
      "cell_type": "markdown",
      "metadata": {
        "id": "xQx4vdZh8N7K"
      },
      "source": [
        "Tras unos minutos, obtenemos parámetros óptimos para cada capa del QAOA."
      ]
    },
    {
      "cell_type": "code",
      "execution_count": null,
      "metadata": {
        "colab": {
          "base_uri": "https://localhost:8080/"
        },
        "id": "Rda1VcjvSwYB",
        "outputId": "26558e1b-e07e-4797-cda7-4d4934548b49"
      },
      "outputs": [
        {
          "name": "stdout",
          "output_type": "stream",
          "text": [
            "Optimal Parameters\n",
            "[[0.54746346 0.4923788  0.86671131]\n",
            " [0.58571054 0.49269125 1.01184449]]\n"
          ]
        }
      ],
      "source": [
        "for _ in range(steps):\n",
        "  params = optimizer.step(cost_function, params)\n",
        "\n",
        "print(\"Optimal Parameters\")\n",
        "print(params)"
      ]
    },
    {
      "cell_type": "markdown",
      "metadata": {
        "id": "EKiEF2ir8du8"
      },
      "source": [
        "Con los parámetros óptimos, ahora podemos reconstruir el paisaje de probabilidades. Redefinimos el circuito QAOA completo con los parámetros óptimos, pero esta vez devolvemos las probabilidades de medir cada cadena de bits:"
      ]
    },
    {
      "cell_type": "code",
      "execution_count": null,
      "metadata": {
        "id": "vadnB3t-bMAD"
      },
      "outputs": [],
      "source": [
        "@qml.qnode(dev)\n",
        "def probability_circuit(gamma, alpha):\n",
        "    circuit([gamma, alpha])\n",
        "    return qml.probs(wires=wires)\n",
        "\n",
        "probs = probability_circuit(params[0], params[1])"
      ]
    },
    {
      "cell_type": "markdown",
      "metadata": {
        "id": "HfZk_Boe8guA"
      },
      "source": [
        "#### Resultados\n",
        "Podemos ver que obtenemos varias máximas."
      ]
    },
    {
      "cell_type": "code",
      "execution_count": null,
      "metadata": {
        "colab": {
          "base_uri": "https://localhost:8080/",
          "height": 539
        },
        "id": "C5zkae_9bOEO",
        "outputId": "24304335-b55f-42f6-8954-8b91da7de9b1"
      },
      "outputs": [
        {
          "name": "stderr",
          "output_type": "stream",
          "text": [
            "<ipython-input-30-327e102c19bb>:1: MatplotlibDeprecationWarning: The seaborn styles shipped by Matplotlib are deprecated since 3.6, as they no longer correspond to the styles shipped by seaborn. However, they will remain available as 'seaborn-v0_8-<style>'. Alternatively, directly use the seaborn API instead.\n",
            "  plt.style.use(\"seaborn\")\n"
          ]
        },
        {
          "data": {
            "image/png": "[encoded data removed]",
            "text/plain": [
              "<Figure size 800x550 with 1 Axes>"
            ]
          },
          "metadata": {},
          "output_type": "display_data"
        }
      ],
      "source": [
        "plt.style.use(\"seaborn\")\n",
        "plt.bar(range(2 ** len(wires)), probs)\n",
        "plt.show()"
      ]
    },
    {
      "cell_type": "markdown",
      "metadata": {
        "id": "Gfx9D4CX8mfc"
      },
      "source": [
        "Recordemos cuáles son los índices y la matriz de adyaciencia de las amistades."
      ]
    },
    {
      "cell_type": "code",
      "execution_count": null,
      "metadata": {
        "colab": {
          "base_uri": "https://localhost:8080/",
          "height": 237
        },
        "id": "0uDtMKdGdmL7",
        "outputId": "61ff1b14-8910-4eb8-bae2-0689fd713ae1"
      },
      "outputs": [
        {
          "data": {
            "application/vnd.google.colaboratory.intrinsic+json": {
              "summary": "{\n  \"name\": \"df_ady\",\n  \"rows\": 6,\n  \"fields\": [\n    {\n      \"column\": \"Mario\",\n      \"properties\": {\n        \"dtype\": \"number\",\n        \"std\": 0,\n        \"min\": 0,\n        \"max\": 1,\n        \"num_unique_values\": 2,\n        \"samples\": [\n          0,\n          1\n        ],\n        \"semantic_type\": \"\",\n        \"description\": \"\"\n      }\n    },\n    {\n      \"column\": \"Sarah\",\n      \"properties\": {\n        \"dtype\": \"number\",\n        \"std\": 0,\n        \"min\": 0,\n        \"max\": 1,\n        \"num_unique_values\": 2,\n        \"samples\": [\n          0,\n          1\n        ],\n        \"semantic_type\": \"\",\n        \"description\": \"\"\n      }\n    },\n    {\n      \"column\": \"Raul\",\n      \"properties\": {\n        \"dtype\": \"number\",\n        \"std\": 0,\n        \"min\": 0,\n        \"max\": 1,\n        \"num_unique_values\": 2,\n        \"samples\": [\n          0,\n          1\n        ],\n        \"semantic_type\": \"\",\n        \"description\": \"\"\n      }\n    },\n    {\n      \"column\": \"Ana\",\n      \"properties\": {\n        \"dtype\": \"number\",\n        \"std\": 0,\n        \"min\": 0,\n        \"max\": 1,\n        \"num_unique_values\": 2,\n        \"samples\": [\n          0,\n          1\n        ],\n        \"semantic_type\": \"\",\n        \"description\": \"\"\n      }\n    },\n    {\n      \"column\": \"Enrique\",\n      \"properties\": {\n        \"dtype\": \"number\",\n        \"std\": 0,\n        \"min\": 0,\n        \"max\": 1,\n        \"num_unique_values\": 2,\n        \"samples\": [\n          1,\n          0\n        ],\n        \"semantic_type\": \"\",\n        \"description\": \"\"\n      }\n    },\n    {\n      \"column\": \"Saul\",\n      \"properties\": {\n        \"dtype\": \"number\",\n        \"std\": 0,\n        \"min\": 0,\n        \"max\": 1,\n        \"num_unique_values\": 2,\n        \"samples\": [\n          1,\n          0\n        ],\n        \"semantic_type\": \"\",\n        \"description\": \"\"\n      }\n    }\n  ]\n}",
              "type": "dataframe",
              "variable_name": "df_ady"
            },
            "text/html": [
              "\n",
              "  <div id=\"df-e094e506-7d9f-4256-bdf8-9566ca0d2e6a\" class=\"colab-df-container\">\n",
              "    <div>\n",
              "<style scoped>\n",
              "    .dataframe tbody tr th:only-of-type {\n",
              "        vertical-align: middle;\n",
              "    }\n",
              "\n",
              "    .dataframe tbody tr th {\n",
              "        vertical-align: top;\n",
              "    }\n",
              "\n",
              "    .dataframe thead th {\n",
              "        text-align: right;\n",
              "    }\n",
              "</style>\n",
              "<table border=\"1\" class=\"dataframe\">\n",
              "  <thead>\n",
              "    <tr style=\"text-align: right;\">\n",
              "      <th></th>\n",
              "      <th>Mario</th>\n",
              "      <th>Sarah</th>\n",
              "      <th>Raul</th>\n",
              "      <th>Ana</th>\n",
              "      <th>Enrique</th>\n",
              "      <th>Saul</th>\n",
              "    </tr>\n",
              "  </thead>\n",
              "  <tbody>\n",
              "    <tr>\n",
              "      <th>Mario</th>\n",
              "      <td>1</td>\n",
              "      <td>1</td>\n",
              "      <td>1</td>\n",
              "      <td>1</td>\n",
              "      <td>0</td>\n",
              "      <td>0</td>\n",
              "    </tr>\n",
              "    <tr>\n",
              "      <th>Sarah</th>\n",
              "      <td>1</td>\n",
              "      <td>1</td>\n",
              "      <td>0</td>\n",
              "      <td>0</td>\n",
              "      <td>1</td>\n",
              "      <td>0</td>\n",
              "    </tr>\n",
              "    <tr>\n",
              "      <th>Raul</th>\n",
              "      <td>1</td>\n",
              "      <td>0</td>\n",
              "      <td>1</td>\n",
              "      <td>0</td>\n",
              "      <td>1</td>\n",
              "      <td>0</td>\n",
              "    </tr>\n",
              "    <tr>\n",
              "      <th>Ana</th>\n",
              "      <td>1</td>\n",
              "      <td>0</td>\n",
              "      <td>0</td>\n",
              "      <td>1</td>\n",
              "      <td>0</td>\n",
              "      <td>1</td>\n",
              "    </tr>\n",
              "    <tr>\n",
              "      <th>Enrique</th>\n",
              "      <td>0</td>\n",
              "      <td>1</td>\n",
              "      <td>1</td>\n",
              "      <td>0</td>\n",
              "      <td>1</td>\n",
              "      <td>0</td>\n",
              "    </tr>\n",
              "    <tr>\n",
              "      <th>Saul</th>\n",
              "      <td>0</td>\n",
              "      <td>0</td>\n",
              "      <td>0</td>\n",
              "      <td>1</td>\n",
              "      <td>0</td>\n",
              "      <td>1</td>\n",
              "    </tr>\n",
              "  </tbody>\n",
              "</table>\n",
              "</div>\n",
              "    <div class=\"colab-df-buttons\">\n",
              "\n",
              "  <div class=\"colab-df-container\">\n",
              "    <button class=\"colab-df-convert\" onclick=\"convertToInteractive('df-e094e506-7d9f-4256-bdf8-9566ca0d2e6a')\"\n",
              "            title=\"Convert this dataframe to an interactive table.\"\n",
              "            style=\"display:none;\">\n",
              "\n",
              "  <svg xmlns=\"http://www.w3.org/2000/svg\" height=\"24px\" viewBox=\"0 -960 960 960\">\n",
              "    <path d=\"M120-120v-720h720v720H120Zm60-500h600v-160H180v160Zm220 220h160v-160H400v160Zm0 220h160v-160H400v160ZM180-400h160v-160H180v160Zm440 0h160v-160H620v160ZM180-180h160v-160H180v160Zm440 0h160v-160H620v160Z\"/>\n",
              "  </svg>\n",
              "    </button>\n",
              "\n",
              "  <style>\n",
              "    .colab-df-container {\n",
              "      display:flex;\n",
              "      gap: 12px;\n",
              "    }\n",
              "\n",
              "    .colab-df-convert {\n",
              "      background-color: #E8F0FE;\n",
              "      border: none;\n",
              "      border-radius: 50%;\n",
              "      cursor: pointer;\n",
              "      display: none;\n",
              "      fill: #1967D2;\n",
              "      height: 32px;\n",
              "      padding: 0 0 0 0;\n",
              "      width: 32px;\n",
              "    }\n",
              "\n",
              "    .colab-df-convert:hover {\n",
              "      background-color: #E2EBFA;\n",
              "      box-shadow: 0px 1px 2px rgba(60, 64, 67, 0.3), 0px 1px 3px 1px rgba(60, 64, 67, 0.15);\n",
              "      fill: #174EA6;\n",
              "    }\n",
              "\n",
              "    .colab-df-buttons div {\n",
              "      margin-bottom: 4px;\n",
              "    }\n",
              "\n",
              "    [theme=dark] .colab-df-convert {\n",
              "      background-color: #3B4455;\n",
              "      fill: #D2E3FC;\n",
              "    }\n",
              "\n",
              "    [theme=dark] .colab-df-convert:hover {\n",
              "      background-color: #434B5C;\n",
              "      box-shadow: 0px 1px 3px 1px rgba(0, 0, 0, 0.15);\n",
              "      filter: drop-shadow(0px 1px 2px rgba(0, 0, 0, 0.3));\n",
              "      fill: #FFFFFF;\n",
              "    }\n",
              "  </style>\n",
              "\n",
              "    <script>\n",
              "      const buttonEl =\n",
              "        document.querySelector('#df-e094e506-7d9f-4256-bdf8-9566ca0d2e6a button.colab-df-convert');\n",
              "      buttonEl.style.display =\n",
              "        google.colab.kernel.accessAllowed ? 'block' : 'none';\n",
              "\n",
              "      async function convertToInteractive(key) {\n",
              "        const element = document.querySelector('#df-e094e506-7d9f-4256-bdf8-9566ca0d2e6a');\n",
              "        const dataTable =\n",
              "          await google.colab.kernel.invokeFunction('convertToInteractive',\n",
              "                                                    [key], {});\n",
              "        if (!dataTable) return;\n",
              "\n",
              "        const docLinkHtml = 'Like what you see? Visit the ' +\n",
              "          '<a target=\"_blank\" href=https://colab.research.google.com/notebooks/data_table.ipynb>data table notebook</a>'\n",
              "          + ' to learn more about interactive tables.';\n",
              "        element.innerHTML = '';\n",
              "        dataTable['output_type'] = 'display_data';\n",
              "        await google.colab.output.renderOutput(dataTable, element);\n",
              "        const docLink = document.createElement('div');\n",
              "        docLink.innerHTML = docLinkHtml;\n",
              "        element.appendChild(docLink);\n",
              "      }\n",
              "    </script>\n",
              "  </div>\n",
              "\n",
              "\n",
              "<div id=\"df-168d113b-3d2d-4a60-bf50-3b483a08cb39\">\n",
              "  <button class=\"colab-df-quickchart\" onclick=\"quickchart('df-168d113b-3d2d-4a60-bf50-3b483a08cb39')\"\n",
              "            title=\"Suggest charts\"\n",
              "            style=\"display:none;\">\n",
              "\n",
              "<svg xmlns=\"http://www.w3.org/2000/svg\" height=\"24px\"viewBox=\"0 0 24 24\"\n",
              "     width=\"24px\">\n",
              "    <g>\n",
              "        <path d=\"M19 3H5c-1.1 0-2 .9-2 2v14c0 1.1.9 2 2 2h14c1.1 0 2-.9 2-2V5c0-1.1-.9-2-2-2zM9 17H7v-7h2v7zm4 0h-2V7h2v10zm4 0h-2v-4h2v4z\"/>\n",
              "    </g>\n",
              "</svg>\n",
              "  </button>\n",
              "\n",
              "<style>\n",
              "  .colab-df-quickchart {\n",
              "      --bg-color: #E8F0FE;\n",
              "      --fill-color: #1967D2;\n",
              "      --hover-bg-color: #E2EBFA;\n",
              "      --hover-fill-color: #174EA6;\n",
              "      --disabled-fill-color: #AAA;\n",
              "      --disabled-bg-color: #DDD;\n",
              "  }\n",
              "\n",
              "  [theme=dark] .colab-df-quickchart {\n",
              "      --bg-color: #3B4455;\n",
              "      --fill-color: #D2E3FC;\n",
              "      --hover-bg-color: #434B5C;\n",
              "      --hover-fill-color: #FFFFFF;\n",
              "      --disabled-bg-color: #3B4455;\n",
              "      --disabled-fill-color: #666;\n",
              "  }\n",
              "\n",
              "  .colab-df-quickchart {\n",
              "    background-color: var(--bg-color);\n",
              "    border: none;\n",
              "    border-radius: 50%;\n",
              "    cursor: pointer;\n",
              "    display: none;\n",
              "    fill: var(--fill-color);\n",
              "    height: 32px;\n",
              "    padding: 0;\n",
              "    width: 32px;\n",
              "  }\n",
              "\n",
              "  .colab-df-quickchart:hover {\n",
              "    background-color: var(--hover-bg-color);\n",
              "    box-shadow: 0 1px 2px rgba(60, 64, 67, 0.3), 0 1px 3px 1px rgba(60, 64, 67, 0.15);\n",
              "    fill: var(--button-hover-fill-color);\n",
              "  }\n",
              "\n",
              "  .colab-df-quickchart-complete:disabled,\n",
              "  .colab-df-quickchart-complete:disabled:hover {\n",
              "    background-color: var(--disabled-bg-color);\n",
              "    fill: var(--disabled-fill-color);\n",
              "    box-shadow: none;\n",
              "  }\n",
              "\n",
              "  .colab-df-spinner {\n",
              "    border: 2px solid var(--fill-color);\n",
              "    border-color: transparent;\n",
              "    border-bottom-color: var(--fill-color);\n",
              "    animation:\n",
              "      spin 1s steps(1) infinite;\n",
              "  }\n",
              "\n",
              "  @keyframes spin {\n",
              "    0% {\n",
              "      border-color: transparent;\n",
              "      border-bottom-color: var(--fill-color);\n",
              "      border-left-color: var(--fill-color);\n",
              "    }\n",
              "    20% {\n",
              "      border-color: transparent;\n",
              "      border-left-color: var(--fill-color);\n",
              "      border-top-color: var(--fill-color);\n",
              "    }\n",
              "    30% {\n",
              "      border-color: transparent;\n",
              "      border-left-color: var(--fill-color);\n",
              "      border-top-color: var(--fill-color);\n",
              "      border-right-color: var(--fill-color);\n",
              "    }\n",
              "    40% {\n",
              "      border-color: transparent;\n",
              "      border-right-color: var(--fill-color);\n",
              "      border-top-color: var(--fill-color);\n",
              "    }\n",
              "    60% {\n",
              "      border-color: transparent;\n",
              "      border-right-color: var(--fill-color);\n",
              "    }\n",
              "    80% {\n",
              "      border-color: transparent;\n",
              "      border-right-color: var(--fill-color);\n",
              "      border-bottom-color: var(--fill-color);\n",
              "    }\n",
              "    90% {\n",
              "      border-color: transparent;\n",
              "      border-bottom-color: var(--fill-color);\n",
              "    }\n",
              "  }\n",
              "</style>\n",
              "\n",
              "  <script>\n",
              "    async function quickchart(key) {\n",
              "      const quickchartButtonEl =\n",
              "        document.querySelector('#' + key + ' button');\n",
              "      quickchartButtonEl.disabled = true;  // To prevent multiple clicks.\n",
              "      quickchartButtonEl.classList.add('colab-df-spinner');\n",
              "      try {\n",
              "        const charts = await google.colab.kernel.invokeFunction(\n",
              "            'suggestCharts', [key], {});\n",
              "      } catch (error) {\n",
              "        console.error('Error during call to suggestCharts:', error);\n",
              "      }\n",
              "      quickchartButtonEl.classList.remove('colab-df-spinner');\n",
              "      quickchartButtonEl.classList.add('colab-df-quickchart-complete');\n",
              "    }\n",
              "    (() => {\n",
              "      let quickchartButtonEl =\n",
              "        document.querySelector('#df-168d113b-3d2d-4a60-bf50-3b483a08cb39 button');\n",
              "      quickchartButtonEl.style.display =\n",
              "        google.colab.kernel.accessAllowed ? 'block' : 'none';\n",
              "    })();\n",
              "  </script>\n",
              "</div>\n",
              "    </div>\n",
              "  </div>\n"
            ],
            "text/plain": [
              "         Mario  Sarah  Raul  Ana  Enrique  Saul\n",
              "Mario        1      1     1    1        0     0\n",
              "Sarah        1      1     0    0        1     0\n",
              "Raul         1      0     1    0        1     0\n",
              "Ana          1      0     0    1        0     1\n",
              "Enrique      0      1     1    0        1     0\n",
              "Saul         0      0     0    1        0     1"
            ]
          },
          "execution_count": 31,
          "metadata": {},
          "output_type": "execute_result"
        }
      ],
      "source": [
        "df_ady = pd.DataFrame(matriz_adyacencia, columns=personas.keys(), index=personas.keys())\n",
        "df_ady"
      ]
    },
    {
      "cell_type": "markdown",
      "metadata": {
        "id": "mPwZL5we8sYj"
      },
      "source": [
        "Visualizando los resultados y ordenándolos por mayor probabilidad, vemos que aquellas probabilidades máximas son aquellas con el mínimo número de vértices."
      ]
    },
    {
      "cell_type": "code",
      "execution_count": null,
      "metadata": {
        "colab": {
          "base_uri": "https://localhost:8080/",
          "height": 455
        },
        "id": "0egz6eFAcZYy",
        "outputId": "1c40e88d-7b85-47ec-c8fe-978fe551fbfd"
      },
      "outputs": [
        {
          "data": {
            "application/vnd.google.colaboratory.intrinsic+json": {
              "summary": "{\n  \"name\": \"df\",\n  \"rows\": 64,\n  \"fields\": [\n    {\n      \"column\": \"Result\",\n      \"properties\": {\n        \"dtype\": \"number\",\n        \"std\": 18,\n        \"min\": 0,\n        \"max\": 63,\n        \"num_unique_values\": 64,\n        \"samples\": [\n          27,\n          21,\n          38\n        ],\n        \"semantic_type\": \"\",\n        \"description\": \"\"\n      }\n    },\n    {\n      \"column\": \"Probability\",\n      \"properties\": {\n        \"dtype\": \"number\",\n        \"std\": 0.020964407234134872,\n        \"min\": 1.5523906995184948e-05,\n        \"max\": 0.08992792118919095,\n        \"num_unique_values\": 61,\n        \"samples\": [\n          0.08992792118919095,\n          0.053935215206451975,\n          0.0026365113525720595\n        ],\n        \"semantic_type\": \"\",\n        \"description\": \"\"\n      }\n    },\n    {\n      \"column\": \"Binary\",\n      \"properties\": {\n        \"dtype\": \"string\",\n        \"num_unique_values\": 64,\n        \"samples\": [\n          \"011011\",\n          \"010101\",\n          \"100110\"\n        ],\n        \"semantic_type\": \"\",\n        \"description\": \"\"\n      }\n    }\n  ]\n}",
              "type": "dataframe",
              "variable_name": "df"
            },
            "text/html": [
              "\n",
              "  <div id=\"df-7e21c251-97f6-4bf0-8d2e-54767ad3aa1d\" class=\"colab-df-container\">\n",
              "    <div>\n",
              "<style scoped>\n",
              "    .dataframe tbody tr th:only-of-type {\n",
              "        vertical-align: middle;\n",
              "    }\n",
              "\n",
              "    .dataframe tbody tr th {\n",
              "        vertical-align: top;\n",
              "    }\n",
              "\n",
              "    .dataframe thead th {\n",
              "        text-align: right;\n",
              "    }\n",
              "</style>\n",
              "<table border=\"1\" class=\"dataframe\">\n",
              "  <thead>\n",
              "    <tr style=\"text-align: right;\">\n",
              "      <th></th>\n",
              "      <th>Probability</th>\n",
              "      <th>Binary</th>\n",
              "    </tr>\n",
              "    <tr>\n",
              "      <th>Result</th>\n",
              "      <th></th>\n",
              "      <th></th>\n",
              "    </tr>\n",
              "  </thead>\n",
              "  <tbody>\n",
              "    <tr>\n",
              "      <th>38</th>\n",
              "      <td>0.089928</td>\n",
              "      <td>100110</td>\n",
              "    </tr>\n",
              "    <tr>\n",
              "      <th>34</th>\n",
              "      <td>0.083166</td>\n",
              "      <td>100010</td>\n",
              "    </tr>\n",
              "    <tr>\n",
              "      <th>60</th>\n",
              "      <td>0.081857</td>\n",
              "      <td>111100</td>\n",
              "    </tr>\n",
              "    <tr>\n",
              "      <th>6</th>\n",
              "      <td>0.063780</td>\n",
              "      <td>000110</td>\n",
              "    </tr>\n",
              "    <tr>\n",
              "      <th>58</th>\n",
              "      <td>0.059469</td>\n",
              "      <td>111010</td>\n",
              "    </tr>\n",
              "    <tr>\n",
              "      <th>...</th>\n",
              "      <td>...</td>\n",
              "      <td>...</td>\n",
              "    </tr>\n",
              "    <tr>\n",
              "      <th>13</th>\n",
              "      <td>0.000483</td>\n",
              "      <td>001101</td>\n",
              "    </tr>\n",
              "    <tr>\n",
              "      <th>8</th>\n",
              "      <td>0.000256</td>\n",
              "      <td>001000</td>\n",
              "    </tr>\n",
              "    <tr>\n",
              "      <th>16</th>\n",
              "      <td>0.000256</td>\n",
              "      <td>010000</td>\n",
              "    </tr>\n",
              "    <tr>\n",
              "      <th>53</th>\n",
              "      <td>0.000016</td>\n",
              "      <td>110101</td>\n",
              "    </tr>\n",
              "    <tr>\n",
              "      <th>45</th>\n",
              "      <td>0.000016</td>\n",
              "      <td>101101</td>\n",
              "    </tr>\n",
              "  </tbody>\n",
              "</table>\n",
              "<p>64 rows × 2 columns</p>\n",
              "</div>\n",
              "    <div class=\"colab-df-buttons\">\n",
              "\n",
              "  <div class=\"colab-df-container\">\n",
              "    <button class=\"colab-df-convert\" onclick=\"convertToInteractive('df-7e21c251-97f6-4bf0-8d2e-54767ad3aa1d')\"\n",
              "            title=\"Convert this dataframe to an interactive table.\"\n",
              "            style=\"display:none;\">\n",
              "\n",
              "  <svg xmlns=\"http://www.w3.org/2000/svg\" height=\"24px\" viewBox=\"0 -960 960 960\">\n",
              "    <path d=\"M120-120v-720h720v720H120Zm60-500h600v-160H180v160Zm220 220h160v-160H400v160Zm0 220h160v-160H400v160ZM180-400h160v-160H180v160Zm440 0h160v-160H620v160ZM180-180h160v-160H180v160Zm440 0h160v-160H620v160Z\"/>\n",
              "  </svg>\n",
              "    </button>\n",
              "\n",
              "  <style>\n",
              "    .colab-df-container {\n",
              "      display:flex;\n",
              "      gap: 12px;\n",
              "    }\n",
              "\n",
              "    .colab-df-convert {\n",
              "      background-color: #E8F0FE;\n",
              "      border: none;\n",
              "      border-radius: 50%;\n",
              "      cursor: pointer;\n",
              "      display: none;\n",
              "      fill: #1967D2;\n",
              "      height: 32px;\n",
              "      padding: 0 0 0 0;\n",
              "      width: 32px;\n",
              "    }\n",
              "\n",
              "    .colab-df-convert:hover {\n",
              "      background-color: #E2EBFA;\n",
              "      box-shadow: 0px 1px 2px rgba(60, 64, 67, 0.3), 0px 1px 3px 1px rgba(60, 64, 67, 0.15);\n",
              "      fill: #174EA6;\n",
              "    }\n",
              "\n",
              "    .colab-df-buttons div {\n",
              "      margin-bottom: 4px;\n",
              "    }\n",
              "\n",
              "    [theme=dark] .colab-df-convert {\n",
              "      background-color: #3B4455;\n",
              "      fill: #D2E3FC;\n",
              "    }\n",
              "\n",
              "    [theme=dark] .colab-df-convert:hover {\n",
              "      background-color: #434B5C;\n",
              "      box-shadow: 0px 1px 3px 1px rgba(0, 0, 0, 0.15);\n",
              "      filter: drop-shadow(0px 1px 2px rgba(0, 0, 0, 0.3));\n",
              "      fill: #FFFFFF;\n",
              "    }\n",
              "  </style>\n",
              "\n",
              "    <script>\n",
              "      const buttonEl =\n",
              "        document.querySelector('#df-7e21c251-97f6-4bf0-8d2e-54767ad3aa1d button.colab-df-convert');\n",
              "      buttonEl.style.display =\n",
              "        google.colab.kernel.accessAllowed ? 'block' : 'none';\n",
              "\n",
              "      async function convertToInteractive(key) {\n",
              "        const element = document.querySelector('#df-7e21c251-97f6-4bf0-8d2e-54767ad3aa1d');\n",
              "        const dataTable =\n",
              "          await google.colab.kernel.invokeFunction('convertToInteractive',\n",
              "                                                    [key], {});\n",
              "        if (!dataTable) return;\n",
              "\n",
              "        const docLinkHtml = 'Like what you see? Visit the ' +\n",
              "          '<a target=\"_blank\" href=https://colab.research.google.com/notebooks/data_table.ipynb>data table notebook</a>'\n",
              "          + ' to learn more about interactive tables.';\n",
              "        element.innerHTML = '';\n",
              "        dataTable['output_type'] = 'display_data';\n",
              "        await google.colab.output.renderOutput(dataTable, element);\n",
              "        const docLink = document.createElement('div');\n",
              "        docLink.innerHTML = docLinkHtml;\n",
              "        element.appendChild(docLink);\n",
              "      }\n",
              "    </script>\n",
              "  </div>\n",
              "\n",
              "\n",
              "<div id=\"df-1914ac6a-c0eb-492a-b159-c9b0e69d84ca\">\n",
              "  <button class=\"colab-df-quickchart\" onclick=\"quickchart('df-1914ac6a-c0eb-492a-b159-c9b0e69d84ca')\"\n",
              "            title=\"Suggest charts\"\n",
              "            style=\"display:none;\">\n",
              "\n",
              "<svg xmlns=\"http://www.w3.org/2000/svg\" height=\"24px\"viewBox=\"0 0 24 24\"\n",
              "     width=\"24px\">\n",
              "    <g>\n",
              "        <path d=\"M19 3H5c-1.1 0-2 .9-2 2v14c0 1.1.9 2 2 2h14c1.1 0 2-.9 2-2V5c0-1.1-.9-2-2-2zM9 17H7v-7h2v7zm4 0h-2V7h2v10zm4 0h-2v-4h2v4z\"/>\n",
              "    </g>\n",
              "</svg>\n",
              "  </button>\n",
              "\n",
              "<style>\n",
              "  .colab-df-quickchart {\n",
              "      --bg-color: #E8F0FE;\n",
              "      --fill-color: #1967D2;\n",
              "      --hover-bg-color: #E2EBFA;\n",
              "      --hover-fill-color: #174EA6;\n",
              "      --disabled-fill-color: #AAA;\n",
              "      --disabled-bg-color: #DDD;\n",
              "  }\n",
              "\n",
              "  [theme=dark] .colab-df-quickchart {\n",
              "      --bg-color: #3B4455;\n",
              "      --fill-color: #D2E3FC;\n",
              "      --hover-bg-color: #434B5C;\n",
              "      --hover-fill-color: #FFFFFF;\n",
              "      --disabled-bg-color: #3B4455;\n",
              "      --disabled-fill-color: #666;\n",
              "  }\n",
              "\n",
              "  .colab-df-quickchart {\n",
              "    background-color: var(--bg-color);\n",
              "    border: none;\n",
              "    border-radius: 50%;\n",
              "    cursor: pointer;\n",
              "    display: none;\n",
              "    fill: var(--fill-color);\n",
              "    height: 32px;\n",
              "    padding: 0;\n",
              "    width: 32px;\n",
              "  }\n",
              "\n",
              "  .colab-df-quickchart:hover {\n",
              "    background-color: var(--hover-bg-color);\n",
              "    box-shadow: 0 1px 2px rgba(60, 64, 67, 0.3), 0 1px 3px 1px rgba(60, 64, 67, 0.15);\n",
              "    fill: var(--button-hover-fill-color);\n",
              "  }\n",
              "\n",
              "  .colab-df-quickchart-complete:disabled,\n",
              "  .colab-df-quickchart-complete:disabled:hover {\n",
              "    background-color: var(--disabled-bg-color);\n",
              "    fill: var(--disabled-fill-color);\n",
              "    box-shadow: none;\n",
              "  }\n",
              "\n",
              "  .colab-df-spinner {\n",
              "    border: 2px solid var(--fill-color);\n",
              "    border-color: transparent;\n",
              "    border-bottom-color: var(--fill-color);\n",
              "    animation:\n",
              "      spin 1s steps(1) infinite;\n",
              "  }\n",
              "\n",
              "  @keyframes spin {\n",
              "    0% {\n",
              "      border-color: transparent;\n",
              "      border-bottom-color: var(--fill-color);\n",
              "      border-left-color: var(--fill-color);\n",
              "    }\n",
              "    20% {\n",
              "      border-color: transparent;\n",
              "      border-left-color: var(--fill-color);\n",
              "      border-top-color: var(--fill-color);\n",
              "    }\n",
              "    30% {\n",
              "      border-color: transparent;\n",
              "      border-left-color: var(--fill-color);\n",
              "      border-top-color: var(--fill-color);\n",
              "      border-right-color: var(--fill-color);\n",
              "    }\n",
              "    40% {\n",
              "      border-color: transparent;\n",
              "      border-right-color: var(--fill-color);\n",
              "      border-top-color: var(--fill-color);\n",
              "    }\n",
              "    60% {\n",
              "      border-color: transparent;\n",
              "      border-right-color: var(--fill-color);\n",
              "    }\n",
              "    80% {\n",
              "      border-color: transparent;\n",
              "      border-right-color: var(--fill-color);\n",
              "      border-bottom-color: var(--fill-color);\n",
              "    }\n",
              "    90% {\n",
              "      border-color: transparent;\n",
              "      border-bottom-color: var(--fill-color);\n",
              "    }\n",
              "  }\n",
              "</style>\n",
              "\n",
              "  <script>\n",
              "    async function quickchart(key) {\n",
              "      const quickchartButtonEl =\n",
              "        document.querySelector('#' + key + ' button');\n",
              "      quickchartButtonEl.disabled = true;  // To prevent multiple clicks.\n",
              "      quickchartButtonEl.classList.add('colab-df-spinner');\n",
              "      try {\n",
              "        const charts = await google.colab.kernel.invokeFunction(\n",
              "            'suggestCharts', [key], {});\n",
              "      } catch (error) {\n",
              "        console.error('Error during call to suggestCharts:', error);\n",
              "      }\n",
              "      quickchartButtonEl.classList.remove('colab-df-spinner');\n",
              "      quickchartButtonEl.classList.add('colab-df-quickchart-complete');\n",
              "    }\n",
              "    (() => {\n",
              "      let quickchartButtonEl =\n",
              "        document.querySelector('#df-1914ac6a-c0eb-492a-b159-c9b0e69d84ca button');\n",
              "      quickchartButtonEl.style.display =\n",
              "        google.colab.kernel.accessAllowed ? 'block' : 'none';\n",
              "    })();\n",
              "  </script>\n",
              "</div>\n",
              "    </div>\n",
              "  </div>\n"
            ],
            "text/plain": [
              "        Probability  Binary\n",
              "Result                     \n",
              "38         0.089928  100110\n",
              "34         0.083166  100010\n",
              "60         0.081857  111100\n",
              "6          0.063780  000110\n",
              "58         0.059469  111010\n",
              "...             ...     ...\n",
              "13         0.000483  001101\n",
              "8          0.000256  001000\n",
              "16         0.000256  010000\n",
              "53         0.000016  110101\n",
              "45         0.000016  101101\n",
              "\n",
              "[64 rows x 2 columns]"
            ]
          },
          "execution_count": 32,
          "metadata": {},
          "output_type": "execute_result"
        }
      ],
      "source": [
        "df = pd.DataFrame(probs, columns=['Probability'])\n",
        "df.index.names = ['Result']\n",
        "df['Binary'] = df.index.map(lambda x: format(x, '0{}b'.format(num_nodes)))\n",
        "df = df.sort_values('Probability', ascending=False)\n",
        "df"
      ]
    },
    {
      "cell_type": "markdown",
      "source": [
        "Vemos que conseguimos una de las mejores opciones con más probabilidad. Para poder conseguir el mejor resultado que sería el nodo 3 y 4, el cual está en 4a posición, se debería añadir más capas."
      ],
      "metadata": {
        "id": "vN053NgG48Mx"
      }
    },
    {
      "cell_type": "markdown",
      "source": [
        "## Conclusiones\n",
        "\n",
        "Vemos que hemos sido capaces de resolver el problema de forma manual o con funciones ya implementadas. Hemos podido implementar el QAOA utlizando PennyLane y aplicado un algoritmo de optimización para los parámetros alpha y gamma.\n",
        "\n",
        "Además el código presentado está diseñado para cualquier tipo de input, ya sean cadenas de texto o números."
      ],
      "metadata": {
        "id": "2X2Bo4E25PR2"
      }
    }
  ],
  "metadata": {
    "colab": {
      "toc_visible": true,
      "provenance": []
    },
    "kernelspec": {
      "display_name": "Python 3",
      "name": "python3"
    },
    "language_info": {
      "name": "python"
    }
  },
  "nbformat": 4,
  "nbformat_minor": 0
}